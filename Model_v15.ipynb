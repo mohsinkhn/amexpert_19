{
 "cells": [
  {
   "cell_type": "code",
   "execution_count": 1,
   "metadata": {},
   "outputs": [],
   "source": [
    "import numpy as np\n",
    "import pandas as pd\n",
    "import json\n",
    "import joblib\n",
    "\n",
    "import matplotlib.pyplot as plt\n",
    "import seaborn as sns\n",
    "from sklearn.metrics import roc_auc_score\n",
    "import lightgbm as lgb\n",
    "from mllib.params import FieldNames, FileNames\n",
    "from mllib.utils import load_pickle\n",
    "from mllib.transformers import ListLen, SetLen, ListAggregation"
   ]
  },
  {
   "cell_type": "code",
   "execution_count": 2,
   "metadata": {},
   "outputs": [],
   "source": [
    "def make_x_y(x_tr, x_val, flag='val'):\n",
    "    y_tr = x_tr['redemption_status'].values\n",
    "\n",
    "    if flag == 'val':\n",
    "        y_val = x_val['redemption_status'].values\n",
    "    else:\n",
    "        y_val = None\n",
    "    return x_tr, y_tr, x_val, y_val\n",
    "\n",
    "\n",
    "def get_rank_features(df):\n",
    "    df['cust_coupon_rank1'] = df.groupby(['customer_id', 'campaign_id'])['common_item_set_0'].rank('max')/df['customer_campaign_count']\n",
    "    df['cust_coupon_rank2'] = df.groupby(['customer_id', 'campaign_id'])['common_item_set_1'].rank('max')/df['customer_campaign_count']\n",
    "    df['cust_coupon_rank3'] = df.groupby(['customer_id', 'campaign_id'])['common_item_set_2'].rank('max')/df['customer_campaign_count']\n",
    "    #df['cust_coupon_rank4'] = df.groupby(['customer_id', 'campaign_id'])['common_brand_0'].rank('max')/df['customer_campaign_count']\n",
    "    #df['cust_coupon_rank5'] = df.groupby(['customer_id', 'campaign_id'])['common_brand_1'].rank('max')/df['customer_campaign_count']\n",
    "    #df['cust_coupon_rank6'] = df.groupby(['customer_id', 'campaign_id'])['common_brand_2'].rank('max')/df['customer_campaign_count']\n",
    "\n",
    "    df['customer_rank1'] = df.groupby(['customer_id'])['common_item_set_0'].rank('max')/df.groupby('customer_id').size()\n",
    "    df['customer_rank2'] = df.groupby(['customer_id'])['common_brand_0'].rank('max')/df.groupby('customer_id').size()\n",
    "    df['customer_rank3'] = df.groupby(['customer_id'])['common_category_0'].rank('max')/df.groupby('customer_id').size()\n",
    "\n",
    "    # df['customer_rank4'] = df.groupby(['customer_id'])['common_brand_1'].rank('max')/df.groupby('customer_id').size()\n",
    "    # df['customer_rank3'] = df.groupby(['customer_id'])['common_item_set_2'].rank('max')/df.groupby('customer_id').size()\n",
    "    df['campaign_rank1'] = df.groupby(['campaign_id'])['common_item_set_0'].rank('max')/df.groupby('campaign_id').size()\n",
    "    df['campaign_rank2'] = df.groupby(['campaign_id'])['common_brand_0'].rank('max')/df.groupby('campaign_id').size()\n",
    "\n",
    "    #df['campaign_rank2'] = df.groupby(['campaign_id'])['common_item_set_1'].rank('max')/df.groupby('campaign_id').size()\n",
    "    #df['campaign_rank3'] = df.groupby(['campaign_id'])['common_item_set_2'].rank('max')/df.groupby('campaign_id').size()\n",
    "    #df['coupon_rank1'] = df.groupby(['coupon_id'])['common_item_set_0'].rank('max')/df.groupby('coupon_id').size()\n",
    "    df['coupon_rank1'] = df.groupby(['coupon_id'])['common_brand_0'].rank('max')/df.groupby('coupon_id').size()\n",
    "    #df['coupon_rank2'] = df.groupby(['coupon_id'])['common_category_0'].rank('max')/df.groupby('coupon_id').size()\n",
    "    #df['coupon_rank2'] = df.groupby(['coupon_id'])['common_item_set_1'].rank('max')/df.groupby('coupon_id').size()\n",
    "\n",
    "    return df\n",
    "\n",
    "\n",
    "def load_data(flag='val'):\n",
    "    if flag == 'val':\n",
    "        x_tr = load_pickle(FileNames.tr_features_v3)\n",
    "        x_val = load_pickle(FileNames.val_features_v3)\n",
    "    elif flag == 'test':\n",
    "        x_tr = load_pickle(FileNames.train_features_v3)\n",
    "        x_val = load_pickle(FileNames.test_features_v3)\n",
    "    \n",
    "    return make_x_y(x_tr, x_val, flag=flag)\n",
    "\n",
    "\n",
    "def map_campign_id(x_tr, x_val, flag='val'):\n",
    "    if flag == 'val':\n",
    "        tr = load_pickle(FileNames.tr_v2)\n",
    "        val = load_pickle(FileNames.val_v2)\n",
    "    elif flag == 'test':\n",
    "        tr = load_pickle(FileNames.train_v2)\n",
    "        val = load_pickle(FileNames.test_v2)\n",
    "        \n",
    "    x_tr['campaign_id'] = tr['campaign_id'].values\n",
    "    x_val['campaign_id'] = val['campaign_id'].values\n",
    "    return x_tr, x_val"
   ]
  },
  {
   "cell_type": "code",
   "execution_count": 3,
   "metadata": {},
   "outputs": [],
   "source": [
    "from mllib.targetencoder import TargetEncoderWithThresh"
   ]
  },
  {
   "cell_type": "code",
   "execution_count": 4,
   "metadata": {},
   "outputs": [],
   "source": [
    "x_tr, y_tr, x_val, y_val = load_data('val')\n",
    "x_tr, x_val = map_campign_id(x_tr, x_val, 'val')"
   ]
  },
  {
   "cell_type": "code",
   "execution_count": 5,
   "metadata": {},
   "outputs": [
    {
     "data": {
      "text/plain": [
       "387"
      ]
     },
     "execution_count": 5,
     "metadata": {},
     "output_type": "execute_result"
    }
   ],
   "source": [
    "n_feats = x_tr.shape[1] - 1\n",
    "n_feats"
   ]
  },
  {
   "cell_type": "code",
   "execution_count": 6,
   "metadata": {},
   "outputs": [],
   "source": [
    "x_tr = get_rank_features(x_tr)\n",
    "x_val = get_rank_features(x_val)"
   ]
  },
  {
   "cell_type": "code",
   "execution_count": 7,
   "metadata": {},
   "outputs": [],
   "source": [
    "y_tr = y_tr[x_tr.coupon_id != 8]\n",
    "x_tr = x_tr.loc[x_tr.coupon_id != 8]\n"
   ]
  },
  {
   "cell_type": "code",
   "execution_count": 8,
   "metadata": {},
   "outputs": [],
   "source": [
    "x_tr['common_brand_0'] = x_tr['common_brand_0']/len(x_tr)\n",
    "x_val['common_brand_0'] = x_val['common_brand_0']/(len(x_tr) + len(x_val))\n",
    "\n",
    "x_tr['common_item_set_0'] = x_tr['common_item_set_0']/len(x_tr)\n",
    "x_val['common_item_set_0'] = x_val['common_item_set_0']/(len(x_tr) + len(x_val))"
   ]
  },
  {
   "cell_type": "code",
   "execution_count": 10,
   "metadata": {
    "scrolled": true
   },
   "outputs": [
    {
     "name": "stdout",
     "output_type": "stream",
     "text": [
      "Training until validation scores don't improve for 1000 rounds\n",
      "[50]\tvalid_0's auc: 0.897356\tvalid_1's auc: 0.907888\n",
      "[100]\tvalid_0's auc: 0.900949\tvalid_1's auc: 0.911954\n",
      "[150]\tvalid_0's auc: 0.902191\tvalid_1's auc: 0.913071\n",
      "[200]\tvalid_0's auc: 0.905332\tvalid_1's auc: 0.915849\n",
      "[250]\tvalid_0's auc: 0.907979\tvalid_1's auc: 0.917378\n",
      "[300]\tvalid_0's auc: 0.91119\tvalid_1's auc: 0.919229\n",
      "[350]\tvalid_0's auc: 0.913004\tvalid_1's auc: 0.920549\n",
      "[400]\tvalid_0's auc: 0.915672\tvalid_1's auc: 0.922387\n",
      "[450]\tvalid_0's auc: 0.917363\tvalid_1's auc: 0.924172\n",
      "[500]\tvalid_0's auc: 0.919907\tvalid_1's auc: 0.926611\n",
      "[550]\tvalid_0's auc: 0.921658\tvalid_1's auc: 0.92844\n",
      "[600]\tvalid_0's auc: 0.92285\tvalid_1's auc: 0.929543\n",
      "[650]\tvalid_0's auc: 0.924026\tvalid_1's auc: 0.930705\n",
      "[700]\tvalid_0's auc: 0.924942\tvalid_1's auc: 0.931706\n",
      "[750]\tvalid_0's auc: 0.926121\tvalid_1's auc: 0.933062\n",
      "[800]\tvalid_0's auc: 0.927239\tvalid_1's auc: 0.934223\n",
      "[850]\tvalid_0's auc: 0.928178\tvalid_1's auc: 0.935123\n",
      "[900]\tvalid_0's auc: 0.929049\tvalid_1's auc: 0.935825\n",
      "[950]\tvalid_0's auc: 0.929599\tvalid_1's auc: 0.936456\n",
      "[1000]\tvalid_0's auc: 0.930498\tvalid_1's auc: 0.937213\n",
      "[1050]\tvalid_0's auc: 0.931223\tvalid_1's auc: 0.937754\n",
      "[1100]\tvalid_0's auc: 0.931835\tvalid_1's auc: 0.938348\n",
      "[1150]\tvalid_0's auc: 0.93243\tvalid_1's auc: 0.938857\n",
      "[1200]\tvalid_0's auc: 0.932977\tvalid_1's auc: 0.939202\n",
      "[1250]\tvalid_0's auc: 0.933421\tvalid_1's auc: 0.939629\n",
      "[1300]\tvalid_0's auc: 0.933956\tvalid_1's auc: 0.940081\n",
      "[1350]\tvalid_0's auc: 0.934474\tvalid_1's auc: 0.940464\n",
      "[1400]\tvalid_0's auc: 0.934994\tvalid_1's auc: 0.940842\n",
      "[1450]\tvalid_0's auc: 0.935604\tvalid_1's auc: 0.941176\n",
      "[1500]\tvalid_0's auc: 0.936265\tvalid_1's auc: 0.941543\n",
      "[1550]\tvalid_0's auc: 0.936798\tvalid_1's auc: 0.941785\n",
      "[1600]\tvalid_0's auc: 0.93727\tvalid_1's auc: 0.942044\n",
      "[1650]\tvalid_0's auc: 0.937689\tvalid_1's auc: 0.94232\n",
      "[1700]\tvalid_0's auc: 0.938099\tvalid_1's auc: 0.942563\n",
      "[1750]\tvalid_0's auc: 0.938509\tvalid_1's auc: 0.942772\n",
      "[1800]\tvalid_0's auc: 0.938863\tvalid_1's auc: 0.943017\n",
      "[1850]\tvalid_0's auc: 0.939284\tvalid_1's auc: 0.943189\n",
      "[1900]\tvalid_0's auc: 0.939686\tvalid_1's auc: 0.94338\n",
      "[1950]\tvalid_0's auc: 0.940076\tvalid_1's auc: 0.943498\n",
      "[2000]\tvalid_0's auc: 0.940465\tvalid_1's auc: 0.943643\n",
      "[2050]\tvalid_0's auc: 0.940792\tvalid_1's auc: 0.943759\n",
      "[2100]\tvalid_0's auc: 0.941112\tvalid_1's auc: 0.943882\n",
      "[2150]\tvalid_0's auc: 0.941455\tvalid_1's auc: 0.944057\n",
      "[2200]\tvalid_0's auc: 0.941787\tvalid_1's auc: 0.944121\n",
      "[2250]\tvalid_0's auc: 0.942088\tvalid_1's auc: 0.944246\n",
      "[2300]\tvalid_0's auc: 0.942377\tvalid_1's auc: 0.94431\n",
      "[2350]\tvalid_0's auc: 0.942697\tvalid_1's auc: 0.944377\n",
      "[2400]\tvalid_0's auc: 0.943001\tvalid_1's auc: 0.944498\n",
      "[2450]\tvalid_0's auc: 0.943255\tvalid_1's auc: 0.944566\n",
      "[2500]\tvalid_0's auc: 0.943587\tvalid_1's auc: 0.944695\n",
      "[2550]\tvalid_0's auc: 0.943864\tvalid_1's auc: 0.944817\n",
      "[2600]\tvalid_0's auc: 0.944155\tvalid_1's auc: 0.944906\n",
      "[2650]\tvalid_0's auc: 0.944448\tvalid_1's auc: 0.945008\n",
      "[2700]\tvalid_0's auc: 0.944658\tvalid_1's auc: 0.945164\n",
      "[2750]\tvalid_0's auc: 0.944876\tvalid_1's auc: 0.945316\n",
      "[2800]\tvalid_0's auc: 0.945086\tvalid_1's auc: 0.945405\n",
      "[2850]\tvalid_0's auc: 0.945308\tvalid_1's auc: 0.945545\n",
      "[2900]\tvalid_0's auc: 0.945531\tvalid_1's auc: 0.945649\n",
      "[2950]\tvalid_0's auc: 0.945751\tvalid_1's auc: 0.945778\n",
      "[3000]\tvalid_0's auc: 0.945951\tvalid_1's auc: 0.945834\n",
      "[3050]\tvalid_0's auc: 0.946159\tvalid_1's auc: 0.945937\n",
      "[3100]\tvalid_0's auc: 0.946348\tvalid_1's auc: 0.945995\n",
      "[3150]\tvalid_0's auc: 0.946551\tvalid_1's auc: 0.946061\n",
      "[3200]\tvalid_0's auc: 0.946746\tvalid_1's auc: 0.946101\n",
      "[3250]\tvalid_0's auc: 0.946929\tvalid_1's auc: 0.946223\n",
      "[3300]\tvalid_0's auc: 0.947137\tvalid_1's auc: 0.946334\n",
      "[3350]\tvalid_0's auc: 0.947338\tvalid_1's auc: 0.946392\n",
      "[3400]\tvalid_0's auc: 0.947527\tvalid_1's auc: 0.946441\n",
      "[3450]\tvalid_0's auc: 0.947745\tvalid_1's auc: 0.946477\n",
      "[3500]\tvalid_0's auc: 0.947982\tvalid_1's auc: 0.946491\n",
      "[3550]\tvalid_0's auc: 0.948165\tvalid_1's auc: 0.946519\n",
      "[3600]\tvalid_0's auc: 0.948345\tvalid_1's auc: 0.946553\n",
      "[3650]\tvalid_0's auc: 0.948499\tvalid_1's auc: 0.946609\n",
      "[3700]\tvalid_0's auc: 0.948682\tvalid_1's auc: 0.946645\n",
      "[3750]\tvalid_0's auc: 0.948851\tvalid_1's auc: 0.946685\n",
      "[3800]\tvalid_0's auc: 0.949035\tvalid_1's auc: 0.946658\n",
      "[3850]\tvalid_0's auc: 0.949217\tvalid_1's auc: 0.946675\n",
      "[3900]\tvalid_0's auc: 0.949381\tvalid_1's auc: 0.946749\n",
      "[3950]\tvalid_0's auc: 0.949555\tvalid_1's auc: 0.946763\n",
      "[4000]\tvalid_0's auc: 0.949733\tvalid_1's auc: 0.946769\n",
      "[4050]\tvalid_0's auc: 0.949894\tvalid_1's auc: 0.946808\n",
      "[4100]\tvalid_0's auc: 0.950038\tvalid_1's auc: 0.946827\n",
      "[4150]\tvalid_0's auc: 0.950191\tvalid_1's auc: 0.946814\n",
      "[4200]\tvalid_0's auc: 0.950338\tvalid_1's auc: 0.946858\n",
      "[4250]\tvalid_0's auc: 0.950477\tvalid_1's auc: 0.946911\n",
      "[4300]\tvalid_0's auc: 0.950621\tvalid_1's auc: 0.946898\n",
      "[4350]\tvalid_0's auc: 0.950791\tvalid_1's auc: 0.946888\n",
      "[4400]\tvalid_0's auc: 0.950934\tvalid_1's auc: 0.946917\n",
      "[4450]\tvalid_0's auc: 0.951099\tvalid_1's auc: 0.946933\n",
      "[4500]\tvalid_0's auc: 0.951253\tvalid_1's auc: 0.946986\n",
      "[4550]\tvalid_0's auc: 0.951413\tvalid_1's auc: 0.946952\n",
      "[4600]\tvalid_0's auc: 0.951578\tvalid_1's auc: 0.946981\n",
      "[4650]\tvalid_0's auc: 0.951726\tvalid_1's auc: 0.946983\n",
      "[4700]\tvalid_0's auc: 0.95187\tvalid_1's auc: 0.947015\n",
      "[4750]\tvalid_0's auc: 0.952007\tvalid_1's auc: 0.947031\n",
      "[4800]\tvalid_0's auc: 0.95214\tvalid_1's auc: 0.947048\n",
      "[4850]\tvalid_0's auc: 0.952298\tvalid_1's auc: 0.947058\n",
      "[4900]\tvalid_0's auc: 0.95246\tvalid_1's auc: 0.947051\n",
      "[4950]\tvalid_0's auc: 0.9526\tvalid_1's auc: 0.947094\n",
      "[5000]\tvalid_0's auc: 0.952737\tvalid_1's auc: 0.947094\n",
      "[5050]\tvalid_0's auc: 0.952874\tvalid_1's auc: 0.947141\n",
      "[5100]\tvalid_0's auc: 0.953013\tvalid_1's auc: 0.947161\n",
      "[5150]\tvalid_0's auc: 0.953144\tvalid_1's auc: 0.947195\n",
      "[5200]\tvalid_0's auc: 0.95327\tvalid_1's auc: 0.947196\n",
      "[5250]\tvalid_0's auc: 0.953423\tvalid_1's auc: 0.947195\n",
      "[5300]\tvalid_0's auc: 0.953565\tvalid_1's auc: 0.947228\n",
      "[5350]\tvalid_0's auc: 0.953715\tvalid_1's auc: 0.947202\n",
      "[5400]\tvalid_0's auc: 0.953839\tvalid_1's auc: 0.947203\n",
      "[5450]\tvalid_0's auc: 0.953973\tvalid_1's auc: 0.94717\n",
      "[5500]\tvalid_0's auc: 0.954101\tvalid_1's auc: 0.94718\n",
      "[5550]\tvalid_0's auc: 0.954236\tvalid_1's auc: 0.947174\n",
      "[5600]\tvalid_0's auc: 0.954393\tvalid_1's auc: 0.947165\n",
      "[5650]\tvalid_0's auc: 0.95452\tvalid_1's auc: 0.947184\n",
      "[5700]\tvalid_0's auc: 0.954653\tvalid_1's auc: 0.947198\n",
      "[5750]\tvalid_0's auc: 0.954767\tvalid_1's auc: 0.947212\n",
      "[5800]\tvalid_0's auc: 0.954899\tvalid_1's auc: 0.947195\n",
      "[5850]\tvalid_0's auc: 0.955033\tvalid_1's auc: 0.947196\n",
      "[5900]\tvalid_0's auc: 0.955144\tvalid_1's auc: 0.947208\n",
      "[5950]\tvalid_0's auc: 0.955287\tvalid_1's auc: 0.947172\n",
      "[6000]\tvalid_0's auc: 0.955412\tvalid_1's auc: 0.947199\n",
      "[6050]\tvalid_0's auc: 0.955537\tvalid_1's auc: 0.947197\n",
      "[6100]\tvalid_0's auc: 0.955644\tvalid_1's auc: 0.947185\n",
      "[6150]\tvalid_0's auc: 0.955771\tvalid_1's auc: 0.947171\n",
      "[6200]\tvalid_0's auc: 0.955899\tvalid_1's auc: 0.947174\n",
      "[6250]\tvalid_0's auc: 0.956026\tvalid_1's auc: 0.947187\n",
      "Early stopping, best iteration is:\n",
      "[5287]\tvalid_0's auc: 0.953533\tvalid_1's auc: 0.947233\n"
     ]
    }
   ],
   "source": [
    "lgb_params = {\n",
    "    \"n_estimators\": 100000,\n",
    "    \"boosting_type\": \"gbdt\",\n",
    "    \"num_leaves\": 3,\n",
    "    \"max_depth\": 2,\n",
    "    \"colsample_bytree\": 0.45,\n",
    "    \"metric\": None,\n",
    "    \"subsample\": 0.66,\n",
    "    \"learning_rate\": 0.0043,\n",
    "    \"reg_lambda\": 1.66,\n",
    "    \"reg_alpha\": 3e-5,\n",
    "    \"min_data_in_leaf\": 669,\n",
    "    \"min_child_samples\": 200,\n",
    "    \"max_bin\": 255,\n",
    "    \"cat_smooth\": 50,\n",
    "    \"max_cat_threshold\": 32,\n",
    "    \"cat_l2\": 50,\n",
    "    \"seed\": 6341,\n",
    "    \"allow_nan\": True\n",
    "}\n",
    "model = lgb.LGBMClassifier(**lgb_params)\n",
    "\n",
    "feats = [\n",
    "    f\n",
    "    for i, f in enumerate(x_tr.columns)\n",
    "    if (\"coupon_details\" not in f)\n",
    "    and (\"common_repeats\" not in f)\n",
    "    and (\n",
    "        f not in [\"campaign_id\", \"customer_campaign_count\", \"redemption_status\"]\n",
    "    )\n",
    "]\n",
    "\n",
    "model.fit(x_tr[feats], y_tr, eval_set=[(x_tr[feats], y_tr), (x_val[feats], y_val)],\n",
    "          eval_metric='auc', verbose=50, early_stopping_rounds=1000) \n",
    "val_preds = model.predict_proba(x_val[feats])[:, 1]"
   ]
  },
  {
   "cell_type": "code",
   "execution_count": 11,
   "metadata": {},
   "outputs": [],
   "source": [
    "x_train, y_train, x_test, _ = load_data('test')\n",
    "x_train, x_test = map_campign_id(x_train, x_test, 'test')\n",
    "x_train = get_rank_features(x_train)\n",
    "x_test = get_rank_features(x_test)\n",
    "\n",
    "#train = load_pickle(FileNames.train_v2)\n",
    "#test = load_pickle(FileNames.test_v2)\n",
    "#hist_artifact = load_pickle(FileNames.cust_train_artifact1)\n",
    "#x_tr = map_brand_categories(x_tr, tr, hist_artifact)\n",
    "#x_val = map_brand_categories(x_val, val, hist_artifact)\n",
    "\n",
    "y_train = y_train[x_train.coupon_id != 8]\n",
    "x_train = x_train.loc[x_train.coupon_id != 8]\n",
    "\n",
    "x_train['common_brand_0'] = x_train['common_brand_0']/len(x_train)\n",
    "x_test['common_brand_0'] = x_test['common_brand_0']/(len(x_train) + len(x_test))\n",
    "\n",
    "x_train['common_item_set_0'] = x_train['common_item_set_0']/len(x_train)\n",
    "x_test['common_item_set_0'] = x_test['common_item_set_0']/(len(x_train) + len(x_test))\n",
    "#cvlist = StratifiedKFold(10, random_state=123).split(x_tr, y_tr)\n",
    "#x_tr['cust_trenc'] = cross_val_predict(trenc, x_tr, y_tr, cv=cvlist, n_jobs=-1, method='transform')\n",
    "#x_val['cust_trenc'] = trenc.fit(x_tr).transform(x_val)"
   ]
  },
  {
   "cell_type": "code",
   "execution_count": 12,
   "metadata": {
    "scrolled": true
   },
   "outputs": [
    {
     "name": "stdout",
     "output_type": "stream",
     "text": [
      "[50]\tvalid_0's auc: 0.907743\n",
      "[100]\tvalid_0's auc: 0.909818\n",
      "[150]\tvalid_0's auc: 0.912461\n",
      "[200]\tvalid_0's auc: 0.917506\n",
      "[250]\tvalid_0's auc: 0.919677\n",
      "[300]\tvalid_0's auc: 0.921925\n",
      "[350]\tvalid_0's auc: 0.923645\n",
      "[400]\tvalid_0's auc: 0.925198\n",
      "[450]\tvalid_0's auc: 0.926268\n",
      "[500]\tvalid_0's auc: 0.928799\n",
      "[550]\tvalid_0's auc: 0.930603\n",
      "[600]\tvalid_0's auc: 0.932293\n",
      "[650]\tvalid_0's auc: 0.933244\n",
      "[700]\tvalid_0's auc: 0.934156\n",
      "[750]\tvalid_0's auc: 0.934915\n",
      "[800]\tvalid_0's auc: 0.935808\n",
      "[850]\tvalid_0's auc: 0.936435\n",
      "[900]\tvalid_0's auc: 0.937012\n",
      "[950]\tvalid_0's auc: 0.937472\n",
      "[1000]\tvalid_0's auc: 0.937934\n",
      "[1050]\tvalid_0's auc: 0.938374\n",
      "[1100]\tvalid_0's auc: 0.93891\n",
      "[1150]\tvalid_0's auc: 0.939329\n",
      "[1200]\tvalid_0's auc: 0.939691\n",
      "[1250]\tvalid_0's auc: 0.940038\n",
      "[1300]\tvalid_0's auc: 0.940388\n",
      "[1350]\tvalid_0's auc: 0.940637\n",
      "[1400]\tvalid_0's auc: 0.940965\n",
      "[1450]\tvalid_0's auc: 0.941266\n",
      "[1500]\tvalid_0's auc: 0.941572\n",
      "[1550]\tvalid_0's auc: 0.941836\n",
      "[1600]\tvalid_0's auc: 0.942114\n",
      "[1650]\tvalid_0's auc: 0.942406\n",
      "[1700]\tvalid_0's auc: 0.942677\n",
      "[1750]\tvalid_0's auc: 0.942951\n",
      "[1800]\tvalid_0's auc: 0.943254\n",
      "[1850]\tvalid_0's auc: 0.943531\n",
      "[1900]\tvalid_0's auc: 0.94384\n",
      "[1950]\tvalid_0's auc: 0.944128\n",
      "[2000]\tvalid_0's auc: 0.944389\n",
      "[2050]\tvalid_0's auc: 0.944644\n",
      "[2100]\tvalid_0's auc: 0.944927\n",
      "[2150]\tvalid_0's auc: 0.945202\n",
      "[2200]\tvalid_0's auc: 0.94547\n",
      "[2250]\tvalid_0's auc: 0.945748\n",
      "[2300]\tvalid_0's auc: 0.945999\n",
      "[2350]\tvalid_0's auc: 0.946226\n",
      "[2400]\tvalid_0's auc: 0.946478\n",
      "[2450]\tvalid_0's auc: 0.946731\n",
      "[2500]\tvalid_0's auc: 0.946941\n",
      "[2550]\tvalid_0's auc: 0.947154\n",
      "[2600]\tvalid_0's auc: 0.947394\n",
      "[2650]\tvalid_0's auc: 0.947608\n",
      "[2700]\tvalid_0's auc: 0.947811\n",
      "[2750]\tvalid_0's auc: 0.947986\n",
      "[2800]\tvalid_0's auc: 0.948164\n",
      "[2850]\tvalid_0's auc: 0.948378\n",
      "[2900]\tvalid_0's auc: 0.948581\n",
      "[2950]\tvalid_0's auc: 0.948779\n",
      "[3000]\tvalid_0's auc: 0.948952\n",
      "[3050]\tvalid_0's auc: 0.94913\n",
      "[3100]\tvalid_0's auc: 0.949317\n",
      "[3150]\tvalid_0's auc: 0.94947\n",
      "[3200]\tvalid_0's auc: 0.949642\n",
      "[3250]\tvalid_0's auc: 0.949799\n",
      "[3300]\tvalid_0's auc: 0.949943\n",
      "[3350]\tvalid_0's auc: 0.950093\n",
      "[3400]\tvalid_0's auc: 0.950234\n",
      "[3450]\tvalid_0's auc: 0.950366\n",
      "[3500]\tvalid_0's auc: 0.950496\n",
      "[3550]\tvalid_0's auc: 0.95062\n",
      "[3600]\tvalid_0's auc: 0.950762\n",
      "[3650]\tvalid_0's auc: 0.950891\n",
      "[3700]\tvalid_0's auc: 0.951023\n",
      "[3750]\tvalid_0's auc: 0.951129\n",
      "[3800]\tvalid_0's auc: 0.951247\n",
      "[3850]\tvalid_0's auc: 0.951368\n",
      "[3900]\tvalid_0's auc: 0.951485\n",
      "[3950]\tvalid_0's auc: 0.951574\n",
      "[4000]\tvalid_0's auc: 0.951686\n",
      "[4050]\tvalid_0's auc: 0.9518\n",
      "[4100]\tvalid_0's auc: 0.951908\n",
      "[4150]\tvalid_0's auc: 0.952017\n",
      "[4200]\tvalid_0's auc: 0.952121\n",
      "[4250]\tvalid_0's auc: 0.95223\n",
      "[4300]\tvalid_0's auc: 0.952352\n",
      "[4350]\tvalid_0's auc: 0.952495\n",
      "[4400]\tvalid_0's auc: 0.952618\n",
      "[4450]\tvalid_0's auc: 0.952743\n",
      "[4500]\tvalid_0's auc: 0.952847\n",
      "[4550]\tvalid_0's auc: 0.952969\n",
      "[4600]\tvalid_0's auc: 0.953087\n",
      "[4650]\tvalid_0's auc: 0.953203\n",
      "[4700]\tvalid_0's auc: 0.95332\n",
      "[4750]\tvalid_0's auc: 0.953453\n",
      "[4800]\tvalid_0's auc: 0.95358\n",
      "[4850]\tvalid_0's auc: 0.953691\n",
      "[4900]\tvalid_0's auc: 0.953789\n",
      "[4950]\tvalid_0's auc: 0.953885\n",
      "[5000]\tvalid_0's auc: 0.953988\n",
      "[5050]\tvalid_0's auc: 0.954097\n",
      "[5100]\tvalid_0's auc: 0.954184\n",
      "[5150]\tvalid_0's auc: 0.954276\n",
      "[5200]\tvalid_0's auc: 0.954369\n",
      "[5250]\tvalid_0's auc: 0.954484\n",
      "[5300]\tvalid_0's auc: 0.954559\n",
      "[5350]\tvalid_0's auc: 0.954645\n",
      "[5400]\tvalid_0's auc: 0.954738\n",
      "[5450]\tvalid_0's auc: 0.954837\n",
      "[5500]\tvalid_0's auc: 0.954927\n"
     ]
    }
   ],
   "source": [
    "lgb_params['n_estimators'] = 5500\n",
    "model = lgb.LGBMClassifier(**lgb_params)\n",
    "\n",
    "model.fit(x_train[feats], y_train, eval_set=[(x_train[feats], y_train)], eval_metric='auc', verbose=50)\n",
    "test_preds = model.predict_proba(x_test[feats])[:, 1]"
   ]
  },
  {
   "cell_type": "code",
   "execution_count": 13,
   "metadata": {},
   "outputs": [
    {
     "name": "stderr",
     "output_type": "stream",
     "text": [
      "/home/mohsin/kg7/lib/python3.7/site-packages/scipy/stats/stats.py:1713: FutureWarning: Using a non-tuple sequence for multidimensional indexing is deprecated; use `arr[tuple(seq)]` instead of `arr[seq]`. In the future this will be interpreted as an array index, `arr[np.array(seq)]`, which will result either in an error or a different result.\n",
      "  return np.add.reduce(sorted[indexer] * weights, axis=axis) / sumval\n"
     ]
    },
    {
     "data": {
      "text/plain": [
       "<matplotlib.axes._subplots.AxesSubplot at 0x7f4143bc5048>"
      ]
     },
     "execution_count": 13,
     "metadata": {},
     "output_type": "execute_result"
    },
    {
     "data": {
      "image/png": "[encoded data removed]",
      "text/plain": [
       "<Figure size 432x288 with 1 Axes>"
      ]
     },
     "metadata": {
      "needs_background": "light"
     },
     "output_type": "display_data"
    }
   ],
   "source": [
    "sns.distplot(np.sqrt(val_preds))\n",
    "sns.distplot(np.sqrt(test_preds))"
   ]
  },
  {
   "cell_type": "code",
   "execution_count": 14,
   "metadata": {},
   "outputs": [
    {
     "name": "stderr",
     "output_type": "stream",
     "text": [
      "/home/mohsin/kg7/lib/python3.7/site-packages/ipykernel_launcher.py:3: SettingWithCopyWarning: \n",
      "A value is trying to be set on a copy of a slice from a DataFrame.\n",
      "Try using .loc[row_indexer,col_indexer] = value instead\n",
      "\n",
      "See the caveats in the documentation: http://pandas.pydata.org/pandas-docs/stable/user_guide/indexing.html#returning-a-view-versus-a-copy\n",
      "  This is separate from the ipykernel package so we can avoid doing imports until\n"
     ]
    },
    {
     "data": {
      "text/html": [
       "<div>\n",
       "<style scoped>\n",
       "    .dataframe tbody tr th:only-of-type {\n",
       "        vertical-align: middle;\n",
       "    }\n",
       "\n",
       "    .dataframe tbody tr th {\n",
       "        vertical-align: top;\n",
       "    }\n",
       "\n",
       "    .dataframe thead th {\n",
       "        text-align: right;\n",
       "    }\n",
       "</style>\n",
       "<table border=\"1\" class=\"dataframe\">\n",
       "  <thead>\n",
       "    <tr style=\"text-align: right;\">\n",
       "      <th></th>\n",
       "      <th>id</th>\n",
       "      <th>redemption_status</th>\n",
       "    </tr>\n",
       "  </thead>\n",
       "  <tbody>\n",
       "    <tr>\n",
       "      <td>0</td>\n",
       "      <td>3</td>\n",
       "      <td>0.320637</td>\n",
       "    </tr>\n",
       "    <tr>\n",
       "      <td>1</td>\n",
       "      <td>4</td>\n",
       "      <td>0.009584</td>\n",
       "    </tr>\n",
       "    <tr>\n",
       "      <td>2</td>\n",
       "      <td>5</td>\n",
       "      <td>0.012611</td>\n",
       "    </tr>\n",
       "    <tr>\n",
       "      <td>3</td>\n",
       "      <td>8</td>\n",
       "      <td>0.000650</td>\n",
       "    </tr>\n",
       "    <tr>\n",
       "      <td>4</td>\n",
       "      <td>10</td>\n",
       "      <td>0.000688</td>\n",
       "    </tr>\n",
       "  </tbody>\n",
       "</table>\n",
       "</div>"
      ],
      "text/plain": [
       "   id  redemption_status\n",
       "0   3           0.320637\n",
       "1   4           0.009584\n",
       "2   5           0.012611\n",
       "3   8           0.000650\n",
       "4  10           0.000688"
      ]
     },
     "execution_count": 14,
     "metadata": {},
     "output_type": "execute_result"
    }
   ],
   "source": [
    "test = pd.read_csv('data/test.csv')\n",
    "sub = test[['id']]\n",
    "sub['redemption_status'] = test_preds\n",
    "sub.head()"
   ]
  },
  {
   "cell_type": "code",
   "execution_count": 15,
   "metadata": {},
   "outputs": [],
   "source": [
    "sub.to_csv('data/sub_model15.csv', index=False)"
   ]
  },
  {
   "cell_type": "code",
   "execution_count": 16,
   "metadata": {},
   "outputs": [],
   "source": [
    "sube3 = pd.read_csv('data/sub_en4.csv')\n",
    "sub1 = pd.read_csv('data/sub_model8.csv')"
   ]
  },
  {
   "cell_type": "code",
   "execution_count": 17,
   "metadata": {},
   "outputs": [],
   "source": [
    "sub2 =pd.read_csv('data/sub_model9.csv')"
   ]
  },
  {
   "cell_type": "code",
   "execution_count": 18,
   "metadata": {},
   "outputs": [],
   "source": [
    "#sub = sub1['redemption_status']* + sube1['redemption_status']*"
   ]
  },
  {
   "cell_type": "code",
   "execution_count": 19,
   "metadata": {},
   "outputs": [],
   "source": [
    "from scipy.stats import spearmanr"
   ]
  },
  {
   "cell_type": "code",
   "execution_count": 20,
   "metadata": {},
   "outputs": [],
   "source": [
    "#spearmanr(test_preds, tmp.redemption_status)"
   ]
  },
  {
   "cell_type": "code",
   "execution_count": 21,
   "metadata": {},
   "outputs": [
    {
     "data": {
      "text/plain": [
       "SpearmanrResult(correlation=0.9770246335401086, pvalue=0.0)"
      ]
     },
     "execution_count": 21,
     "metadata": {},
     "output_type": "execute_result"
    }
   ],
   "source": [
    "spearmanr(test_preds, sub1.redemption_status)"
   ]
  },
  {
   "cell_type": "code",
   "execution_count": 22,
   "metadata": {},
   "outputs": [
    {
     "data": {
      "text/plain": [
       "SpearmanrResult(correlation=0.9797010564945849, pvalue=0.0)"
      ]
     },
     "execution_count": 22,
     "metadata": {},
     "output_type": "execute_result"
    }
   ],
   "source": [
    "spearmanr(test_preds, sub2.redemption_status)"
   ]
  },
  {
   "cell_type": "code",
   "execution_count": 23,
   "metadata": {},
   "outputs": [
    {
     "data": {
      "text/plain": [
       "SpearmanrResult(correlation=0.9922114782790058, pvalue=0.0)"
      ]
     },
     "execution_count": 23,
     "metadata": {},
     "output_type": "execute_result"
    }
   ],
   "source": [
    "spearmanr(test_preds, sube3.redemption_status)"
   ]
  },
  {
   "cell_type": "code",
   "execution_count": 24,
   "metadata": {},
   "outputs": [
    {
     "name": "stderr",
     "output_type": "stream",
     "text": [
      "/home/mohsin/kg7/lib/python3.7/site-packages/ipykernel_launcher.py:3: SettingWithCopyWarning: \n",
      "A value is trying to be set on a copy of a slice from a DataFrame.\n",
      "Try using .loc[row_indexer,col_indexer] = value instead\n",
      "\n",
      "See the caveats in the documentation: http://pandas.pydata.org/pandas-docs/stable/user_guide/indexing.html#returning-a-view-versus-a-copy\n",
      "  This is separate from the ipykernel package so we can avoid doing imports until\n"
     ]
    },
    {
     "data": {
      "text/html": [
       "<div>\n",
       "<style scoped>\n",
       "    .dataframe tbody tr th:only-of-type {\n",
       "        vertical-align: middle;\n",
       "    }\n",
       "\n",
       "    .dataframe tbody tr th {\n",
       "        vertical-align: top;\n",
       "    }\n",
       "\n",
       "    .dataframe thead th {\n",
       "        text-align: right;\n",
       "    }\n",
       "</style>\n",
       "<table border=\"1\" class=\"dataframe\">\n",
       "  <thead>\n",
       "    <tr style=\"text-align: right;\">\n",
       "      <th></th>\n",
       "      <th>id</th>\n",
       "      <th>redemption_status</th>\n",
       "    </tr>\n",
       "  </thead>\n",
       "  <tbody>\n",
       "    <tr>\n",
       "      <td>0</td>\n",
       "      <td>3</td>\n",
       "      <td>0.373857</td>\n",
       "    </tr>\n",
       "    <tr>\n",
       "      <td>1</td>\n",
       "      <td>4</td>\n",
       "      <td>0.011624</td>\n",
       "    </tr>\n",
       "    <tr>\n",
       "      <td>2</td>\n",
       "      <td>5</td>\n",
       "      <td>0.010931</td>\n",
       "    </tr>\n",
       "    <tr>\n",
       "      <td>3</td>\n",
       "      <td>8</td>\n",
       "      <td>0.000746</td>\n",
       "    </tr>\n",
       "    <tr>\n",
       "      <td>4</td>\n",
       "      <td>10</td>\n",
       "      <td>0.000748</td>\n",
       "    </tr>\n",
       "  </tbody>\n",
       "</table>\n",
       "</div>"
      ],
      "text/plain": [
       "   id  redemption_status\n",
       "0   3           0.373857\n",
       "1   4           0.011624\n",
       "2   5           0.010931\n",
       "3   8           0.000746\n",
       "4  10           0.000748"
      ]
     },
     "execution_count": 24,
     "metadata": {},
     "output_type": "execute_result"
    }
   ],
   "source": [
    "from scipy.stats import gmean\n",
    "sub = test[['id']]\n",
    "sub['redemption_status'] = gmean([test_preds, sube3['redemption_status']])\n",
    "sub.head()"
   ]
  },
  {
   "cell_type": "code",
   "execution_count": 25,
   "metadata": {},
   "outputs": [],
   "source": [
    "sub.to_csv('data/sub_en5.csv', index=False)"
   ]
  },
  {
   "cell_type": "code",
   "execution_count": null,
   "metadata": {},
   "outputs": [],
   "source": []
  }
 ],
 "metadata": {
  "kernelspec": {
   "display_name": "Python 3",
   "language": "python",
   "name": "python3"
  },
  "language_info": {
   "codemirror_mode": {
    "name": "ipython",
    "version": 3
   },
   "file_extension": ".py",
   "mimetype": "text/x-python",
   "name": "python",
   "nbconvert_exporter": "python",
   "pygments_lexer": "ipython3",
   "version": "3.7.3"
  }
 },
 "nbformat": 4,
 "nbformat_minor": 2
}

{
 "cells": [
  {
   "cell_type": "code",
   "execution_count": 1,
   "metadata": {},
   "outputs": [],
   "source": [
    "import numpy as np\n",
    "import pandas as pd\n",
    "import json\n",
    "import joblib\n",
    "\n",
    "import matplotlib.pyplot as plt\n",
    "import seaborn as sns\n",
    "from sklearn.metrics import roc_auc_score\n",
    "import lightgbm as lgb\n",
    "from mllib.params import FieldNames, FileNames\n",
    "from mllib.utils import load_pickle"
   ]
  },
  {
   "cell_type": "code",
   "execution_count": 383,
   "metadata": {},
   "outputs": [],
   "source": [
    "def make_x_y(x_tr, x_val, flag='val'):\n",
    "    y_tr = x_tr['redemption_status'].values\n",
    "\n",
    "    if flag == 'val':\n",
    "        y_val = x_val['redemption_status'].values\n",
    "    else:\n",
    "        y_val = None\n",
    "    return x_tr, y_tr, x_val, y_val\n",
    "\n",
    "\n",
    "def get_rank_features(df):\n",
    "    df['cust_coupon_rank1'] = df.groupby(['customer_id', 'campaign_id'])['common_item_set_0'].rank('max')/df['customer_campaign_count']\n",
    "    df['cust_coupon_rank2'] = df.groupby(['customer_id', 'campaign_id'])['common_item_set_1'].rank('max')/df['customer_campaign_count']\n",
    "    df['cust_coupon_rank3'] = df.groupby(['customer_id', 'campaign_id'])['common_item_set_2'].rank('max')/df['customer_campaign_count']\n",
    "    #df['cust_coupon_rank4'] = df.groupby(['customer_id', 'campaign_id'])['common_brand_0'].rank('max')/df['customer_campaign_count']\n",
    "    #df['cust_coupon_rank5'] = df.groupby(['customer_id', 'campaign_id'])['common_brand_1'].rank('max')/df['customer_campaign_count']\n",
    "    #df['cust_coupon_rank6'] = df.groupby(['customer_id', 'campaign_id'])['common_brand_2'].rank('max')/df['customer_campaign_count']\n",
    "\n",
    "    df['customer_rank1'] = df.groupby(['customer_id'])['common_item_set_1'].rank('max')/df.groupby('customer_id').size()\n",
    "    df['customer_rank2'] = df.groupby(['customer_id'])['common_brand_1'].rank('max')/df.groupby('customer_id').size()\n",
    "    df['customer_rank3'] = df.groupby(['customer_id'])['common_category_1'].rank('max')/df.groupby('customer_id').size()\n",
    "\n",
    "    # df['customer_rank4'] = df.groupby(['customer_id'])['common_brand_1'].rank('max')/df.groupby('customer_id').size()\n",
    "    # df['customer_rank3'] = df.groupby(['customer_id'])['common_item_set_2'].rank('max')/df.groupby('customer_id').size()\n",
    "    df['campaign_rank1'] = df.groupby(['campaign_id'])['common_item_set_0'].rank('max')/df.groupby('campaign_id').size()\n",
    "    df['campaign_rank2'] = df.groupby(['campaign_id'])['common_brand_0'].rank('max')/df.groupby('campaign_id').size()\n",
    "\n",
    "    #df['campaign_rank2'] = df.groupby(['campaign_id'])['common_item_set_1'].rank('max')/df.groupby('campaign_id').size()\n",
    "    #df['campaign_rank3'] = df.groupby(['campaign_id'])['common_item_set_2'].rank('max')/df.groupby('campaign_id').size()\n",
    "    #df['coupon_rank1'] = df.groupby(['coupon_id'])['common_item_set_0'].rank('max')/df.groupby('coupon_id').size()\n",
    "    df['coupon_rank1'] = df.groupby(['coupon_id'])['common_brand_0'].rank('max')/df.groupby('coupon_id').size()\n",
    "\n",
    "    #df['coupon_rank2'] = df.groupby(['coupon_id'])['common_item_set_1'].rank('max')/df.groupby('coupon_id').size()\n",
    "\n",
    "    return df\n",
    "\n",
    "\n",
    "def load_data(flag='val'):\n",
    "    if flag == 'val':\n",
    "        x_tr = load_pickle(FileNames.tr_features_v1)\n",
    "        x_val = load_pickle(FileNames.val_features_v1)\n",
    "    elif flag == 'test':\n",
    "        x_tr = load_pickle(FileNames.train_features_v1)\n",
    "        x_val = load_pickle(FileNames.test_features_v1)\n",
    "    \n",
    "    return make_x_y(x_tr, x_val, flag=flag)\n",
    "\n",
    "\n",
    "def map_campign_id(x_tr, x_val, flag='val'):\n",
    "    if flag == 'val':\n",
    "        tr = load_pickle(FileNames.tr_v2)\n",
    "        val = load_pickle(FileNames.val_v2)\n",
    "    elif flag == 'test':\n",
    "        tr = load_pickle(FileNames.train_v2)\n",
    "        val = load_pickle(FileNames.test_v2)\n",
    "        \n",
    "    x_tr['campaign_id'] = tr['campaign_id'].values\n",
    "    x_val['campaign_id'] = val['campaign_id'].values\n",
    "    return x_tr, x_val"
   ]
  },
  {
   "cell_type": "code",
   "execution_count": 384,
   "metadata": {},
   "outputs": [],
   "source": [
    "from mllib.targetencoder import TargetEncoderWithThresh"
   ]
  },
  {
   "cell_type": "code",
   "execution_count": 434,
   "metadata": {},
   "outputs": [],
   "source": [
    "x_tr, y_tr, x_val, y_val = load_data('val')\n",
    "x_tr, x_val = map_campign_id(x_tr, x_val, 'val')"
   ]
  },
  {
   "cell_type": "code",
   "execution_count": 435,
   "metadata": {},
   "outputs": [
    {
     "data": {
      "text/plain": [
       "387"
      ]
     },
     "execution_count": 435,
     "metadata": {},
     "output_type": "execute_result"
    }
   ],
   "source": [
    "n_feats = x_tr.shape[1] - 1\n",
    "n_feats"
   ]
  },
  {
   "cell_type": "code",
   "execution_count": 436,
   "metadata": {},
   "outputs": [],
   "source": [
    "x_tr = get_rank_features(x_tr)\n",
    "x_val = get_rank_features(x_val)"
   ]
  },
  {
   "cell_type": "code",
   "execution_count": 437,
   "metadata": {},
   "outputs": [],
   "source": [
    "import itertools\n",
    "def get_coupon_mean_std_common_items(x_tr, x_val):\n",
    "    all_data = pd.concat([x_tr, x_val])\n",
    "    cols = ['brand']\n",
    "    ops = ['common']\n",
    "    versions = [0]\n",
    "    stats = ['mean', 'var', 'skew']\n",
    "    \n",
    "    for col, op, version, stat in itertools.product(cols, ops, versions, stats):\n",
    "        tmp = getattr(all_data.groupby('coupon_id')['{}_{}_{}'.format(op, col, version)], stat)()\n",
    "        x_tr['coupon_{}_{}_{}_{}'.format(op, col, version, stat)] = x_tr.coupon_id.map(tmp)\n",
    "        x_val['coupon_{}_{}_{}_{}'.format(op, col, version, stat)] = x_val.coupon_id.map(tmp)\n",
    "        \n",
    "    cols = ['brand']\n",
    "    ops = ['jaccard']\n",
    "    versions = [0]\n",
    "    stats = ['skew', 'std']\n",
    "    \n",
    "    for col, op, version, stat in itertools.product(cols, ops, versions, stats):\n",
    "        tmp = getattr(all_data.groupby('coupon_id')['{}_{}_{}'.format(op, col, version)], stat)()\n",
    "        x_tr['coupon_{}_{}_{}_{}'.format(op, col, version, stat)] = x_tr.coupon_id.map(tmp)\n",
    "        x_val['coupon_{}_{}_{}_{}'.format(op, col, version, stat)] = x_val.coupon_id.map(tmp)\n",
    "\n",
    "    return x_tr, x_val\n",
    "    \n",
    "x_tr, x_val = get_coupon_mean_std_common_items(x_tr, x_val)"
   ]
  },
  {
   "cell_type": "code",
   "execution_count": 438,
   "metadata": {},
   "outputs": [],
   "source": [
    "from sklearn.model_selection import StratifiedKFold, cross_val_predict\n",
    "def cust_trenc(x_tr, x_val):\n",
    "    trenc = TargetEncoderWithThresh(cols=['customer_id'], targetcol='redemption_status', thresh=1, alpha=1e-6, use_prior=True)\n",
    "    cvlist = StratifiedKFold(20, random_state=123).split(x_tr, y_tr)\n",
    "    x_tr['cust_trenc'] = cross_val_predict(trenc, x_tr, y_tr, cv=cvlist, n_jobs=-1, method='transform')\n",
    "    x_val['cust_trenc'] = trenc.fit(x_tr).transform(x_val)\n",
    "    return x_tr, x_val\n",
    "\n",
    "#x_tr, x_val = cust_trenc(x_tr, x_val)"
   ]
  },
  {
   "cell_type": "code",
   "execution_count": 441,
   "metadata": {},
   "outputs": [],
   "source": [
    "#trenc.dictmap"
   ]
  },
  {
   "cell_type": "code",
   "execution_count": 442,
   "metadata": {},
   "outputs": [],
   "source": [
    "#sns.distplot(x_tr.cust_trenc.fillna(0.007))"
   ]
  },
  {
   "cell_type": "code",
   "execution_count": 443,
   "metadata": {
    "scrolled": true
   },
   "outputs": [
    {
     "name": "stdout",
     "output_type": "stream",
     "text": [
      "Training until validation scores don't improve for 400 rounds\n",
      "[50]\tvalid_0's auc: 0.890022\tvalid_1's auc: 0.905093\n",
      "[100]\tvalid_0's auc: 0.899289\tvalid_1's auc: 0.910129\n",
      "[150]\tvalid_0's auc: 0.903256\tvalid_1's auc: 0.913149\n",
      "[200]\tvalid_0's auc: 0.90435\tvalid_1's auc: 0.914278\n",
      "[250]\tvalid_0's auc: 0.908388\tvalid_1's auc: 0.916023\n",
      "[300]\tvalid_0's auc: 0.910741\tvalid_1's auc: 0.91632\n",
      "[350]\tvalid_0's auc: 0.913479\tvalid_1's auc: 0.917517\n",
      "[400]\tvalid_0's auc: 0.916016\tvalid_1's auc: 0.919367\n",
      "[450]\tvalid_0's auc: 0.91892\tvalid_1's auc: 0.922366\n",
      "[500]\tvalid_0's auc: 0.920318\tvalid_1's auc: 0.92411\n",
      "[550]\tvalid_0's auc: 0.92158\tvalid_1's auc: 0.926328\n",
      "[600]\tvalid_0's auc: 0.923273\tvalid_1's auc: 0.928529\n",
      "[650]\tvalid_0's auc: 0.924572\tvalid_1's auc: 0.929738\n",
      "[700]\tvalid_0's auc: 0.925709\tvalid_1's auc: 0.931126\n",
      "[750]\tvalid_0's auc: 0.927022\tvalid_1's auc: 0.932597\n",
      "[800]\tvalid_0's auc: 0.928395\tvalid_1's auc: 0.934328\n",
      "[850]\tvalid_0's auc: 0.929493\tvalid_1's auc: 0.935517\n",
      "[900]\tvalid_0's auc: 0.930492\tvalid_1's auc: 0.936315\n",
      "[950]\tvalid_0's auc: 0.93123\tvalid_1's auc: 0.937026\n",
      "[1000]\tvalid_0's auc: 0.932027\tvalid_1's auc: 0.937781\n",
      "[1050]\tvalid_0's auc: 0.932678\tvalid_1's auc: 0.938358\n",
      "[1100]\tvalid_0's auc: 0.933273\tvalid_1's auc: 0.93886\n",
      "[1150]\tvalid_0's auc: 0.933816\tvalid_1's auc: 0.939304\n",
      "[1200]\tvalid_0's auc: 0.934361\tvalid_1's auc: 0.939734\n",
      "[1250]\tvalid_0's auc: 0.934871\tvalid_1's auc: 0.940201\n",
      "[1300]\tvalid_0's auc: 0.935389\tvalid_1's auc: 0.940618\n",
      "[1350]\tvalid_0's auc: 0.935896\tvalid_1's auc: 0.94099\n",
      "[1400]\tvalid_0's auc: 0.936388\tvalid_1's auc: 0.941413\n",
      "[1450]\tvalid_0's auc: 0.936933\tvalid_1's auc: 0.941807\n",
      "[1500]\tvalid_0's auc: 0.937432\tvalid_1's auc: 0.942146\n",
      "[1550]\tvalid_0's auc: 0.937773\tvalid_1's auc: 0.942425\n",
      "[1600]\tvalid_0's auc: 0.938167\tvalid_1's auc: 0.942768\n",
      "[1650]\tvalid_0's auc: 0.938587\tvalid_1's auc: 0.943083\n",
      "[1700]\tvalid_0's auc: 0.938943\tvalid_1's auc: 0.943376\n",
      "[1750]\tvalid_0's auc: 0.9393\tvalid_1's auc: 0.943662\n",
      "[1800]\tvalid_0's auc: 0.93963\tvalid_1's auc: 0.943927\n",
      "[1850]\tvalid_0's auc: 0.939955\tvalid_1's auc: 0.944099\n",
      "[1900]\tvalid_0's auc: 0.940376\tvalid_1's auc: 0.944359\n",
      "[1950]\tvalid_0's auc: 0.940763\tvalid_1's auc: 0.944604\n",
      "[2000]\tvalid_0's auc: 0.941146\tvalid_1's auc: 0.944863\n",
      "[2050]\tvalid_0's auc: 0.9415\tvalid_1's auc: 0.945112\n",
      "[2100]\tvalid_0's auc: 0.941823\tvalid_1's auc: 0.9453\n",
      "[2150]\tvalid_0's auc: 0.942122\tvalid_1's auc: 0.945513\n",
      "[2200]\tvalid_0's auc: 0.942435\tvalid_1's auc: 0.945731\n",
      "[2250]\tvalid_0's auc: 0.942705\tvalid_1's auc: 0.945919\n",
      "[2300]\tvalid_0's auc: 0.94296\tvalid_1's auc: 0.946088\n",
      "[2350]\tvalid_0's auc: 0.943248\tvalid_1's auc: 0.946266\n",
      "[2400]\tvalid_0's auc: 0.943449\tvalid_1's auc: 0.946401\n",
      "[2450]\tvalid_0's auc: 0.943742\tvalid_1's auc: 0.946517\n",
      "[2500]\tvalid_0's auc: 0.944\tvalid_1's auc: 0.946668\n",
      "[2550]\tvalid_0's auc: 0.944248\tvalid_1's auc: 0.946783\n",
      "[2600]\tvalid_0's auc: 0.944466\tvalid_1's auc: 0.946888\n",
      "[2650]\tvalid_0's auc: 0.944691\tvalid_1's auc: 0.947034\n",
      "[2700]\tvalid_0's auc: 0.94492\tvalid_1's auc: 0.94713\n",
      "[2750]\tvalid_0's auc: 0.945169\tvalid_1's auc: 0.94727\n",
      "[2800]\tvalid_0's auc: 0.945412\tvalid_1's auc: 0.947419\n",
      "[2850]\tvalid_0's auc: 0.945652\tvalid_1's auc: 0.947517\n",
      "[2900]\tvalid_0's auc: 0.945868\tvalid_1's auc: 0.947591\n",
      "[2950]\tvalid_0's auc: 0.946051\tvalid_1's auc: 0.947707\n",
      "[3000]\tvalid_0's auc: 0.946276\tvalid_1's auc: 0.947804\n",
      "[3050]\tvalid_0's auc: 0.946478\tvalid_1's auc: 0.947879\n",
      "[3100]\tvalid_0's auc: 0.946693\tvalid_1's auc: 0.947974\n",
      "[3150]\tvalid_0's auc: 0.946865\tvalid_1's auc: 0.948073\n",
      "[3200]\tvalid_0's auc: 0.947079\tvalid_1's auc: 0.94816\n",
      "[3250]\tvalid_0's auc: 0.947264\tvalid_1's auc: 0.948247\n",
      "[3300]\tvalid_0's auc: 0.947448\tvalid_1's auc: 0.948291\n",
      "[3350]\tvalid_0's auc: 0.947624\tvalid_1's auc: 0.94837\n",
      "[3400]\tvalid_0's auc: 0.947805\tvalid_1's auc: 0.948423\n",
      "[3450]\tvalid_0's auc: 0.947967\tvalid_1's auc: 0.948488\n",
      "[3500]\tvalid_0's auc: 0.948127\tvalid_1's auc: 0.948559\n",
      "[3550]\tvalid_0's auc: 0.948285\tvalid_1's auc: 0.94858\n",
      "[3600]\tvalid_0's auc: 0.948431\tvalid_1's auc: 0.94863\n",
      "[3650]\tvalid_0's auc: 0.948618\tvalid_1's auc: 0.948686\n",
      "[3700]\tvalid_0's auc: 0.948761\tvalid_1's auc: 0.948749\n",
      "[3750]\tvalid_0's auc: 0.948882\tvalid_1's auc: 0.948787\n",
      "[3800]\tvalid_0's auc: 0.949032\tvalid_1's auc: 0.94885\n",
      "[3850]\tvalid_0's auc: 0.949178\tvalid_1's auc: 0.948905\n",
      "[3900]\tvalid_0's auc: 0.949318\tvalid_1's auc: 0.948979\n",
      "[3950]\tvalid_0's auc: 0.949485\tvalid_1's auc: 0.949006\n",
      "[4000]\tvalid_0's auc: 0.949641\tvalid_1's auc: 0.949071\n",
      "[4050]\tvalid_0's auc: 0.949825\tvalid_1's auc: 0.949109\n",
      "[4100]\tvalid_0's auc: 0.949956\tvalid_1's auc: 0.949161\n",
      "[4150]\tvalid_0's auc: 0.950104\tvalid_1's auc: 0.949208\n",
      "[4200]\tvalid_0's auc: 0.950253\tvalid_1's auc: 0.949238\n",
      "[4250]\tvalid_0's auc: 0.95039\tvalid_1's auc: 0.94929\n",
      "[4300]\tvalid_0's auc: 0.950554\tvalid_1's auc: 0.949328\n",
      "[4350]\tvalid_0's auc: 0.950655\tvalid_1's auc: 0.949361\n",
      "[4400]\tvalid_0's auc: 0.950799\tvalid_1's auc: 0.949391\n",
      "[4450]\tvalid_0's auc: 0.950921\tvalid_1's auc: 0.949393\n",
      "[4500]\tvalid_0's auc: 0.951054\tvalid_1's auc: 0.949446\n",
      "[4550]\tvalid_0's auc: 0.951181\tvalid_1's auc: 0.949489\n",
      "[4600]\tvalid_0's auc: 0.951329\tvalid_1's auc: 0.949515\n",
      "[4650]\tvalid_0's auc: 0.951465\tvalid_1's auc: 0.949546\n",
      "[4700]\tvalid_0's auc: 0.951602\tvalid_1's auc: 0.949573\n",
      "[4750]\tvalid_0's auc: 0.951724\tvalid_1's auc: 0.949583\n",
      "[4800]\tvalid_0's auc: 0.951856\tvalid_1's auc: 0.949602\n",
      "[4850]\tvalid_0's auc: 0.951972\tvalid_1's auc: 0.949595\n",
      "[4900]\tvalid_0's auc: 0.952097\tvalid_1's auc: 0.949615\n",
      "[4950]\tvalid_0's auc: 0.952239\tvalid_1's auc: 0.949647\n",
      "[5000]\tvalid_0's auc: 0.952369\tvalid_1's auc: 0.949645\n",
      "[5050]\tvalid_0's auc: 0.952482\tvalid_1's auc: 0.949666\n",
      "[5100]\tvalid_0's auc: 0.952655\tvalid_1's auc: 0.949683\n",
      "[5150]\tvalid_0's auc: 0.952798\tvalid_1's auc: 0.949706\n",
      "[5200]\tvalid_0's auc: 0.95297\tvalid_1's auc: 0.949732\n",
      "[5250]\tvalid_0's auc: 0.953107\tvalid_1's auc: 0.949749\n",
      "[5300]\tvalid_0's auc: 0.953264\tvalid_1's auc: 0.949784\n",
      "[5350]\tvalid_0's auc: 0.953408\tvalid_1's auc: 0.949784\n",
      "[5400]\tvalid_0's auc: 0.953549\tvalid_1's auc: 0.949797\n",
      "[5450]\tvalid_0's auc: 0.953667\tvalid_1's auc: 0.949824\n",
      "[5500]\tvalid_0's auc: 0.953791\tvalid_1's auc: 0.94987\n",
      "[5550]\tvalid_0's auc: 0.953922\tvalid_1's auc: 0.9499\n",
      "[5600]\tvalid_0's auc: 0.954051\tvalid_1's auc: 0.949908\n",
      "[5650]\tvalid_0's auc: 0.954182\tvalid_1's auc: 0.949931\n",
      "[5700]\tvalid_0's auc: 0.954322\tvalid_1's auc: 0.949944\n",
      "[5750]\tvalid_0's auc: 0.954453\tvalid_1's auc: 0.949931\n",
      "[5800]\tvalid_0's auc: 0.954622\tvalid_1's auc: 0.949957\n",
      "[5850]\tvalid_0's auc: 0.954741\tvalid_1's auc: 0.949955\n",
      "[5900]\tvalid_0's auc: 0.954849\tvalid_1's auc: 0.949995\n",
      "[5950]\tvalid_0's auc: 0.954967\tvalid_1's auc: 0.950011\n",
      "[6000]\tvalid_0's auc: 0.955085\tvalid_1's auc: 0.950047\n",
      "[6050]\tvalid_0's auc: 0.955213\tvalid_1's auc: 0.950034\n",
      "[6100]\tvalid_0's auc: 0.955364\tvalid_1's auc: 0.950041\n",
      "[6150]\tvalid_0's auc: 0.955478\tvalid_1's auc: 0.950051\n",
      "[6200]\tvalid_0's auc: 0.955631\tvalid_1's auc: 0.950051\n",
      "[6250]\tvalid_0's auc: 0.955745\tvalid_1's auc: 0.950064\n",
      "[6300]\tvalid_0's auc: 0.955872\tvalid_1's auc: 0.950085\n",
      "[6350]\tvalid_0's auc: 0.955981\tvalid_1's auc: 0.950086\n",
      "[6400]\tvalid_0's auc: 0.956086\tvalid_1's auc: 0.950096\n",
      "[6450]\tvalid_0's auc: 0.956195\tvalid_1's auc: 0.950089\n",
      "[6500]\tvalid_0's auc: 0.956284\tvalid_1's auc: 0.950119\n",
      "[6550]\tvalid_0's auc: 0.956411\tvalid_1's auc: 0.950124\n",
      "[6600]\tvalid_0's auc: 0.956515\tvalid_1's auc: 0.95014\n",
      "[6650]\tvalid_0's auc: 0.956619\tvalid_1's auc: 0.950174\n",
      "[6700]\tvalid_0's auc: 0.956699\tvalid_1's auc: 0.950204\n",
      "[6750]\tvalid_0's auc: 0.956815\tvalid_1's auc: 0.950235\n",
      "[6800]\tvalid_0's auc: 0.956931\tvalid_1's auc: 0.950243\n",
      "[6850]\tvalid_0's auc: 0.957047\tvalid_1's auc: 0.950241\n",
      "[6900]\tvalid_0's auc: 0.957152\tvalid_1's auc: 0.950264\n",
      "[6950]\tvalid_0's auc: 0.957232\tvalid_1's auc: 0.950274\n",
      "[7000]\tvalid_0's auc: 0.957345\tvalid_1's auc: 0.950276\n",
      "[7050]\tvalid_0's auc: 0.957459\tvalid_1's auc: 0.950294\n",
      "[7100]\tvalid_0's auc: 0.957578\tvalid_1's auc: 0.950293\n",
      "[7150]\tvalid_0's auc: 0.957673\tvalid_1's auc: 0.950303\n",
      "[7200]\tvalid_0's auc: 0.957784\tvalid_1's auc: 0.950318\n",
      "[7250]\tvalid_0's auc: 0.957889\tvalid_1's auc: 0.950338\n",
      "[7300]\tvalid_0's auc: 0.95799\tvalid_1's auc: 0.950336\n",
      "[7350]\tvalid_0's auc: 0.958095\tvalid_1's auc: 0.950325\n",
      "[7400]\tvalid_0's auc: 0.958211\tvalid_1's auc: 0.950329\n",
      "[7450]\tvalid_0's auc: 0.958303\tvalid_1's auc: 0.95034\n"
     ]
    },
    {
     "name": "stdout",
     "output_type": "stream",
     "text": [
      "[7500]\tvalid_0's auc: 0.958405\tvalid_1's auc: 0.950339\n",
      "[7550]\tvalid_0's auc: 0.958492\tvalid_1's auc: 0.950337\n",
      "[7600]\tvalid_0's auc: 0.958572\tvalid_1's auc: 0.950331\n",
      "[7650]\tvalid_0's auc: 0.958647\tvalid_1's auc: 0.95032\n",
      "[7700]\tvalid_0's auc: 0.958741\tvalid_1's auc: 0.950315\n",
      "[7750]\tvalid_0's auc: 0.958837\tvalid_1's auc: 0.95032\n",
      "[7800]\tvalid_0's auc: 0.958924\tvalid_1's auc: 0.950334\n",
      "[7850]\tvalid_0's auc: 0.959026\tvalid_1's auc: 0.950327\n",
      "[7900]\tvalid_0's auc: 0.959116\tvalid_1's auc: 0.950315\n",
      "Early stopping, best iteration is:\n",
      "[7534]\tvalid_0's auc: 0.95846\tvalid_1's auc: 0.950349\n"
     ]
    }
   ],
   "source": [
    "lgb_params = {\n",
    "    \"n_estimators\": 10000,\n",
    "    \"boosting_type\": \"gbdt\",\n",
    "    \"num_leaves\": 3,\n",
    "    \"max_depth\": 4,\n",
    "    \"colsample_bytree\": 0.45,\n",
    "    \"metric\": None,\n",
    "    \"subsample\": 0.7,\n",
    "    \"learning_rate\": 0.004,\n",
    "    \"reg_lambda\": 1,\n",
    "    \"reg_alpha\": 1,\n",
    "    \"min_data_in_leaf\": 713,\n",
    "    \"min_child_samples\": 200,\n",
    "    \"max_bin\": 255,\n",
    "    \"cat_smooth\": 50,\n",
    "    \"max_cat_threshold\": 32,\n",
    "    \"cat_l2\": 50,\n",
    "    \"seed\": 786,\n",
    "    \"allow_nan\": True\n",
    "}\n",
    "model = lgb.LGBMClassifier(**lgb_params)\n",
    "\n",
    "feats = [f for i, f in enumerate(x_tr.columns) if ('coupon_details' not in f) and \n",
    "         (f not in ['campaign_id', 'customer_campaign_count', 'redemption_status']) and (i not in [19, 37, 45, 46, 47,\n",
    "                                                                              383])] \n",
    "#xx_tr = qnt.fit_transform(x_tr[feats].fillna(-999))\n",
    "#xx_val = qnt.fit_transform(x_val[feats].fillna(-999))\n",
    "model.fit(x_tr[feats], y_tr, eval_set=[(x_tr[feats], y_tr), (x_val[feats], y_val)], eval_metric='auc', verbose=50, early_stopping_rounds=400) \n",
    "val_preds = model.predict_proba(x_val[feats])[:, 1]"
   ]
  },
  {
   "cell_type": "code",
   "execution_count": 444,
   "metadata": {},
   "outputs": [
    {
     "data": {
      "text/plain": [
       "(50431, 402)"
      ]
     },
     "execution_count": 444,
     "metadata": {},
     "output_type": "execute_result"
    }
   ],
   "source": [
    "x_tr.shape"
   ]
  },
  {
   "cell_type": "code",
   "execution_count": 445,
   "metadata": {},
   "outputs": [
    {
     "name": "stderr",
     "output_type": "stream",
     "text": [
      "/home/mohsin/kg7/lib/python3.7/site-packages/ipykernel_launcher.py:3: FutureWarning: Sorting because non-concatenation axis is not aligned. A future version\n",
      "of pandas will change to not sort by default.\n",
      "\n",
      "To accept the future behavior, pass 'sort=False'.\n",
      "\n",
      "To retain the current behavior and silence the warning, pass 'sort=True'.\n",
      "\n",
      "  This is separate from the ipykernel package so we can avoid doing imports until\n"
     ]
    }
   ],
   "source": [
    "x_train, y_train, x_test, _ = load_data('test')\n",
    "x_train, x_test = map_campign_id(x_train, x_test, 'test')\n",
    "x_train = get_rank_features(x_train)\n",
    "x_test = get_rank_features(x_test)\n",
    "x_train, x_test = get_coupon_mean_std_common_items(x_train, x_test)\n",
    "\n",
    "#cvlist = StratifiedKFold(10, random_state=123).split(x_tr, y_tr)\n",
    "#x_tr['cust_trenc'] = cross_val_predict(trenc, x_tr, y_tr, cv=cvlist, n_jobs=-1, method='transform')\n",
    "#x_val['cust_trenc'] = trenc.fit(x_tr).transform(x_val)"
   ]
  },
  {
   "cell_type": "code",
   "execution_count": 446,
   "metadata": {},
   "outputs": [
    {
     "name": "stdout",
     "output_type": "stream",
     "text": [
      "[50]\tvalid_0's auc: 0.902797\n",
      "[100]\tvalid_0's auc: 0.908288\n",
      "[150]\tvalid_0's auc: 0.911772\n",
      "[200]\tvalid_0's auc: 0.91378\n",
      "[250]\tvalid_0's auc: 0.91732\n",
      "[300]\tvalid_0's auc: 0.920039\n",
      "[350]\tvalid_0's auc: 0.922502\n",
      "[400]\tvalid_0's auc: 0.924752\n",
      "[450]\tvalid_0's auc: 0.927027\n",
      "[500]\tvalid_0's auc: 0.930411\n",
      "[550]\tvalid_0's auc: 0.932203\n",
      "[600]\tvalid_0's auc: 0.933245\n",
      "[650]\tvalid_0's auc: 0.9343\n",
      "[700]\tvalid_0's auc: 0.935242\n",
      "[750]\tvalid_0's auc: 0.935991\n",
      "[800]\tvalid_0's auc: 0.936646\n",
      "[850]\tvalid_0's auc: 0.93711\n",
      "[900]\tvalid_0's auc: 0.937728\n",
      "[950]\tvalid_0's auc: 0.938404\n",
      "[1000]\tvalid_0's auc: 0.938908\n",
      "[1050]\tvalid_0's auc: 0.939398\n",
      "[1100]\tvalid_0's auc: 0.939903\n",
      "[1150]\tvalid_0's auc: 0.94029\n",
      "[1200]\tvalid_0's auc: 0.94073\n",
      "[1250]\tvalid_0's auc: 0.94117\n",
      "[1300]\tvalid_0's auc: 0.941533\n",
      "[1350]\tvalid_0's auc: 0.941873\n",
      "[1400]\tvalid_0's auc: 0.942217\n",
      "[1450]\tvalid_0's auc: 0.942568\n",
      "[1500]\tvalid_0's auc: 0.942886\n",
      "[1550]\tvalid_0's auc: 0.94316\n",
      "[1600]\tvalid_0's auc: 0.943398\n",
      "[1650]\tvalid_0's auc: 0.943632\n",
      "[1700]\tvalid_0's auc: 0.943913\n",
      "[1750]\tvalid_0's auc: 0.944181\n",
      "[1800]\tvalid_0's auc: 0.944427\n",
      "[1850]\tvalid_0's auc: 0.944681\n",
      "[1900]\tvalid_0's auc: 0.944918\n",
      "[1950]\tvalid_0's auc: 0.945133\n",
      "[2000]\tvalid_0's auc: 0.945373\n",
      "[2050]\tvalid_0's auc: 0.945593\n",
      "[2100]\tvalid_0's auc: 0.945848\n",
      "[2150]\tvalid_0's auc: 0.94609\n",
      "[2200]\tvalid_0's auc: 0.946377\n",
      "[2250]\tvalid_0's auc: 0.946591\n",
      "[2300]\tvalid_0's auc: 0.946815\n",
      "[2350]\tvalid_0's auc: 0.947024\n",
      "[2400]\tvalid_0's auc: 0.947217\n",
      "[2450]\tvalid_0's auc: 0.94743\n",
      "[2500]\tvalid_0's auc: 0.947652\n",
      "[2550]\tvalid_0's auc: 0.947886\n",
      "[2600]\tvalid_0's auc: 0.948092\n",
      "[2650]\tvalid_0's auc: 0.948307\n",
      "[2700]\tvalid_0's auc: 0.948506\n",
      "[2750]\tvalid_0's auc: 0.948715\n",
      "[2800]\tvalid_0's auc: 0.948925\n",
      "[2850]\tvalid_0's auc: 0.94913\n",
      "[2900]\tvalid_0's auc: 0.949326\n",
      "[2950]\tvalid_0's auc: 0.94952\n",
      "[3000]\tvalid_0's auc: 0.9497\n",
      "[3050]\tvalid_0's auc: 0.949878\n",
      "[3100]\tvalid_0's auc: 0.950063\n",
      "[3150]\tvalid_0's auc: 0.950232\n",
      "[3200]\tvalid_0's auc: 0.950399\n",
      "[3250]\tvalid_0's auc: 0.95056\n",
      "[3300]\tvalid_0's auc: 0.95073\n",
      "[3350]\tvalid_0's auc: 0.950889\n",
      "[3400]\tvalid_0's auc: 0.951042\n",
      "[3450]\tvalid_0's auc: 0.951194\n",
      "[3500]\tvalid_0's auc: 0.951342\n",
      "[3550]\tvalid_0's auc: 0.951459\n",
      "[3600]\tvalid_0's auc: 0.951594\n",
      "[3650]\tvalid_0's auc: 0.951723\n",
      "[3700]\tvalid_0's auc: 0.951838\n",
      "[3750]\tvalid_0's auc: 0.951962\n",
      "[3800]\tvalid_0's auc: 0.952095\n",
      "[3850]\tvalid_0's auc: 0.95224\n",
      "[3900]\tvalid_0's auc: 0.952367\n",
      "[3950]\tvalid_0's auc: 0.952486\n",
      "[4000]\tvalid_0's auc: 0.952605\n",
      "[4050]\tvalid_0's auc: 0.952716\n",
      "[4100]\tvalid_0's auc: 0.952822\n",
      "[4150]\tvalid_0's auc: 0.952921\n",
      "[4200]\tvalid_0's auc: 0.953001\n",
      "[4250]\tvalid_0's auc: 0.953109\n",
      "[4300]\tvalid_0's auc: 0.953192\n",
      "[4350]\tvalid_0's auc: 0.953283\n",
      "[4400]\tvalid_0's auc: 0.953384\n",
      "[4450]\tvalid_0's auc: 0.95349\n",
      "[4500]\tvalid_0's auc: 0.953581\n",
      "[4550]\tvalid_0's auc: 0.95369\n",
      "[4600]\tvalid_0's auc: 0.953784\n",
      "[4650]\tvalid_0's auc: 0.953892\n",
      "[4700]\tvalid_0's auc: 0.95399\n",
      "[4750]\tvalid_0's auc: 0.954099\n",
      "[4800]\tvalid_0's auc: 0.9542\n",
      "[4850]\tvalid_0's auc: 0.954278\n",
      "[4900]\tvalid_0's auc: 0.954357\n",
      "[4950]\tvalid_0's auc: 0.954439\n",
      "[5000]\tvalid_0's auc: 0.954533\n",
      "[5050]\tvalid_0's auc: 0.954633\n",
      "[5100]\tvalid_0's auc: 0.954729\n",
      "[5150]\tvalid_0's auc: 0.954814\n",
      "[5200]\tvalid_0's auc: 0.954909\n",
      "[5250]\tvalid_0's auc: 0.954995\n",
      "[5300]\tvalid_0's auc: 0.955096\n",
      "[5350]\tvalid_0's auc: 0.955185\n",
      "[5400]\tvalid_0's auc: 0.955278\n",
      "[5450]\tvalid_0's auc: 0.955362\n",
      "[5500]\tvalid_0's auc: 0.955439\n",
      "[5550]\tvalid_0's auc: 0.955523\n",
      "[5600]\tvalid_0's auc: 0.955626\n",
      "[5650]\tvalid_0's auc: 0.955711\n",
      "[5700]\tvalid_0's auc: 0.955796\n",
      "[5750]\tvalid_0's auc: 0.955876\n",
      "[5800]\tvalid_0's auc: 0.95596\n",
      "[5850]\tvalid_0's auc: 0.95604\n",
      "[5900]\tvalid_0's auc: 0.956116\n",
      "[5950]\tvalid_0's auc: 0.9562\n",
      "[6000]\tvalid_0's auc: 0.956292\n",
      "[6050]\tvalid_0's auc: 0.956389\n",
      "[6100]\tvalid_0's auc: 0.956479\n",
      "[6150]\tvalid_0's auc: 0.956547\n",
      "[6200]\tvalid_0's auc: 0.956628\n",
      "[6250]\tvalid_0's auc: 0.956713\n",
      "[6300]\tvalid_0's auc: 0.956799\n",
      "[6350]\tvalid_0's auc: 0.95688\n",
      "[6400]\tvalid_0's auc: 0.956948\n",
      "[6450]\tvalid_0's auc: 0.957022\n",
      "[6500]\tvalid_0's auc: 0.957101\n",
      "[6550]\tvalid_0's auc: 0.957174\n",
      "[6600]\tvalid_0's auc: 0.957245\n",
      "[6650]\tvalid_0's auc: 0.957329\n",
      "[6700]\tvalid_0's auc: 0.957396\n",
      "[6750]\tvalid_0's auc: 0.957469\n",
      "[6800]\tvalid_0's auc: 0.957541\n",
      "[6850]\tvalid_0's auc: 0.95761\n",
      "[6900]\tvalid_0's auc: 0.957686\n",
      "[6950]\tvalid_0's auc: 0.957759\n",
      "[7000]\tvalid_0's auc: 0.957826\n",
      "[7050]\tvalid_0's auc: 0.957901\n",
      "[7100]\tvalid_0's auc: 0.957971\n",
      "[7150]\tvalid_0's auc: 0.958038\n",
      "[7200]\tvalid_0's auc: 0.9581\n",
      "[7250]\tvalid_0's auc: 0.958177\n",
      "[7300]\tvalid_0's auc: 0.958236\n",
      "[7350]\tvalid_0's auc: 0.958308\n",
      "[7400]\tvalid_0's auc: 0.958381\n",
      "[7450]\tvalid_0's auc: 0.958449\n",
      "[7500]\tvalid_0's auc: 0.958513\n"
     ]
    }
   ],
   "source": [
    "lgb_params['n_estimators'] = 7500\n",
    "model = lgb.LGBMClassifier(**lgb_params)\n",
    "\n",
    "model.fit(x_train[feats], y_train, eval_set=[(x_train[feats], y_train)], eval_metric='auc', verbose=50)\n",
    "test_preds = model.predict_proba(x_test[feats])[:, 1]"
   ]
  },
  {
   "cell_type": "code",
   "execution_count": 377,
   "metadata": {},
   "outputs": [
    {
     "data": {
      "text/plain": [
       "<matplotlib.axes._subplots.AxesSubplot at 0x7f6c9e6420f0>"
      ]
     },
     "execution_count": 377,
     "metadata": {},
     "output_type": "execute_result"
    },
    {
     "data": {
      "image/png": "[encoded data removed]",
      "text/plain": [
       "<Figure size 432x288 with 1 Axes>"
      ]
     },
     "metadata": {
      "needs_background": "light"
     },
     "output_type": "display_data"
    }
   ],
   "source": [
    "sns.distplot(np.sqrt(val_preds))\n",
    "sns.distplot(np.sqrt(test_preds))"
   ]
  },
  {
   "cell_type": "code",
   "execution_count": 378,
   "metadata": {},
   "outputs": [
    {
     "name": "stderr",
     "output_type": "stream",
     "text": [
      "/home/mohsin/kg7/lib/python3.7/site-packages/ipykernel_launcher.py:3: SettingWithCopyWarning: \n",
      "A value is trying to be set on a copy of a slice from a DataFrame.\n",
      "Try using .loc[row_indexer,col_indexer] = value instead\n",
      "\n",
      "See the caveats in the documentation: http://pandas.pydata.org/pandas-docs/stable/user_guide/indexing.html#returning-a-view-versus-a-copy\n",
      "  This is separate from the ipykernel package so we can avoid doing imports until\n"
     ]
    },
    {
     "data": {
      "text/html": [
       "<div>\n",
       "<style scoped>\n",
       "    .dataframe tbody tr th:only-of-type {\n",
       "        vertical-align: middle;\n",
       "    }\n",
       "\n",
       "    .dataframe tbody tr th {\n",
       "        vertical-align: top;\n",
       "    }\n",
       "\n",
       "    .dataframe thead th {\n",
       "        text-align: right;\n",
       "    }\n",
       "</style>\n",
       "<table border=\"1\" class=\"dataframe\">\n",
       "  <thead>\n",
       "    <tr style=\"text-align: right;\">\n",
       "      <th></th>\n",
       "      <th>id</th>\n",
       "      <th>redemption_status</th>\n",
       "    </tr>\n",
       "  </thead>\n",
       "  <tbody>\n",
       "    <tr>\n",
       "      <td>0</td>\n",
       "      <td>3</td>\n",
       "      <td>0.334135</td>\n",
       "    </tr>\n",
       "    <tr>\n",
       "      <td>1</td>\n",
       "      <td>4</td>\n",
       "      <td>0.018849</td>\n",
       "    </tr>\n",
       "    <tr>\n",
       "      <td>2</td>\n",
       "      <td>5</td>\n",
       "      <td>0.017164</td>\n",
       "    </tr>\n",
       "    <tr>\n",
       "      <td>3</td>\n",
       "      <td>8</td>\n",
       "      <td>0.000476</td>\n",
       "    </tr>\n",
       "    <tr>\n",
       "      <td>4</td>\n",
       "      <td>10</td>\n",
       "      <td>0.000591</td>\n",
       "    </tr>\n",
       "  </tbody>\n",
       "</table>\n",
       "</div>"
      ],
      "text/plain": [
       "   id  redemption_status\n",
       "0   3           0.334135\n",
       "1   4           0.018849\n",
       "2   5           0.017164\n",
       "3   8           0.000476\n",
       "4  10           0.000591"
      ]
     },
     "execution_count": 378,
     "metadata": {},
     "output_type": "execute_result"
    }
   ],
   "source": [
    "test = pd.read_csv('data/test.csv')\n",
    "sub = test[['id']]\n",
    "sub['redemption_status'] = test_preds\n",
    "sub.head()"
   ]
  },
  {
   "cell_type": "code",
   "execution_count": 379,
   "metadata": {},
   "outputs": [],
   "source": [
    "sub.to_csv('data/sub_model11.csv', index=False)"
   ]
  },
  {
   "cell_type": "code",
   "execution_count": 456,
   "metadata": {},
   "outputs": [],
   "source": [
    "sube1 = pd.read_csv('sub_en1.csv')\n",
    "sub1 = pd.read_csv('data/sub_v8.csv')\n",
    "tmp = pd.read_csv('data/tmp.csv')"
   ]
  },
  {
   "cell_type": "code",
   "execution_count": 452,
   "metadata": {},
   "outputs": [],
   "source": [
    "from scipy.stats import spearmanr"
   ]
  },
  {
   "cell_type": "code",
   "execution_count": 453,
   "metadata": {},
   "outputs": [
    {
     "data": {
      "text/plain": [
       "SpearmanrResult(correlation=0.9851826146409525, pvalue=0.0)"
      ]
     },
     "execution_count": 453,
     "metadata": {},
     "output_type": "execute_result"
    }
   ],
   "source": [
    "spearmanr(test_preds, tmp.redemption_status)"
   ]
  },
  {
   "cell_type": "code",
   "execution_count": 457,
   "metadata": {},
   "outputs": [
    {
     "data": {
      "text/plain": [
       "SpearmanrResult(correlation=0.9909411963163374, pvalue=0.0)"
      ]
     },
     "execution_count": 457,
     "metadata": {},
     "output_type": "execute_result"
    }
   ],
   "source": [
    "spearmanr(sube1.redemption_status, sub1.redemption_status)"
   ]
  },
  {
   "cell_type": "code",
   "execution_count": 458,
   "metadata": {},
   "outputs": [
    {
     "data": {
      "text/plain": [
       "SpearmanrResult(correlation=0.9601497119888284, pvalue=0.0)"
      ]
     },
     "execution_count": 458,
     "metadata": {},
     "output_type": "execute_result"
    }
   ],
   "source": [
    "spearmanr(test_preds, sub1.redemption_status)"
   ]
  },
  {
   "cell_type": "code",
   "execution_count": null,
   "metadata": {},
   "outputs": [],
   "source": []
  }
 ],
 "metadata": {
  "kernelspec": {
   "display_name": "Python 3",
   "language": "python",
   "name": "python3"
  },
  "language_info": {
   "codemirror_mode": {
    "name": "ipython",
    "version": 3
   },
   "file_extension": ".py",
   "mimetype": "text/x-python",
   "name": "python",
   "nbconvert_exporter": "python",
   "pygments_lexer": "ipython3",
   "version": "3.7.3"
  }
 },
 "nbformat": 4,
 "nbformat_minor": 2
}

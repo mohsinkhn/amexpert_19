{
 "cells": [
  {
   "cell_type": "code",
   "execution_count": 1,
   "metadata": {},
   "outputs": [],
   "source": [
    "import numpy as np\n",
    "import pandas as pd\n",
    "import json\n",
    "import joblib\n",
    "\n",
    "import matplotlib.pyplot as plt\n",
    "import seaborn as sns\n",
    "from sklearn.metrics import roc_auc_score\n",
    "import lightgbm as lgb\n",
    "from mllib.params import FieldNames, FileNames\n",
    "from mllib.utils import load_pickle\n",
    "from mllib.transformers import ListLen, SetLen, ListAggregation"
   ]
  },
  {
   "cell_type": "code",
   "execution_count": 2,
   "metadata": {},
   "outputs": [],
   "source": [
    "def make_x_y(x_tr, x_val, flag='val'):\n",
    "    y_tr = x_tr['redemption_status'].values\n",
    "\n",
    "    if flag == 'val':\n",
    "        y_val = x_val['redemption_status'].values\n",
    "    else:\n",
    "        y_val = None\n",
    "    return x_tr, y_tr, x_val, y_val\n",
    "\n",
    "\n",
    "def get_rank_features(df):\n",
    "    df['cust_coupon_rank1'] = df.groupby(['customer_id', 'campaign_id'])['common_item_set_0'].rank('max')/df['customer_campaign_count']\n",
    "    df['cust_coupon_rank2'] = df.groupby(['customer_id', 'campaign_id'])['common_item_set_1'].rank('max')/df['customer_campaign_count']\n",
    "    df['cust_coupon_rank3'] = df.groupby(['customer_id', 'campaign_id'])['common_item_set_2'].rank('max')/df['customer_campaign_count']\n",
    "    #df['cust_coupon_rank4'] = df.groupby(['customer_id', 'campaign_id'])['common_brand_0'].rank('max')/df['customer_campaign_count']\n",
    "    #df['cust_coupon_rank5'] = df.groupby(['customer_id', 'campaign_id'])['common_brand_1'].rank('max')/df['customer_campaign_count']\n",
    "    #df['cust_coupon_rank6'] = df.groupby(['customer_id', 'campaign_id'])['common_brand_2'].rank('max')/df['customer_campaign_count']\n",
    "\n",
    "    df['customer_rank1'] = df.groupby(['customer_id'])['common_item_set_1'].rank('max')/df.groupby('customer_id').size()\n",
    "    df['customer_rank2'] = df.groupby(['customer_id'])['common_brand_1'].rank('max')/df.groupby('customer_id').size()\n",
    "    df['customer_rank3'] = df.groupby(['customer_id'])['common_category_1'].rank('max')/df.groupby('customer_id').size()\n",
    "\n",
    "    # df['customer_rank4'] = df.groupby(['customer_id'])['common_brand_1'].rank('max')/df.groupby('customer_id').size()\n",
    "    # df['customer_rank3'] = df.groupby(['customer_id'])['common_item_set_2'].rank('max')/df.groupby('customer_id').size()\n",
    "    df['campaign_rank1'] = df.groupby(['campaign_id'])['common_item_set_0'].rank('max')/df.groupby('campaign_id').size()\n",
    "    df['campaign_rank2'] = df.groupby(['campaign_id'])['common_brand_0'].rank('max')/df.groupby('campaign_id').size()\n",
    "\n",
    "    #df['campaign_rank2'] = df.groupby(['campaign_id'])['common_item_set_1'].rank('max')/df.groupby('campaign_id').size()\n",
    "    #df['campaign_rank3'] = df.groupby(['campaign_id'])['common_item_set_2'].rank('max')/df.groupby('campaign_id').size()\n",
    "    #df['coupon_rank1'] = df.groupby(['coupon_id'])['common_item_set_0'].rank('max')/df.groupby('coupon_id').size()\n",
    "    df['coupon_rank1'] = df.groupby(['coupon_id'])['common_brand_0'].rank('max')/df.groupby('coupon_id').size()\n",
    "\n",
    "    #df['coupon_rank2'] = df.groupby(['coupon_id'])['common_item_set_1'].rank('max')/df.groupby('coupon_id').size()\n",
    "\n",
    "    return df\n",
    "\n",
    "\n",
    "def load_data(flag='val'):\n",
    "    if flag == 'val':\n",
    "        x_tr = load_pickle(FileNames.tr_features_v1)\n",
    "        x_val = load_pickle(FileNames.val_features_v1)\n",
    "    elif flag == 'test':\n",
    "        x_tr = load_pickle(FileNames.train_features_v1)\n",
    "        x_val = load_pickle(FileNames.test_features_v1)\n",
    "    \n",
    "    return make_x_y(x_tr, x_val, flag=flag)\n",
    "\n",
    "\n",
    "def map_campign_id(x_tr, x_val, flag='val'):\n",
    "    if flag == 'val':\n",
    "        tr = load_pickle(FileNames.tr_v2)\n",
    "        val = load_pickle(FileNames.val_v2)\n",
    "    elif flag == 'test':\n",
    "        tr = load_pickle(FileNames.train_v2)\n",
    "        val = load_pickle(FileNames.test_v2)\n",
    "        \n",
    "    x_tr['campaign_id'] = tr['campaign_id'].values\n",
    "    x_val['campaign_id'] = val['campaign_id'].values\n",
    "    return x_tr, x_val"
   ]
  },
  {
   "cell_type": "code",
   "execution_count": 3,
   "metadata": {},
   "outputs": [],
   "source": [
    "from mllib.targetencoder import TargetEncoderWithThresh"
   ]
  },
  {
   "cell_type": "code",
   "execution_count": 4,
   "metadata": {},
   "outputs": [],
   "source": [
    "x_tr, y_tr, x_val, y_val = load_data('val')\n",
    "x_tr, x_val = map_campign_id(x_tr, x_val, 'val')"
   ]
  },
  {
   "cell_type": "code",
   "execution_count": 5,
   "metadata": {},
   "outputs": [
    {
     "data": {
      "text/plain": [
       "387"
      ]
     },
     "execution_count": 5,
     "metadata": {},
     "output_type": "execute_result"
    }
   ],
   "source": [
    "n_feats = x_tr.shape[1] - 1\n",
    "n_feats"
   ]
  },
  {
   "cell_type": "code",
   "execution_count": 6,
   "metadata": {},
   "outputs": [],
   "source": [
    "x_tr = get_rank_features(x_tr)\n",
    "x_val = get_rank_features(x_val)"
   ]
  },
  {
   "cell_type": "code",
   "execution_count": 9,
   "metadata": {},
   "outputs": [],
   "source": [
    "y_tr = y_tr[x_tr.coupon_id != 8]\n",
    "x_tr = x_tr.loc[x_tr.coupon_id != 8]\n"
   ]
  },
  {
   "cell_type": "code",
   "execution_count": 10,
   "metadata": {
    "scrolled": true
   },
   "outputs": [
    {
     "name": "stdout",
     "output_type": "stream",
     "text": [
      "Training until validation scores don't improve for 400 rounds\n",
      "[50]\tvalid_0's auc: 0.891787\tvalid_1's auc: 0.901392\n",
      "[100]\tvalid_0's auc: 0.901152\tvalid_1's auc: 0.911825\n",
      "[150]\tvalid_0's auc: 0.905402\tvalid_1's auc: 0.915311\n",
      "[200]\tvalid_0's auc: 0.907859\tvalid_1's auc: 0.916293\n",
      "[250]\tvalid_0's auc: 0.909744\tvalid_1's auc: 0.917871\n",
      "[300]\tvalid_0's auc: 0.912348\tvalid_1's auc: 0.919562\n",
      "[350]\tvalid_0's auc: 0.913231\tvalid_1's auc: 0.920582\n",
      "[400]\tvalid_0's auc: 0.914948\tvalid_1's auc: 0.922056\n",
      "[450]\tvalid_0's auc: 0.915755\tvalid_1's auc: 0.923027\n",
      "[500]\tvalid_0's auc: 0.918086\tvalid_1's auc: 0.924869\n",
      "[550]\tvalid_0's auc: 0.919466\tvalid_1's auc: 0.926401\n",
      "[600]\tvalid_0's auc: 0.92126\tvalid_1's auc: 0.928177\n",
      "[650]\tvalid_0's auc: 0.922491\tvalid_1's auc: 0.929605\n",
      "[700]\tvalid_0's auc: 0.923855\tvalid_1's auc: 0.931131\n",
      "[750]\tvalid_0's auc: 0.924655\tvalid_1's auc: 0.931699\n",
      "[800]\tvalid_0's auc: 0.925688\tvalid_1's auc: 0.932666\n",
      "[850]\tvalid_0's auc: 0.926591\tvalid_1's auc: 0.933606\n",
      "[900]\tvalid_0's auc: 0.927685\tvalid_1's auc: 0.934287\n",
      "[950]\tvalid_0's auc: 0.92836\tvalid_1's auc: 0.935316\n",
      "[1000]\tvalid_0's auc: 0.929157\tvalid_1's auc: 0.935919\n",
      "[1050]\tvalid_0's auc: 0.929903\tvalid_1's auc: 0.936627\n",
      "[1100]\tvalid_0's auc: 0.930683\tvalid_1's auc: 0.93729\n",
      "[1150]\tvalid_0's auc: 0.931212\tvalid_1's auc: 0.937687\n",
      "[1200]\tvalid_0's auc: 0.931765\tvalid_1's auc: 0.938165\n",
      "[1250]\tvalid_0's auc: 0.93244\tvalid_1's auc: 0.938596\n",
      "[1300]\tvalid_0's auc: 0.932988\tvalid_1's auc: 0.939098\n",
      "[1350]\tvalid_0's auc: 0.933351\tvalid_1's auc: 0.939371\n",
      "[1400]\tvalid_0's auc: 0.933798\tvalid_1's auc: 0.939706\n",
      "[1450]\tvalid_0's auc: 0.934314\tvalid_1's auc: 0.94004\n",
      "[1500]\tvalid_0's auc: 0.934723\tvalid_1's auc: 0.94036\n",
      "[1550]\tvalid_0's auc: 0.935086\tvalid_1's auc: 0.940602\n",
      "[1600]\tvalid_0's auc: 0.935487\tvalid_1's auc: 0.940955\n",
      "[1650]\tvalid_0's auc: 0.935939\tvalid_1's auc: 0.941275\n",
      "[1700]\tvalid_0's auc: 0.936301\tvalid_1's auc: 0.941525\n",
      "[1750]\tvalid_0's auc: 0.936774\tvalid_1's auc: 0.941731\n",
      "[1800]\tvalid_0's auc: 0.937261\tvalid_1's auc: 0.941963\n",
      "[1850]\tvalid_0's auc: 0.937687\tvalid_1's auc: 0.94219\n",
      "[1900]\tvalid_0's auc: 0.938099\tvalid_1's auc: 0.942356\n",
      "[1950]\tvalid_0's auc: 0.938479\tvalid_1's auc: 0.942495\n",
      "[2000]\tvalid_0's auc: 0.938872\tvalid_1's auc: 0.942676\n",
      "[2050]\tvalid_0's auc: 0.939187\tvalid_1's auc: 0.942846\n",
      "[2100]\tvalid_0's auc: 0.93951\tvalid_1's auc: 0.943019\n",
      "[2150]\tvalid_0's auc: 0.939843\tvalid_1's auc: 0.943196\n",
      "[2200]\tvalid_0's auc: 0.94012\tvalid_1's auc: 0.943351\n",
      "[2250]\tvalid_0's auc: 0.940394\tvalid_1's auc: 0.943438\n",
      "[2300]\tvalid_0's auc: 0.940715\tvalid_1's auc: 0.943594\n",
      "[2350]\tvalid_0's auc: 0.940986\tvalid_1's auc: 0.943674\n",
      "[2400]\tvalid_0's auc: 0.941269\tvalid_1's auc: 0.943768\n",
      "[2450]\tvalid_0's auc: 0.941557\tvalid_1's auc: 0.943892\n",
      "[2500]\tvalid_0's auc: 0.941856\tvalid_1's auc: 0.94394\n",
      "[2550]\tvalid_0's auc: 0.942105\tvalid_1's auc: 0.944052\n",
      "[2600]\tvalid_0's auc: 0.942366\tvalid_1's auc: 0.944156\n",
      "[2650]\tvalid_0's auc: 0.942597\tvalid_1's auc: 0.944289\n",
      "[2700]\tvalid_0's auc: 0.942857\tvalid_1's auc: 0.944373\n",
      "[2750]\tvalid_0's auc: 0.943112\tvalid_1's auc: 0.944485\n",
      "[2800]\tvalid_0's auc: 0.943355\tvalid_1's auc: 0.944554\n",
      "[2850]\tvalid_0's auc: 0.943605\tvalid_1's auc: 0.944669\n",
      "[2900]\tvalid_0's auc: 0.943851\tvalid_1's auc: 0.944741\n",
      "[2950]\tvalid_0's auc: 0.944072\tvalid_1's auc: 0.944859\n",
      "[3000]\tvalid_0's auc: 0.944279\tvalid_1's auc: 0.944937\n",
      "[3050]\tvalid_0's auc: 0.944491\tvalid_1's auc: 0.944996\n",
      "[3100]\tvalid_0's auc: 0.94467\tvalid_1's auc: 0.945084\n",
      "[3150]\tvalid_0's auc: 0.944886\tvalid_1's auc: 0.945184\n",
      "[3200]\tvalid_0's auc: 0.945078\tvalid_1's auc: 0.945255\n",
      "[3250]\tvalid_0's auc: 0.94526\tvalid_1's auc: 0.945371\n",
      "[3300]\tvalid_0's auc: 0.945427\tvalid_1's auc: 0.945434\n",
      "[3350]\tvalid_0's auc: 0.945619\tvalid_1's auc: 0.945528\n",
      "[3400]\tvalid_0's auc: 0.945767\tvalid_1's auc: 0.945631\n",
      "[3450]\tvalid_0's auc: 0.945948\tvalid_1's auc: 0.945723\n",
      "[3500]\tvalid_0's auc: 0.946146\tvalid_1's auc: 0.945783\n",
      "[3550]\tvalid_0's auc: 0.946296\tvalid_1's auc: 0.945859\n",
      "[3600]\tvalid_0's auc: 0.946487\tvalid_1's auc: 0.945932\n",
      "[3650]\tvalid_0's auc: 0.946662\tvalid_1's auc: 0.94599\n",
      "[3700]\tvalid_0's auc: 0.94686\tvalid_1's auc: 0.946089\n",
      "[3750]\tvalid_0's auc: 0.947025\tvalid_1's auc: 0.94613\n",
      "[3800]\tvalid_0's auc: 0.947183\tvalid_1's auc: 0.946192\n",
      "[3850]\tvalid_0's auc: 0.947359\tvalid_1's auc: 0.946257\n",
      "[3900]\tvalid_0's auc: 0.947536\tvalid_1's auc: 0.946325\n",
      "[3950]\tvalid_0's auc: 0.947694\tvalid_1's auc: 0.946376\n",
      "[4000]\tvalid_0's auc: 0.947845\tvalid_1's auc: 0.94641\n",
      "[4050]\tvalid_0's auc: 0.948001\tvalid_1's auc: 0.946459\n",
      "[4100]\tvalid_0's auc: 0.948176\tvalid_1's auc: 0.946477\n",
      "[4150]\tvalid_0's auc: 0.948321\tvalid_1's auc: 0.946527\n",
      "[4200]\tvalid_0's auc: 0.948479\tvalid_1's auc: 0.946589\n",
      "[4250]\tvalid_0's auc: 0.948636\tvalid_1's auc: 0.946656\n",
      "[4300]\tvalid_0's auc: 0.948798\tvalid_1's auc: 0.946681\n",
      "[4350]\tvalid_0's auc: 0.948949\tvalid_1's auc: 0.946732\n",
      "[4400]\tvalid_0's auc: 0.949114\tvalid_1's auc: 0.946815\n",
      "[4450]\tvalid_0's auc: 0.949264\tvalid_1's auc: 0.946824\n",
      "[4500]\tvalid_0's auc: 0.949411\tvalid_1's auc: 0.946824\n",
      "[4550]\tvalid_0's auc: 0.949527\tvalid_1's auc: 0.946895\n",
      "[4600]\tvalid_0's auc: 0.949663\tvalid_1's auc: 0.946961\n",
      "[4650]\tvalid_0's auc: 0.94979\tvalid_1's auc: 0.946957\n",
      "[4700]\tvalid_0's auc: 0.94993\tvalid_1's auc: 0.947007\n",
      "[4750]\tvalid_0's auc: 0.950076\tvalid_1's auc: 0.947006\n",
      "[4800]\tvalid_0's auc: 0.950198\tvalid_1's auc: 0.94702\n",
      "[4850]\tvalid_0's auc: 0.950321\tvalid_1's auc: 0.947014\n",
      "[4900]\tvalid_0's auc: 0.95044\tvalid_1's auc: 0.947019\n",
      "[4950]\tvalid_0's auc: 0.950565\tvalid_1's auc: 0.947052\n",
      "[5000]\tvalid_0's auc: 0.950734\tvalid_1's auc: 0.947093\n",
      "[5050]\tvalid_0's auc: 0.95085\tvalid_1's auc: 0.947117\n",
      "[5100]\tvalid_0's auc: 0.950964\tvalid_1's auc: 0.94715\n",
      "[5150]\tvalid_0's auc: 0.951095\tvalid_1's auc: 0.947162\n",
      "[5200]\tvalid_0's auc: 0.951216\tvalid_1's auc: 0.947187\n",
      "[5250]\tvalid_0's auc: 0.951333\tvalid_1's auc: 0.947204\n",
      "[5300]\tvalid_0's auc: 0.951468\tvalid_1's auc: 0.947207\n",
      "[5350]\tvalid_0's auc: 0.951589\tvalid_1's auc: 0.947264\n",
      "[5400]\tvalid_0's auc: 0.951709\tvalid_1's auc: 0.94727\n",
      "[5450]\tvalid_0's auc: 0.951835\tvalid_1's auc: 0.947299\n",
      "[5500]\tvalid_0's auc: 0.951974\tvalid_1's auc: 0.947303\n",
      "[5550]\tvalid_0's auc: 0.952101\tvalid_1's auc: 0.947292\n",
      "[5600]\tvalid_0's auc: 0.952236\tvalid_1's auc: 0.947326\n",
      "[5650]\tvalid_0's auc: 0.952362\tvalid_1's auc: 0.947308\n",
      "[5700]\tvalid_0's auc: 0.952489\tvalid_1's auc: 0.947295\n",
      "[5750]\tvalid_0's auc: 0.952609\tvalid_1's auc: 0.947335\n",
      "[5800]\tvalid_0's auc: 0.952709\tvalid_1's auc: 0.947338\n",
      "[5850]\tvalid_0's auc: 0.952838\tvalid_1's auc: 0.947363\n",
      "[5900]\tvalid_0's auc: 0.952946\tvalid_1's auc: 0.947371\n",
      "[5950]\tvalid_0's auc: 0.953084\tvalid_1's auc: 0.947385\n",
      "[6000]\tvalid_0's auc: 0.953219\tvalid_1's auc: 0.947402\n",
      "[6050]\tvalid_0's auc: 0.953331\tvalid_1's auc: 0.947421\n",
      "[6100]\tvalid_0's auc: 0.953443\tvalid_1's auc: 0.947413\n",
      "[6150]\tvalid_0's auc: 0.953537\tvalid_1's auc: 0.947455\n",
      "[6200]\tvalid_0's auc: 0.953673\tvalid_1's auc: 0.947461\n",
      "[6250]\tvalid_0's auc: 0.95378\tvalid_1's auc: 0.947491\n",
      "[6300]\tvalid_0's auc: 0.953896\tvalid_1's auc: 0.947503\n",
      "[6350]\tvalid_0's auc: 0.954012\tvalid_1's auc: 0.947516\n",
      "[6400]\tvalid_0's auc: 0.954132\tvalid_1's auc: 0.947511\n",
      "[6450]\tvalid_0's auc: 0.954247\tvalid_1's auc: 0.947533\n",
      "[6500]\tvalid_0's auc: 0.954339\tvalid_1's auc: 0.947548\n",
      "[6550]\tvalid_0's auc: 0.954443\tvalid_1's auc: 0.947564\n",
      "[6600]\tvalid_0's auc: 0.954553\tvalid_1's auc: 0.947554\n",
      "[6650]\tvalid_0's auc: 0.954668\tvalid_1's auc: 0.947557\n",
      "[6700]\tvalid_0's auc: 0.954776\tvalid_1's auc: 0.947581\n",
      "[6750]\tvalid_0's auc: 0.954898\tvalid_1's auc: 0.947576\n",
      "[6800]\tvalid_0's auc: 0.954991\tvalid_1's auc: 0.947587\n",
      "[6850]\tvalid_0's auc: 0.955094\tvalid_1's auc: 0.947607\n",
      "[6900]\tvalid_0's auc: 0.955192\tvalid_1's auc: 0.947623\n",
      "[6950]\tvalid_0's auc: 0.955281\tvalid_1's auc: 0.94759\n",
      "[7000]\tvalid_0's auc: 0.955384\tvalid_1's auc: 0.947609\n",
      "[7050]\tvalid_0's auc: 0.955493\tvalid_1's auc: 0.9476\n",
      "[7100]\tvalid_0's auc: 0.955607\tvalid_1's auc: 0.947602\n",
      "[7150]\tvalid_0's auc: 0.955715\tvalid_1's auc: 0.94759\n",
      "[7200]\tvalid_0's auc: 0.95582\tvalid_1's auc: 0.947589\n",
      "[7250]\tvalid_0's auc: 0.955922\tvalid_1's auc: 0.947547\n",
      "Early stopping, best iteration is:\n",
      "[6878]\tvalid_0's auc: 0.95515\tvalid_1's auc: 0.94763\n"
     ]
    }
   ],
   "source": [
    "lgb_params = {\n",
    "    \"n_estimators\": 100000,\n",
    "    \"boosting_type\": \"gbdt\",\n",
    "    \"num_leaves\": 3,\n",
    "    \"max_depth\": 2,\n",
    "    \"colsample_bytree\": 0.45,\n",
    "    \"metric\": None,\n",
    "    \"subsample\": 0.7,\n",
    "    \"learning_rate\": 0.004,\n",
    "    \"reg_lambda\": 1,\n",
    "    \"reg_alpha\": 1,\n",
    "    \"min_data_in_leaf\": 713,\n",
    "    \"min_child_samples\": 200,\n",
    "    \"max_bin\": 255,\n",
    "    \"cat_smooth\": 50,\n",
    "    \"max_cat_threshold\": 32,\n",
    "    \"cat_l2\": 50,\n",
    "    \"seed\": 78612356,\n",
    "    \"allow_nan\": True\n",
    "}\n",
    "model = lgb.LGBMClassifier(**lgb_params)\n",
    "\n",
    "feats = [f for i, f in enumerate(x_tr.columns) if ('coupon_details' not in f) and ('common_repeats' not in f) and\n",
    "         (f not in ['campaign_id', 'customer_campaign_count', 'redemption_status']) and (i not in [19, 37, 45, 46, 47,\n",
    "                                                                              383])] \n",
    "#xx_tr = qnt.fit_transform(x_tr[feats].fillna(-999))\n",
    "#xx_val = qnt.fit_transform(x_val[feats].fillna(-999))\n",
    "model.fit(x_tr[feats], y_tr, eval_set=[(x_tr[feats], y_tr), (x_val[feats], y_val)], eval_metric='auc', verbose=50, early_stopping_rounds=400) \n",
    "val_preds = model.predict_proba(x_val[feats])[:, 1]"
   ]
  },
  {
   "cell_type": "code",
   "execution_count": 92,
   "metadata": {},
   "outputs": [],
   "source": [
    "x_train, y_train, x_test, _ = load_data('test')\n",
    "x_train, x_test = map_campign_id(x_train, x_test, 'test')\n",
    "x_train = get_rank_features(x_train)\n",
    "x_test = get_rank_features(x_test)\n",
    "\n",
    "#train = load_pickle(FileNames.train_v2)\n",
    "#test = load_pickle(FileNames.test_v2)\n",
    "#hist_artifact = load_pickle(FileNames.cust_train_artifact1)\n",
    "#x_tr = map_brand_categories(x_tr, tr, hist_artifact)\n",
    "#x_val = map_brand_categories(x_val, val, hist_artifact)\n",
    "\n",
    "y_train = y_train[x_train.coupon_id != 8]\n",
    "x_train = x_train.loc[x_train.coupon_id != 8]\n",
    "\n",
    "#cvlist = StratifiedKFold(10, random_state=123).split(x_tr, y_tr)\n",
    "#x_tr['cust_trenc'] = cross_val_predict(trenc, x_tr, y_tr, cv=cvlist, n_jobs=-1, method='transform')\n",
    "#x_val['cust_trenc'] = trenc.fit(x_tr).transform(x_val)"
   ]
  },
  {
   "cell_type": "code",
   "execution_count": 93,
   "metadata": {
    "scrolled": true
   },
   "outputs": [
    {
     "name": "stdout",
     "output_type": "stream",
     "text": [
      "[50]\tvalid_0's auc: 0.904669\n",
      "[100]\tvalid_0's auc: 0.909066\n",
      "[150]\tvalid_0's auc: 0.91147\n",
      "[200]\tvalid_0's auc: 0.913163\n",
      "[250]\tvalid_0's auc: 0.917014\n",
      "[300]\tvalid_0's auc: 0.920692\n",
      "[350]\tvalid_0's auc: 0.922345\n",
      "[400]\tvalid_0's auc: 0.92406\n",
      "[450]\tvalid_0's auc: 0.925751\n",
      "[500]\tvalid_0's auc: 0.926375\n",
      "[550]\tvalid_0's auc: 0.928574\n",
      "[600]\tvalid_0's auc: 0.93015\n",
      "[650]\tvalid_0's auc: 0.931756\n",
      "[700]\tvalid_0's auc: 0.932926\n",
      "[750]\tvalid_0's auc: 0.933881\n",
      "[800]\tvalid_0's auc: 0.934808\n",
      "[850]\tvalid_0's auc: 0.935426\n",
      "[900]\tvalid_0's auc: 0.935886\n",
      "[950]\tvalid_0's auc: 0.936279\n",
      "[1000]\tvalid_0's auc: 0.936948\n",
      "[1050]\tvalid_0's auc: 0.937548\n",
      "[1100]\tvalid_0's auc: 0.937949\n",
      "[1150]\tvalid_0's auc: 0.938446\n",
      "[1200]\tvalid_0's auc: 0.938864\n",
      "[1250]\tvalid_0's auc: 0.939297\n",
      "[1300]\tvalid_0's auc: 0.939662\n",
      "[1350]\tvalid_0's auc: 0.939994\n",
      "[1400]\tvalid_0's auc: 0.940301\n",
      "[1450]\tvalid_0's auc: 0.940548\n",
      "[1500]\tvalid_0's auc: 0.94086\n",
      "[1550]\tvalid_0's auc: 0.94113\n",
      "[1600]\tvalid_0's auc: 0.941417\n",
      "[1650]\tvalid_0's auc: 0.941647\n",
      "[1700]\tvalid_0's auc: 0.941912\n",
      "[1750]\tvalid_0's auc: 0.942231\n",
      "[1800]\tvalid_0's auc: 0.942503\n",
      "[1850]\tvalid_0's auc: 0.942783\n",
      "[1900]\tvalid_0's auc: 0.943065\n",
      "[1950]\tvalid_0's auc: 0.943301\n",
      "[2000]\tvalid_0's auc: 0.94356\n",
      "[2050]\tvalid_0's auc: 0.943792\n",
      "[2100]\tvalid_0's auc: 0.944034\n",
      "[2150]\tvalid_0's auc: 0.944264\n",
      "[2200]\tvalid_0's auc: 0.944462\n",
      "[2250]\tvalid_0's auc: 0.944659\n",
      "[2300]\tvalid_0's auc: 0.944886\n",
      "[2350]\tvalid_0's auc: 0.945084\n",
      "[2400]\tvalid_0's auc: 0.945321\n",
      "[2450]\tvalid_0's auc: 0.945577\n",
      "[2500]\tvalid_0's auc: 0.945839\n",
      "[2550]\tvalid_0's auc: 0.946052\n",
      "[2600]\tvalid_0's auc: 0.946275\n",
      "[2650]\tvalid_0's auc: 0.946486\n",
      "[2700]\tvalid_0's auc: 0.946706\n",
      "[2750]\tvalid_0's auc: 0.946917\n",
      "[2800]\tvalid_0's auc: 0.947115\n",
      "[2850]\tvalid_0's auc: 0.947322\n",
      "[2900]\tvalid_0's auc: 0.947529\n",
      "[2950]\tvalid_0's auc: 0.947698\n",
      "[3000]\tvalid_0's auc: 0.947888\n",
      "[3050]\tvalid_0's auc: 0.948104\n",
      "[3100]\tvalid_0's auc: 0.948287\n",
      "[3150]\tvalid_0's auc: 0.948461\n",
      "[3200]\tvalid_0's auc: 0.94865\n",
      "[3250]\tvalid_0's auc: 0.948833\n",
      "[3300]\tvalid_0's auc: 0.949006\n",
      "[3350]\tvalid_0's auc: 0.949159\n",
      "[3400]\tvalid_0's auc: 0.949312\n",
      "[3450]\tvalid_0's auc: 0.949471\n",
      "[3500]\tvalid_0's auc: 0.949636\n",
      "[3550]\tvalid_0's auc: 0.949789\n",
      "[3600]\tvalid_0's auc: 0.949946\n",
      "[3650]\tvalid_0's auc: 0.950103\n",
      "[3700]\tvalid_0's auc: 0.950229\n",
      "[3750]\tvalid_0's auc: 0.950391\n",
      "[3800]\tvalid_0's auc: 0.950529\n",
      "[3850]\tvalid_0's auc: 0.950661\n",
      "[3900]\tvalid_0's auc: 0.950778\n",
      "[3950]\tvalid_0's auc: 0.950914\n",
      "[4000]\tvalid_0's auc: 0.951036\n",
      "[4050]\tvalid_0's auc: 0.951158\n",
      "[4100]\tvalid_0's auc: 0.951271\n",
      "[4150]\tvalid_0's auc: 0.951391\n",
      "[4200]\tvalid_0's auc: 0.951503\n",
      "[4250]\tvalid_0's auc: 0.951631\n",
      "[4300]\tvalid_0's auc: 0.951726\n",
      "[4350]\tvalid_0's auc: 0.951825\n",
      "[4400]\tvalid_0's auc: 0.951935\n",
      "[4450]\tvalid_0's auc: 0.952036\n",
      "[4500]\tvalid_0's auc: 0.95213\n",
      "[4550]\tvalid_0's auc: 0.952228\n",
      "[4600]\tvalid_0's auc: 0.952335\n",
      "[4650]\tvalid_0's auc: 0.952447\n",
      "[4700]\tvalid_0's auc: 0.952529\n"
     ]
    }
   ],
   "source": [
    "lgb_params['n_estimators'] = 4700\n",
    "model = lgb.LGBMClassifier(**lgb_params)\n",
    "\n",
    "model.fit(x_train[feats], y_train, eval_set=[(x_train[feats], y_train)], eval_metric='auc', verbose=50)\n",
    "test_preds = model.predict_proba(x_test[feats])[:, 1]"
   ]
  },
  {
   "cell_type": "code",
   "execution_count": 94,
   "metadata": {},
   "outputs": [
    {
     "name": "stderr",
     "output_type": "stream",
     "text": [
      "/home/mohsin/kg7/lib/python3.7/site-packages/scipy/stats/stats.py:1713: FutureWarning: Using a non-tuple sequence for multidimensional indexing is deprecated; use `arr[tuple(seq)]` instead of `arr[seq]`. In the future this will be interpreted as an array index, `arr[np.array(seq)]`, which will result either in an error or a different result.\n",
      "  return np.add.reduce(sorted[indexer] * weights, axis=axis) / sumval\n"
     ]
    },
    {
     "data": {
      "text/plain": [
       "<matplotlib.axes._subplots.AxesSubplot at 0x7f471c909da0>"
      ]
     },
     "execution_count": 94,
     "metadata": {},
     "output_type": "execute_result"
    },
    {
     "data": {
      "image/png": "[encoded data removed]",
      "text/plain": [
       "<Figure size 432x288 with 1 Axes>"
      ]
     },
     "metadata": {
      "needs_background": "light"
     },
     "output_type": "display_data"
    }
   ],
   "source": [
    "sns.distplot(np.sqrt(val_preds))\n",
    "sns.distplot(np.sqrt(test_preds))"
   ]
  },
  {
   "cell_type": "code",
   "execution_count": 95,
   "metadata": {},
   "outputs": [
    {
     "name": "stderr",
     "output_type": "stream",
     "text": [
      "/home/mohsin/kg7/lib/python3.7/site-packages/ipykernel_launcher.py:3: SettingWithCopyWarning: \n",
      "A value is trying to be set on a copy of a slice from a DataFrame.\n",
      "Try using .loc[row_indexer,col_indexer] = value instead\n",
      "\n",
      "See the caveats in the documentation: http://pandas.pydata.org/pandas-docs/stable/user_guide/indexing.html#returning-a-view-versus-a-copy\n",
      "  This is separate from the ipykernel package so we can avoid doing imports until\n"
     ]
    },
    {
     "data": {
      "text/html": [
       "<div>\n",
       "<style scoped>\n",
       "    .dataframe tbody tr th:only-of-type {\n",
       "        vertical-align: middle;\n",
       "    }\n",
       "\n",
       "    .dataframe tbody tr th {\n",
       "        vertical-align: top;\n",
       "    }\n",
       "\n",
       "    .dataframe thead th {\n",
       "        text-align: right;\n",
       "    }\n",
       "</style>\n",
       "<table border=\"1\" class=\"dataframe\">\n",
       "  <thead>\n",
       "    <tr style=\"text-align: right;\">\n",
       "      <th></th>\n",
       "      <th>id</th>\n",
       "      <th>redemption_status</th>\n",
       "    </tr>\n",
       "  </thead>\n",
       "  <tbody>\n",
       "    <tr>\n",
       "      <td>0</td>\n",
       "      <td>3</td>\n",
       "      <td>0.392643</td>\n",
       "    </tr>\n",
       "    <tr>\n",
       "      <td>1</td>\n",
       "      <td>4</td>\n",
       "      <td>0.012221</td>\n",
       "    </tr>\n",
       "    <tr>\n",
       "      <td>2</td>\n",
       "      <td>5</td>\n",
       "      <td>0.009367</td>\n",
       "    </tr>\n",
       "    <tr>\n",
       "      <td>3</td>\n",
       "      <td>8</td>\n",
       "      <td>0.000737</td>\n",
       "    </tr>\n",
       "    <tr>\n",
       "      <td>4</td>\n",
       "      <td>10</td>\n",
       "      <td>0.000828</td>\n",
       "    </tr>\n",
       "  </tbody>\n",
       "</table>\n",
       "</div>"
      ],
      "text/plain": [
       "   id  redemption_status\n",
       "0   3           0.392643\n",
       "1   4           0.012221\n",
       "2   5           0.009367\n",
       "3   8           0.000737\n",
       "4  10           0.000828"
      ]
     },
     "execution_count": 95,
     "metadata": {},
     "output_type": "execute_result"
    }
   ],
   "source": [
    "test = pd.read_csv('data/test.csv')\n",
    "sub = test[['id']]\n",
    "sub['redemption_status'] = test_preds\n",
    "sub.head()"
   ]
  },
  {
   "cell_type": "code",
   "execution_count": 96,
   "metadata": {},
   "outputs": [],
   "source": [
    "sub.to_csv('data/sub_model12.csv', index=False)"
   ]
  },
  {
   "cell_type": "code",
   "execution_count": 97,
   "metadata": {},
   "outputs": [],
   "source": [
    "sube1 = pd.read_csv('sub_en1.csv')\n",
    "sub1 = pd.read_csv('data/sub_v8.csv')\n",
    "tmp = pd.read_csv('data/tmp.csv')"
   ]
  },
  {
   "cell_type": "code",
   "execution_count": 16,
   "metadata": {},
   "outputs": [],
   "source": [
    "from scipy.stats import spearmanr"
   ]
  },
  {
   "cell_type": "code",
   "execution_count": 17,
   "metadata": {},
   "outputs": [
    {
     "data": {
      "text/plain": [
       "SpearmanrResult(correlation=0.9652978032142759, pvalue=0.0)"
      ]
     },
     "execution_count": 17,
     "metadata": {},
     "output_type": "execute_result"
    }
   ],
   "source": [
    "spearmanr(test_preds, tmp.redemption_status)"
   ]
  },
  {
   "cell_type": "code",
   "execution_count": 18,
   "metadata": {},
   "outputs": [
    {
     "data": {
      "text/plain": [
       "SpearmanrResult(correlation=0.9909411963163374, pvalue=0.0)"
      ]
     },
     "execution_count": 18,
     "metadata": {},
     "output_type": "execute_result"
    }
   ],
   "source": [
    "spearmanr(sube1.redemption_status, sub1.redemption_status)"
   ]
  },
  {
   "cell_type": "code",
   "execution_count": 19,
   "metadata": {},
   "outputs": [
    {
     "data": {
      "text/plain": [
       "SpearmanrResult(correlation=0.9635289084651666, pvalue=0.0)"
      ]
     },
     "execution_count": 19,
     "metadata": {},
     "output_type": "execute_result"
    }
   ],
   "source": [
    "spearmanr(test_preds, sub1.redemption_status)"
   ]
  },
  {
   "cell_type": "code",
   "execution_count": 20,
   "metadata": {},
   "outputs": [
    {
     "data": {
      "text/plain": [
       "SpearmanrResult(correlation=0.9759449673820652, pvalue=0.0)"
      ]
     },
     "execution_count": 20,
     "metadata": {},
     "output_type": "execute_result"
    }
   ],
   "source": [
    "spearmanr(test_preds, sube1.redemption_status)"
   ]
  },
  {
   "cell_type": "code",
   "execution_count": null,
   "metadata": {},
   "outputs": [],
   "source": []
  }
 ],
 "metadata": {
  "kernelspec": {
   "display_name": "Python 3",
   "language": "python",
   "name": "python3"
  },
  "language_info": {
   "codemirror_mode": {
    "name": "ipython",
    "version": 3
   },
   "file_extension": ".py",
   "mimetype": "text/x-python",
   "name": "python",
   "nbconvert_exporter": "python",
   "pygments_lexer": "ipython3",
   "version": "3.7.3"
  }
 },
 "nbformat": 4,
 "nbformat_minor": 2
}

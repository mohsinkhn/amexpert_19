{
 "cells": [
  {
   "cell_type": "code",
   "execution_count": 32,
   "metadata": {},
   "outputs": [],
   "source": [
    "import numpy as np\n",
    "import pandas as pd\n",
    "import json\n",
    "import joblib\n",
    "\n",
    "import matplotlib.pyplot as plt\n",
    "import seaborn as sns\n",
    "from sklearn.metrics import roc_auc_score\n",
    "import lightgbm as lgb\n",
    "from mllib.params import FieldNames, FileNames\n",
    "from mllib.utils import load_pickle\n",
    "from mllib.transformers import ListLen, SetLen, ListAggregation"
   ]
  },
  {
   "cell_type": "code",
   "execution_count": 2,
   "metadata": {},
   "outputs": [],
   "source": [
    "def make_x_y(x_tr, x_val, flag='val'):\n",
    "    y_tr = x_tr['redemption_status'].values\n",
    "\n",
    "    if flag == 'val':\n",
    "        y_val = x_val['redemption_status'].values\n",
    "    else:\n",
    "        y_val = None\n",
    "    return x_tr, y_tr, x_val, y_val\n",
    "\n",
    "\n",
    "def get_rank_features(df):\n",
    "    df['cust_coupon_rank1'] = df.groupby(['customer_id', 'campaign_id'])['common_item_set_0'].rank('max')/df['customer_campaign_count']\n",
    "    df['cust_coupon_rank2'] = df.groupby(['customer_id', 'campaign_id'])['common_item_set_1'].rank('max')/df['customer_campaign_count']\n",
    "    df['cust_coupon_rank3'] = df.groupby(['customer_id', 'campaign_id'])['common_item_set_2'].rank('max')/df['customer_campaign_count']\n",
    "    #df['cust_coupon_rank4'] = df.groupby(['customer_id', 'campaign_id'])['common_brand_0'].rank('max')/df['customer_campaign_count']\n",
    "    #df['cust_coupon_rank5'] = df.groupby(['customer_id', 'campaign_id'])['common_brand_1'].rank('max')/df['customer_campaign_count']\n",
    "    #df['cust_coupon_rank6'] = df.groupby(['customer_id', 'campaign_id'])['common_brand_2'].rank('max')/df['customer_campaign_count']\n",
    "\n",
    "    df['customer_rank1'] = df.groupby(['customer_id'])['common_item_set_1'].rank('max')/df.groupby('customer_id').size()\n",
    "    df['customer_rank2'] = df.groupby(['customer_id'])['common_brand_1'].rank('max')/df.groupby('customer_id').size()\n",
    "    df['customer_rank3'] = df.groupby(['customer_id'])['common_category_1'].rank('max')/df.groupby('customer_id').size()\n",
    "\n",
    "    # df['customer_rank4'] = df.groupby(['customer_id'])['common_brand_1'].rank('max')/df.groupby('customer_id').size()\n",
    "    # df['customer_rank3'] = df.groupby(['customer_id'])['common_item_set_2'].rank('max')/df.groupby('customer_id').size()\n",
    "    df['campaign_rank1'] = df.groupby(['campaign_id'])['common_item_set_0'].rank('max')/df.groupby('campaign_id').size()\n",
    "    df['campaign_rank2'] = df.groupby(['campaign_id'])['common_brand_0'].rank('max')/df.groupby('campaign_id').size()\n",
    "\n",
    "    #df['campaign_rank2'] = df.groupby(['campaign_id'])['common_item_set_1'].rank('max')/df.groupby('campaign_id').size()\n",
    "    #df['campaign_rank3'] = df.groupby(['campaign_id'])['common_item_set_2'].rank('max')/df.groupby('campaign_id').size()\n",
    "    #df['coupon_rank1'] = df.groupby(['coupon_id'])['common_item_set_0'].rank('max')/df.groupby('coupon_id').size()\n",
    "    df['coupon_rank1'] = df.groupby(['coupon_id'])['common_brand_0'].rank('max')/df.groupby('coupon_id').size()\n",
    "\n",
    "    #df['coupon_rank2'] = df.groupby(['coupon_id'])['common_item_set_1'].rank('max')/df.groupby('coupon_id').size()\n",
    "\n",
    "    return df\n",
    "\n",
    "\n",
    "def load_data(flag='val'):\n",
    "    if flag == 'val':\n",
    "        x_tr = load_pickle(FileNames.tr_features_v1)\n",
    "        x_val = load_pickle(FileNames.val_features_v1)\n",
    "    elif flag == 'test':\n",
    "        x_tr = load_pickle(FileNames.train_features_v1)\n",
    "        x_val = load_pickle(FileNames.test_features_v1)\n",
    "    \n",
    "    return make_x_y(x_tr, x_val, flag=flag)\n",
    "\n",
    "\n",
    "def map_campign_id(x_tr, x_val, flag='val'):\n",
    "    if flag == 'val':\n",
    "        tr = load_pickle(FileNames.tr_v2)\n",
    "        val = load_pickle(FileNames.val_v2)\n",
    "    elif flag == 'test':\n",
    "        tr = load_pickle(FileNames.train_v2)\n",
    "        val = load_pickle(FileNames.test_v2)\n",
    "        \n",
    "    x_tr['campaign_id'] = tr['campaign_id'].values\n",
    "    x_val['campaign_id'] = val['campaign_id'].values\n",
    "    return x_tr, x_val"
   ]
  },
  {
   "cell_type": "code",
   "execution_count": 3,
   "metadata": {},
   "outputs": [],
   "source": [
    "from mllib.targetencoder import TargetEncoderWithThresh"
   ]
  },
  {
   "cell_type": "code",
   "execution_count": 85,
   "metadata": {},
   "outputs": [],
   "source": [
    "x_tr, y_tr, x_val, y_val = load_data('val')\n",
    "x_tr, x_val = map_campign_id(x_tr, x_val, 'val')"
   ]
  },
  {
   "cell_type": "code",
   "execution_count": 86,
   "metadata": {},
   "outputs": [
    {
     "data": {
      "text/plain": [
       "387"
      ]
     },
     "execution_count": 86,
     "metadata": {},
     "output_type": "execute_result"
    }
   ],
   "source": [
    "n_feats = x_tr.shape[1] - 1\n",
    "n_feats"
   ]
  },
  {
   "cell_type": "code",
   "execution_count": 87,
   "metadata": {},
   "outputs": [],
   "source": [
    "x_tr = get_rank_features(x_tr)\n",
    "x_val = get_rank_features(x_val)"
   ]
  },
  {
   "cell_type": "code",
   "execution_count": 88,
   "metadata": {},
   "outputs": [],
   "source": [
    "#tr = load_pickle(FileNames.tr_v2)\n",
    "#val = load_pickle(FileNames.val_v2)\n",
    "#hist_artifact = load_pickle(FileNames.cust_tr_artifact1)\n",
    "\n",
    "\n",
    "def map_brand_categories(x_tr, tr, hist):\n",
    "    agg = ListAggregation(date_col= FieldNames.campaign_start_date, user_col=FieldNames.customer_id,\n",
    "                key_col=FieldNames.item_brand_type, hist_artifact=hist)\n",
    "    \n",
    "    tmp = agg.transform(tr)\n",
    "    x_tr['num_est'] = np.array([sum([val == 'Established' for val in x]) for x in tmp.tolist()])\n",
    "    x_tr['num_local'] = [sum([val == 'Local' for val in x]) for x in tmp.tolist()]\n",
    "    \n",
    "    agg = ListAggregation(date_col= FieldNames.campaign_start_date, user_col=FieldNames.customer_id,\n",
    "                key_col=FieldNames.item_category, hist_artifact=hist)\n",
    "    tmp = agg.transform(tr)\n",
    "    x_tr['num_pharma'] = [sum([val == 'Pharmaceutical' for val in x]) for x in tmp.tolist()]\n",
    "    x_tr['num_grocery'] = [sum([val == 'Grocery' for val in x]) for x in tmp.tolist()]\n",
    "    return x_tr\n",
    "\n"
   ]
  },
  {
   "cell_type": "code",
   "execution_count": 89,
   "metadata": {},
   "outputs": [],
   "source": [
    "#x_tr = map_brand_categories(x_tr, tr, hist_artifact)\n",
    "#x_val = map_brand_categories(x_val, val, hist_artifact)"
   ]
  },
  {
   "cell_type": "code",
   "execution_count": 90,
   "metadata": {},
   "outputs": [],
   "source": [
    "y_tr = y_tr[x_tr.coupon_id != 8]\n",
    "x_tr = x_tr.loc[x_tr.coupon_id != 8]\n"
   ]
  },
  {
   "cell_type": "code",
   "execution_count": 91,
   "metadata": {
    "scrolled": true
   },
   "outputs": [
    {
     "name": "stdout",
     "output_type": "stream",
     "text": [
      "Training until validation scores don't improve for 400 rounds\n",
      "[50]\tvalid_0's auc: 0.900129\tvalid_1's auc: 0.909461\n",
      "[100]\tvalid_0's auc: 0.901983\tvalid_1's auc: 0.912646\n",
      "[150]\tvalid_0's auc: 0.903814\tvalid_1's auc: 0.913109\n",
      "[200]\tvalid_0's auc: 0.905114\tvalid_1's auc: 0.914702\n",
      "[250]\tvalid_0's auc: 0.907625\tvalid_1's auc: 0.916687\n",
      "[300]\tvalid_0's auc: 0.910655\tvalid_1's auc: 0.919131\n",
      "[350]\tvalid_0's auc: 0.912249\tvalid_1's auc: 0.919823\n",
      "[400]\tvalid_0's auc: 0.914803\tvalid_1's auc: 0.921036\n",
      "[450]\tvalid_0's auc: 0.916323\tvalid_1's auc: 0.922712\n",
      "[500]\tvalid_0's auc: 0.918565\tvalid_1's auc: 0.924724\n",
      "[550]\tvalid_0's auc: 0.920168\tvalid_1's auc: 0.926826\n",
      "[600]\tvalid_0's auc: 0.922057\tvalid_1's auc: 0.928699\n",
      "[650]\tvalid_0's auc: 0.923385\tvalid_1's auc: 0.929917\n",
      "[700]\tvalid_0's auc: 0.924218\tvalid_1's auc: 0.93116\n",
      "[750]\tvalid_0's auc: 0.92502\tvalid_1's auc: 0.932212\n",
      "[800]\tvalid_0's auc: 0.925836\tvalid_1's auc: 0.932807\n",
      "[850]\tvalid_0's auc: 0.927028\tvalid_1's auc: 0.934105\n",
      "[900]\tvalid_0's auc: 0.927937\tvalid_1's auc: 0.934785\n",
      "[950]\tvalid_0's auc: 0.928671\tvalid_1's auc: 0.935491\n",
      "[1000]\tvalid_0's auc: 0.929395\tvalid_1's auc: 0.936192\n",
      "[1050]\tvalid_0's auc: 0.930084\tvalid_1's auc: 0.936735\n",
      "[1100]\tvalid_0's auc: 0.930954\tvalid_1's auc: 0.937334\n",
      "[1150]\tvalid_0's auc: 0.93153\tvalid_1's auc: 0.93789\n",
      "[1200]\tvalid_0's auc: 0.932092\tvalid_1's auc: 0.938329\n",
      "[1250]\tvalid_0's auc: 0.932587\tvalid_1's auc: 0.938696\n",
      "[1300]\tvalid_0's auc: 0.933036\tvalid_1's auc: 0.939081\n",
      "[1350]\tvalid_0's auc: 0.933522\tvalid_1's auc: 0.939454\n",
      "[1400]\tvalid_0's auc: 0.934093\tvalid_1's auc: 0.939871\n",
      "[1450]\tvalid_0's auc: 0.934514\tvalid_1's auc: 0.94018\n",
      "[1500]\tvalid_0's auc: 0.934949\tvalid_1's auc: 0.940522\n",
      "[1550]\tvalid_0's auc: 0.935391\tvalid_1's auc: 0.940813\n",
      "[1600]\tvalid_0's auc: 0.93572\tvalid_1's auc: 0.941028\n",
      "[1650]\tvalid_0's auc: 0.936055\tvalid_1's auc: 0.941234\n",
      "[1700]\tvalid_0's auc: 0.936519\tvalid_1's auc: 0.941468\n",
      "[1750]\tvalid_0's auc: 0.936944\tvalid_1's auc: 0.941731\n",
      "[1800]\tvalid_0's auc: 0.937422\tvalid_1's auc: 0.941941\n",
      "[1850]\tvalid_0's auc: 0.937841\tvalid_1's auc: 0.942123\n",
      "[1900]\tvalid_0's auc: 0.938256\tvalid_1's auc: 0.94232\n",
      "[1950]\tvalid_0's auc: 0.938654\tvalid_1's auc: 0.94246\n",
      "[2000]\tvalid_0's auc: 0.939052\tvalid_1's auc: 0.942582\n",
      "[2050]\tvalid_0's auc: 0.939436\tvalid_1's auc: 0.942773\n",
      "[2100]\tvalid_0's auc: 0.939779\tvalid_1's auc: 0.94292\n",
      "[2150]\tvalid_0's auc: 0.940088\tvalid_1's auc: 0.943042\n",
      "[2200]\tvalid_0's auc: 0.940394\tvalid_1's auc: 0.943205\n",
      "[2250]\tvalid_0's auc: 0.940692\tvalid_1's auc: 0.943321\n",
      "[2300]\tvalid_0's auc: 0.940974\tvalid_1's auc: 0.943494\n",
      "[2350]\tvalid_0's auc: 0.941255\tvalid_1's auc: 0.943628\n",
      "[2400]\tvalid_0's auc: 0.941504\tvalid_1's auc: 0.943768\n",
      "[2450]\tvalid_0's auc: 0.941746\tvalid_1's auc: 0.943883\n",
      "[2500]\tvalid_0's auc: 0.942044\tvalid_1's auc: 0.943961\n",
      "[2550]\tvalid_0's auc: 0.942336\tvalid_1's auc: 0.944084\n",
      "[2600]\tvalid_0's auc: 0.942596\tvalid_1's auc: 0.944155\n",
      "[2650]\tvalid_0's auc: 0.942852\tvalid_1's auc: 0.944273\n",
      "[2700]\tvalid_0's auc: 0.943097\tvalid_1's auc: 0.944418\n",
      "[2750]\tvalid_0's auc: 0.943343\tvalid_1's auc: 0.944546\n",
      "[2800]\tvalid_0's auc: 0.943579\tvalid_1's auc: 0.94467\n",
      "[2850]\tvalid_0's auc: 0.943823\tvalid_1's auc: 0.94474\n",
      "[2900]\tvalid_0's auc: 0.944003\tvalid_1's auc: 0.944831\n",
      "[2950]\tvalid_0's auc: 0.944234\tvalid_1's auc: 0.944908\n",
      "[3000]\tvalid_0's auc: 0.944468\tvalid_1's auc: 0.945004\n",
      "[3050]\tvalid_0's auc: 0.944676\tvalid_1's auc: 0.945042\n",
      "[3100]\tvalid_0's auc: 0.944885\tvalid_1's auc: 0.945155\n",
      "[3150]\tvalid_0's auc: 0.945044\tvalid_1's auc: 0.945265\n",
      "[3200]\tvalid_0's auc: 0.945231\tvalid_1's auc: 0.945324\n",
      "[3250]\tvalid_0's auc: 0.945425\tvalid_1's auc: 0.945443\n",
      "[3300]\tvalid_0's auc: 0.945615\tvalid_1's auc: 0.945508\n",
      "[3350]\tvalid_0's auc: 0.945771\tvalid_1's auc: 0.945602\n",
      "[3400]\tvalid_0's auc: 0.945996\tvalid_1's auc: 0.945674\n",
      "[3450]\tvalid_0's auc: 0.946175\tvalid_1's auc: 0.945737\n",
      "[3500]\tvalid_0's auc: 0.946372\tvalid_1's auc: 0.945801\n",
      "[3550]\tvalid_0's auc: 0.946548\tvalid_1's auc: 0.945875\n",
      "[3600]\tvalid_0's auc: 0.946706\tvalid_1's auc: 0.945891\n",
      "[3650]\tvalid_0's auc: 0.946848\tvalid_1's auc: 0.945972\n",
      "[3700]\tvalid_0's auc: 0.947009\tvalid_1's auc: 0.946017\n",
      "[3750]\tvalid_0's auc: 0.947173\tvalid_1's auc: 0.946073\n",
      "[3800]\tvalid_0's auc: 0.947338\tvalid_1's auc: 0.946128\n",
      "[3850]\tvalid_0's auc: 0.947497\tvalid_1's auc: 0.946185\n",
      "[3900]\tvalid_0's auc: 0.947638\tvalid_1's auc: 0.946228\n",
      "[3950]\tvalid_0's auc: 0.947791\tvalid_1's auc: 0.946312\n",
      "[4000]\tvalid_0's auc: 0.947931\tvalid_1's auc: 0.946381\n",
      "[4050]\tvalid_0's auc: 0.948084\tvalid_1's auc: 0.946415\n",
      "[4100]\tvalid_0's auc: 0.948249\tvalid_1's auc: 0.946473\n",
      "[4150]\tvalid_0's auc: 0.948388\tvalid_1's auc: 0.946522\n",
      "[4200]\tvalid_0's auc: 0.94854\tvalid_1's auc: 0.946564\n",
      "[4250]\tvalid_0's auc: 0.9487\tvalid_1's auc: 0.946601\n",
      "[4300]\tvalid_0's auc: 0.948829\tvalid_1's auc: 0.94665\n",
      "[4350]\tvalid_0's auc: 0.948976\tvalid_1's auc: 0.946725\n",
      "[4400]\tvalid_0's auc: 0.949123\tvalid_1's auc: 0.946788\n",
      "[4450]\tvalid_0's auc: 0.949288\tvalid_1's auc: 0.946813\n",
      "[4500]\tvalid_0's auc: 0.949428\tvalid_1's auc: 0.946848\n",
      "[4550]\tvalid_0's auc: 0.949557\tvalid_1's auc: 0.946882\n",
      "[4600]\tvalid_0's auc: 0.949681\tvalid_1's auc: 0.946941\n",
      "[4650]\tvalid_0's auc: 0.949805\tvalid_1's auc: 0.946946\n",
      "[4700]\tvalid_0's auc: 0.94994\tvalid_1's auc: 0.94696\n",
      "[4750]\tvalid_0's auc: 0.950069\tvalid_1's auc: 0.94698\n",
      "[4800]\tvalid_0's auc: 0.950204\tvalid_1's auc: 0.946949\n",
      "[4850]\tvalid_0's auc: 0.950347\tvalid_1's auc: 0.946982\n",
      "[4900]\tvalid_0's auc: 0.950473\tvalid_1's auc: 0.947016\n",
      "[4950]\tvalid_0's auc: 0.950608\tvalid_1's auc: 0.947042\n",
      "[5000]\tvalid_0's auc: 0.950717\tvalid_1's auc: 0.947083\n",
      "[5050]\tvalid_0's auc: 0.950855\tvalid_1's auc: 0.947108\n",
      "[5100]\tvalid_0's auc: 0.950982\tvalid_1's auc: 0.947135\n",
      "[5150]\tvalid_0's auc: 0.951142\tvalid_1's auc: 0.947144\n",
      "[5200]\tvalid_0's auc: 0.951263\tvalid_1's auc: 0.947135\n",
      "[5250]\tvalid_0's auc: 0.951392\tvalid_1's auc: 0.947178\n",
      "[5300]\tvalid_0's auc: 0.951504\tvalid_1's auc: 0.947196\n",
      "[5350]\tvalid_0's auc: 0.95162\tvalid_1's auc: 0.947208\n",
      "[5400]\tvalid_0's auc: 0.951733\tvalid_1's auc: 0.94725\n",
      "[5450]\tvalid_0's auc: 0.951862\tvalid_1's auc: 0.947287\n",
      "[5500]\tvalid_0's auc: 0.951979\tvalid_1's auc: 0.947308\n",
      "[5550]\tvalid_0's auc: 0.952108\tvalid_1's auc: 0.947301\n",
      "[5600]\tvalid_0's auc: 0.952249\tvalid_1's auc: 0.947308\n",
      "[5650]\tvalid_0's auc: 0.952377\tvalid_1's auc: 0.947317\n",
      "[5700]\tvalid_0's auc: 0.952505\tvalid_1's auc: 0.947275\n",
      "[5750]\tvalid_0's auc: 0.952641\tvalid_1's auc: 0.947311\n",
      "[5800]\tvalid_0's auc: 0.952782\tvalid_1's auc: 0.9473\n",
      "[5850]\tvalid_0's auc: 0.952903\tvalid_1's auc: 0.94727\n",
      "[5900]\tvalid_0's auc: 0.953013\tvalid_1's auc: 0.947299\n",
      "[5950]\tvalid_0's auc: 0.95312\tvalid_1's auc: 0.947307\n",
      "[6000]\tvalid_0's auc: 0.953247\tvalid_1's auc: 0.947302\n",
      "[6050]\tvalid_0's auc: 0.953354\tvalid_1's auc: 0.947282\n",
      "Early stopping, best iteration is:\n",
      "[5653]\tvalid_0's auc: 0.952383\tvalid_1's auc: 0.947328\n"
     ]
    }
   ],
   "source": [
    "lgb_params = {\n",
    "    \"n_estimators\": 100000,\n",
    "    \"boosting_type\": \"gbdt\",\n",
    "    \"num_leaves\": 3,\n",
    "    \"max_depth\": 4,\n",
    "    \"colsample_bytree\": 0.45,\n",
    "    \"metric\": None,\n",
    "    \"subsample\": 0.7,\n",
    "    \"learning_rate\": 0.004,\n",
    "    \"reg_lambda\": 1,\n",
    "    \"reg_alpha\": 1,\n",
    "    \"min_data_in_leaf\": 713,\n",
    "    \"min_child_samples\": 200,\n",
    "    \"max_bin\": 255,\n",
    "    \"cat_smooth\": 50,\n",
    "    \"max_cat_threshold\": 32,\n",
    "    \"cat_l2\": 50,\n",
    "    \"seed\": 786,\n",
    "    \"allow_nan\": True\n",
    "}\n",
    "model = lgb.LGBMClassifier(**lgb_params)\n",
    "\n",
    "feats = [f for i, f in enumerate(x_tr.columns) if ('coupon_details' not in f) and ('common_repeats' not in f) and\n",
    "         (f not in ['campaign_id', 'customer_campaign_count', 'redemption_status']) and (i not in [19, 37, 45, 46, 47,\n",
    "                                                                              383])] \n",
    "#xx_tr = qnt.fit_transform(x_tr[feats].fillna(-999))\n",
    "#xx_val = qnt.fit_transform(x_val[feats].fillna(-999))\n",
    "model.fit(x_tr[feats], y_tr, eval_set=[(x_tr[feats], y_tr), (x_val[feats], y_val)], eval_metric='auc', verbose=50, early_stopping_rounds=400) \n",
    "val_preds = model.predict_proba(x_val[feats])[:, 1]"
   ]
  },
  {
   "cell_type": "code",
   "execution_count": 92,
   "metadata": {},
   "outputs": [],
   "source": [
    "x_train, y_train, x_test, _ = load_data('test')\n",
    "x_train, x_test = map_campign_id(x_train, x_test, 'test')\n",
    "x_train = get_rank_features(x_train)\n",
    "x_test = get_rank_features(x_test)\n",
    "\n",
    "#train = load_pickle(FileNames.train_v2)\n",
    "#test = load_pickle(FileNames.test_v2)\n",
    "#hist_artifact = load_pickle(FileNames.cust_train_artifact1)\n",
    "#x_tr = map_brand_categories(x_tr, tr, hist_artifact)\n",
    "#x_val = map_brand_categories(x_val, val, hist_artifact)\n",
    "\n",
    "y_train = y_train[x_train.coupon_id != 8]\n",
    "x_train = x_train.loc[x_train.coupon_id != 8]\n",
    "\n",
    "#cvlist = StratifiedKFold(10, random_state=123).split(x_tr, y_tr)\n",
    "#x_tr['cust_trenc'] = cross_val_predict(trenc, x_tr, y_tr, cv=cvlist, n_jobs=-1, method='transform')\n",
    "#x_val['cust_trenc'] = trenc.fit(x_tr).transform(x_val)"
   ]
  },
  {
   "cell_type": "code",
   "execution_count": 93,
   "metadata": {
    "scrolled": true
   },
   "outputs": [
    {
     "name": "stdout",
     "output_type": "stream",
     "text": [
      "[50]\tvalid_0's auc: 0.904669\n",
      "[100]\tvalid_0's auc: 0.909066\n",
      "[150]\tvalid_0's auc: 0.91147\n",
      "[200]\tvalid_0's auc: 0.913163\n",
      "[250]\tvalid_0's auc: 0.917014\n",
      "[300]\tvalid_0's auc: 0.920692\n",
      "[350]\tvalid_0's auc: 0.922345\n",
      "[400]\tvalid_0's auc: 0.92406\n",
      "[450]\tvalid_0's auc: 0.925751\n",
      "[500]\tvalid_0's auc: 0.926375\n",
      "[550]\tvalid_0's auc: 0.928574\n",
      "[600]\tvalid_0's auc: 0.93015\n",
      "[650]\tvalid_0's auc: 0.931756\n",
      "[700]\tvalid_0's auc: 0.932926\n",
      "[750]\tvalid_0's auc: 0.933881\n",
      "[800]\tvalid_0's auc: 0.934808\n",
      "[850]\tvalid_0's auc: 0.935426\n",
      "[900]\tvalid_0's auc: 0.935886\n",
      "[950]\tvalid_0's auc: 0.936279\n",
      "[1000]\tvalid_0's auc: 0.936948\n",
      "[1050]\tvalid_0's auc: 0.937548\n",
      "[1100]\tvalid_0's auc: 0.937949\n",
      "[1150]\tvalid_0's auc: 0.938446\n",
      "[1200]\tvalid_0's auc: 0.938864\n",
      "[1250]\tvalid_0's auc: 0.939297\n",
      "[1300]\tvalid_0's auc: 0.939662\n",
      "[1350]\tvalid_0's auc: 0.939994\n",
      "[1400]\tvalid_0's auc: 0.940301\n",
      "[1450]\tvalid_0's auc: 0.940548\n",
      "[1500]\tvalid_0's auc: 0.94086\n",
      "[1550]\tvalid_0's auc: 0.94113\n",
      "[1600]\tvalid_0's auc: 0.941417\n",
      "[1650]\tvalid_0's auc: 0.941647\n",
      "[1700]\tvalid_0's auc: 0.941912\n",
      "[1750]\tvalid_0's auc: 0.942231\n",
      "[1800]\tvalid_0's auc: 0.942503\n",
      "[1850]\tvalid_0's auc: 0.942783\n",
      "[1900]\tvalid_0's auc: 0.943065\n",
      "[1950]\tvalid_0's auc: 0.943301\n",
      "[2000]\tvalid_0's auc: 0.94356\n",
      "[2050]\tvalid_0's auc: 0.943792\n",
      "[2100]\tvalid_0's auc: 0.944034\n",
      "[2150]\tvalid_0's auc: 0.944264\n",
      "[2200]\tvalid_0's auc: 0.944462\n",
      "[2250]\tvalid_0's auc: 0.944659\n",
      "[2300]\tvalid_0's auc: 0.944886\n",
      "[2350]\tvalid_0's auc: 0.945084\n",
      "[2400]\tvalid_0's auc: 0.945321\n",
      "[2450]\tvalid_0's auc: 0.945577\n",
      "[2500]\tvalid_0's auc: 0.945839\n",
      "[2550]\tvalid_0's auc: 0.946052\n",
      "[2600]\tvalid_0's auc: 0.946275\n",
      "[2650]\tvalid_0's auc: 0.946486\n",
      "[2700]\tvalid_0's auc: 0.946706\n",
      "[2750]\tvalid_0's auc: 0.946917\n",
      "[2800]\tvalid_0's auc: 0.947115\n",
      "[2850]\tvalid_0's auc: 0.947322\n",
      "[2900]\tvalid_0's auc: 0.947529\n",
      "[2950]\tvalid_0's auc: 0.947698\n",
      "[3000]\tvalid_0's auc: 0.947888\n",
      "[3050]\tvalid_0's auc: 0.948104\n",
      "[3100]\tvalid_0's auc: 0.948287\n",
      "[3150]\tvalid_0's auc: 0.948461\n",
      "[3200]\tvalid_0's auc: 0.94865\n",
      "[3250]\tvalid_0's auc: 0.948833\n",
      "[3300]\tvalid_0's auc: 0.949006\n",
      "[3350]\tvalid_0's auc: 0.949159\n",
      "[3400]\tvalid_0's auc: 0.949312\n",
      "[3450]\tvalid_0's auc: 0.949471\n",
      "[3500]\tvalid_0's auc: 0.949636\n",
      "[3550]\tvalid_0's auc: 0.949789\n",
      "[3600]\tvalid_0's auc: 0.949946\n",
      "[3650]\tvalid_0's auc: 0.950103\n",
      "[3700]\tvalid_0's auc: 0.950229\n",
      "[3750]\tvalid_0's auc: 0.950391\n",
      "[3800]\tvalid_0's auc: 0.950529\n",
      "[3850]\tvalid_0's auc: 0.950661\n",
      "[3900]\tvalid_0's auc: 0.950778\n",
      "[3950]\tvalid_0's auc: 0.950914\n",
      "[4000]\tvalid_0's auc: 0.951036\n",
      "[4050]\tvalid_0's auc: 0.951158\n",
      "[4100]\tvalid_0's auc: 0.951271\n",
      "[4150]\tvalid_0's auc: 0.951391\n",
      "[4200]\tvalid_0's auc: 0.951503\n",
      "[4250]\tvalid_0's auc: 0.951631\n",
      "[4300]\tvalid_0's auc: 0.951726\n",
      "[4350]\tvalid_0's auc: 0.951825\n",
      "[4400]\tvalid_0's auc: 0.951935\n",
      "[4450]\tvalid_0's auc: 0.952036\n",
      "[4500]\tvalid_0's auc: 0.95213\n",
      "[4550]\tvalid_0's auc: 0.952228\n",
      "[4600]\tvalid_0's auc: 0.952335\n",
      "[4650]\tvalid_0's auc: 0.952447\n",
      "[4700]\tvalid_0's auc: 0.952529\n"
     ]
    }
   ],
   "source": [
    "lgb_params['n_estimators'] = 4700\n",
    "model = lgb.LGBMClassifier(**lgb_params)\n",
    "\n",
    "model.fit(x_train[feats], y_train, eval_set=[(x_train[feats], y_train)], eval_metric='auc', verbose=50)\n",
    "test_preds = model.predict_proba(x_test[feats])[:, 1]"
   ]
  },
  {
   "cell_type": "code",
   "execution_count": 94,
   "metadata": {},
   "outputs": [
    {
     "name": "stderr",
     "output_type": "stream",
     "text": [
      "/home/mohsin/kg7/lib/python3.7/site-packages/scipy/stats/stats.py:1713: FutureWarning: Using a non-tuple sequence for multidimensional indexing is deprecated; use `arr[tuple(seq)]` instead of `arr[seq]`. In the future this will be interpreted as an array index, `arr[np.array(seq)]`, which will result either in an error or a different result.\n",
      "  return np.add.reduce(sorted[indexer] * weights, axis=axis) / sumval\n"
     ]
    },
    {
     "data": {
      "text/plain": [
       "<matplotlib.axes._subplots.AxesSubplot at 0x7f471c909da0>"
      ]
     },
     "execution_count": 94,
     "metadata": {},
     "output_type": "execute_result"
    },
    {
     "data": {
      "image/png": "[encoded data removed]",
      "text/plain": [
       "<Figure size 432x288 with 1 Axes>"
      ]
     },
     "metadata": {
      "needs_background": "light"
     },
     "output_type": "display_data"
    }
   ],
   "source": [
    "sns.distplot(np.sqrt(val_preds))\n",
    "sns.distplot(np.sqrt(test_preds))"
   ]
  },
  {
   "cell_type": "code",
   "execution_count": 95,
   "metadata": {},
   "outputs": [
    {
     "name": "stderr",
     "output_type": "stream",
     "text": [
      "/home/mohsin/kg7/lib/python3.7/site-packages/ipykernel_launcher.py:3: SettingWithCopyWarning: \n",
      "A value is trying to be set on a copy of a slice from a DataFrame.\n",
      "Try using .loc[row_indexer,col_indexer] = value instead\n",
      "\n",
      "See the caveats in the documentation: http://pandas.pydata.org/pandas-docs/stable/user_guide/indexing.html#returning-a-view-versus-a-copy\n",
      "  This is separate from the ipykernel package so we can avoid doing imports until\n"
     ]
    },
    {
     "data": {
      "text/html": [
       "<div>\n",
       "<style scoped>\n",
       "    .dataframe tbody tr th:only-of-type {\n",
       "        vertical-align: middle;\n",
       "    }\n",
       "\n",
       "    .dataframe tbody tr th {\n",
       "        vertical-align: top;\n",
       "    }\n",
       "\n",
       "    .dataframe thead th {\n",
       "        text-align: right;\n",
       "    }\n",
       "</style>\n",
       "<table border=\"1\" class=\"dataframe\">\n",
       "  <thead>\n",
       "    <tr style=\"text-align: right;\">\n",
       "      <th></th>\n",
       "      <th>id</th>\n",
       "      <th>redemption_status</th>\n",
       "    </tr>\n",
       "  </thead>\n",
       "  <tbody>\n",
       "    <tr>\n",
       "      <td>0</td>\n",
       "      <td>3</td>\n",
       "      <td>0.392643</td>\n",
       "    </tr>\n",
       "    <tr>\n",
       "      <td>1</td>\n",
       "      <td>4</td>\n",
       "      <td>0.012221</td>\n",
       "    </tr>\n",
       "    <tr>\n",
       "      <td>2</td>\n",
       "      <td>5</td>\n",
       "      <td>0.009367</td>\n",
       "    </tr>\n",
       "    <tr>\n",
       "      <td>3</td>\n",
       "      <td>8</td>\n",
       "      <td>0.000737</td>\n",
       "    </tr>\n",
       "    <tr>\n",
       "      <td>4</td>\n",
       "      <td>10</td>\n",
       "      <td>0.000828</td>\n",
       "    </tr>\n",
       "  </tbody>\n",
       "</table>\n",
       "</div>"
      ],
      "text/plain": [
       "   id  redemption_status\n",
       "0   3           0.392643\n",
       "1   4           0.012221\n",
       "2   5           0.009367\n",
       "3   8           0.000737\n",
       "4  10           0.000828"
      ]
     },
     "execution_count": 95,
     "metadata": {},
     "output_type": "execute_result"
    }
   ],
   "source": [
    "test = pd.read_csv('data/test.csv')\n",
    "sub = test[['id']]\n",
    "sub['redemption_status'] = test_preds\n",
    "sub.head()"
   ]
  },
  {
   "cell_type": "code",
   "execution_count": 96,
   "metadata": {},
   "outputs": [],
   "source": [
    "sub.to_csv('data/sub_model12.csv', index=False)"
   ]
  },
  {
   "cell_type": "code",
   "execution_count": 97,
   "metadata": {},
   "outputs": [],
   "source": [
    "sube1 = pd.read_csv('sub_en1.csv')\n",
    "sub1 = pd.read_csv('data/sub_v8.csv')\n",
    "tmp = pd.read_csv('data/tmp.csv')"
   ]
  },
  {
   "cell_type": "code",
   "execution_count": 16,
   "metadata": {},
   "outputs": [],
   "source": [
    "from scipy.stats import spearmanr"
   ]
  },
  {
   "cell_type": "code",
   "execution_count": 17,
   "metadata": {},
   "outputs": [
    {
     "data": {
      "text/plain": [
       "SpearmanrResult(correlation=0.9652978032142759, pvalue=0.0)"
      ]
     },
     "execution_count": 17,
     "metadata": {},
     "output_type": "execute_result"
    }
   ],
   "source": [
    "spearmanr(test_preds, tmp.redemption_status)"
   ]
  },
  {
   "cell_type": "code",
   "execution_count": 18,
   "metadata": {},
   "outputs": [
    {
     "data": {
      "text/plain": [
       "SpearmanrResult(correlation=0.9909411963163374, pvalue=0.0)"
      ]
     },
     "execution_count": 18,
     "metadata": {},
     "output_type": "execute_result"
    }
   ],
   "source": [
    "spearmanr(sube1.redemption_status, sub1.redemption_status)"
   ]
  },
  {
   "cell_type": "code",
   "execution_count": 19,
   "metadata": {},
   "outputs": [
    {
     "data": {
      "text/plain": [
       "SpearmanrResult(correlation=0.9635289084651666, pvalue=0.0)"
      ]
     },
     "execution_count": 19,
     "metadata": {},
     "output_type": "execute_result"
    }
   ],
   "source": [
    "spearmanr(test_preds, sub1.redemption_status)"
   ]
  },
  {
   "cell_type": "code",
   "execution_count": 20,
   "metadata": {},
   "outputs": [
    {
     "data": {
      "text/plain": [
       "SpearmanrResult(correlation=0.9759449673820652, pvalue=0.0)"
      ]
     },
     "execution_count": 20,
     "metadata": {},
     "output_type": "execute_result"
    }
   ],
   "source": [
    "spearmanr(test_preds, sube1.redemption_status)"
   ]
  },
  {
   "cell_type": "code",
   "execution_count": null,
   "metadata": {},
   "outputs": [],
   "source": []
  }
 ],
 "metadata": {
  "kernelspec": {
   "display_name": "Python 3",
   "language": "python",
   "name": "python3"
  },
  "language_info": {
   "codemirror_mode": {
    "name": "ipython",
    "version": 3
   },
   "file_extension": ".py",
   "mimetype": "text/x-python",
   "name": "python",
   "nbconvert_exporter": "python",
   "pygments_lexer": "ipython3",
   "version": "3.7.3"
  }
 },
 "nbformat": 4,
 "nbformat_minor": 2
}

{
 "cells": [
  {
   "cell_type": "code",
   "execution_count": 1,
   "metadata": {},
   "outputs": [],
   "source": [
    "import numpy as np\n",
    "import pandas as pd\n",
    "import json\n",
    "import joblib\n",
    "\n",
    "import matplotlib.pyplot as plt\n",
    "import seaborn as sns\n",
    "from sklearn.metrics import roc_auc_score\n",
    "import catboost as cat\n",
    "from mllib.params import FieldNames, FileNames\n",
    "from mllib.utils import load_pickle"
   ]
  },
  {
   "cell_type": "code",
   "execution_count": 2,
   "metadata": {},
   "outputs": [],
   "source": [
    "def make_x_y(x_tr, x_val, flag='val'):\n",
    "    y_tr = x_tr['redemption_status'].values\n",
    "    del x_tr['redemption_status']\n",
    "\n",
    "    if flag == 'val':\n",
    "        y_val = x_val['redemption_status'].values\n",
    "        del x_val['redemption_status']\n",
    "    else:\n",
    "        y_val = None\n",
    "    return x_tr, y_tr, x_val, y_val\n",
    "\n",
    "\n",
    "def get_rank_features(df):\n",
    "    df['cust_coupon_rank1'] = df.groupby(['customer_id', 'campaign_id'])['common_item_set_0'].rank('max')/df['customer_campaign_count']\n",
    "    df['cust_coupon_rank2'] = df.groupby(['customer_id', 'campaign_id'])['common_item_set_1'].rank('max')/df['customer_campaign_count']\n",
    "    df['cust_coupon_rank3'] = df.groupby(['customer_id', 'campaign_id'])['common_item_set_2'].rank('max')/df['customer_campaign_count']\n",
    "    df['customer_rank1'] = df.groupby(['customer_id'])['common_item_set_0'].rank('max')/df.groupby('customer_id').size()\n",
    "    # df['customer_rank2'] = df.groupby(['customer_id'])['common_item_set_1'].rank('max')/df.groupby('customer_id').size()\n",
    "    # df['customer_rank3'] = df.groupby(['customer_id'])['common_item_set_2'].rank('max')/df.groupby('customer_id').size()\n",
    "    df['campaign_rank1'] = df.groupby(['campaign_id'])['common_item_set_0'].rank('max')/df.groupby('campaign_id').size()\n",
    "    #df['campaign_rank2'] = df.groupby(['campaign_id'])['common_item_set_1'].rank('max')/df.groupby('campaign_id').size()\n",
    "    #df['campaign_rank3'] = df.groupby(['campaign_id'])['common_item_set_2'].rank('max')/df.groupby('campaign_id').size()\n",
    "    df['coupon_rank1'] = df.groupby(['coupon_id'])['common_item_set_0'].rank('max')/df.groupby('coupon_id').size()\n",
    "    #df['coupon_rank2'] = df.groupby(['coupon_id'])['common_item_set_1'].rank('max')/df.groupby('coupon_id').size()\n",
    "\n",
    "    return df\n",
    "\n",
    "\n",
    "def load_data(flag='val'):\n",
    "    if flag == 'val':\n",
    "        x_tr = load_pickle(FileNames.tr_features_v2)\n",
    "        x_val = load_pickle(FileNames.val_features_v2)\n",
    "    elif flag == 'test':\n",
    "        x_tr = load_pickle(FileNames.train_features_v2)\n",
    "        x_val = load_pickle(FileNames.test_features_v2)\n",
    "    \n",
    "    return make_x_y(x_tr, x_val, flag=flag)\n",
    "\n",
    "\n",
    "def map_campign_id(x_tr, x_val, flag='val'):\n",
    "    if flag == 'val':\n",
    "        tr = load_pickle(FileNames.tr_v2)\n",
    "        val = load_pickle(FileNames.val_v2)\n",
    "    elif flag == 'test':\n",
    "        tr = load_pickle(FileNames.train_v2)\n",
    "        val = load_pickle(FileNames.test_v2)\n",
    "        \n",
    "    x_tr['campaign_id'] = tr['campaign_id'].values\n",
    "    x_val['campaign_id'] = val['campaign_id'].values\n",
    "    return x_tr, x_val"
   ]
  },
  {
   "cell_type": "code",
   "execution_count": 3,
   "metadata": {},
   "outputs": [],
   "source": [
    "x_tr, y_tr, x_val, y_val = load_data('val')\n",
    "x_tr, x_val = map_campign_id(x_tr, x_val, 'val')"
   ]
  },
  {
   "cell_type": "code",
   "execution_count": 4,
   "metadata": {},
   "outputs": [
    {
     "data": {
      "text/plain": [
       "390"
      ]
     },
     "execution_count": 4,
     "metadata": {},
     "output_type": "execute_result"
    }
   ],
   "source": [
    "n_feats = x_tr.shape[1] - 1\n",
    "n_feats"
   ]
  },
  {
   "cell_type": "code",
   "execution_count": 5,
   "metadata": {},
   "outputs": [],
   "source": [
    "x_tr = get_rank_features(x_tr)\n",
    "x_val = get_rank_features(x_val)"
   ]
  },
  {
   "cell_type": "code",
   "execution_count": 21,
   "metadata": {
    "scrolled": true
   },
   "outputs": [
    {
     "name": "stderr",
     "output_type": "stream",
     "text": [
      "Warning: less than 75% gpu memory available for training. Free: 1181.75 Total: 2002.625\n"
     ]
    },
    {
     "name": "stdout",
     "output_type": "stream",
     "text": [
      "0:\tlearn: 0.6502330\ttest: 0.6712565\tbest: 0.6712565 (0)\ttotal: 10.2ms\tremaining: 13.7s\n",
      "50:\tlearn: 0.8567452\ttest: 0.8801089\tbest: 0.8801089 (50)\ttotal: 540ms\tremaining: 13.7s\n",
      "100:\tlearn: 0.8993230\ttest: 0.9081627\tbest: 0.9081627 (100)\ttotal: 1.13s\tremaining: 13.9s\n",
      "150:\tlearn: 0.9160463\ttest: 0.9210444\tbest: 0.9215026 (134)\ttotal: 1.72s\tremaining: 13.7s\n",
      "200:\tlearn: 0.9197100\ttest: 0.9234623\tbest: 0.9235511 (199)\ttotal: 2.2s\tremaining: 12.6s\n",
      "250:\tlearn: 0.9251345\ttest: 0.9297033\tbest: 0.9297033 (250)\ttotal: 2.69s\tremaining: 11.8s\n",
      "300:\tlearn: 0.9292654\ttest: 0.9336531\tbest: 0.9336531 (300)\ttotal: 3.16s\tremaining: 11s\n",
      "350:\tlearn: 0.9328615\ttest: 0.9364521\tbest: 0.9364521 (350)\ttotal: 3.65s\tremaining: 10.4s\n",
      "400:\tlearn: 0.9355123\ttest: 0.9385256\tbest: 0.9385256 (400)\ttotal: 4.14s\tremaining: 9.79s\n",
      "450:\tlearn: 0.9376121\ttest: 0.9399242\tbest: 0.9399242 (450)\ttotal: 4.61s\tremaining: 9.19s\n",
      "500:\tlearn: 0.9397010\ttest: 0.9416050\tbest: 0.9416127 (499)\ttotal: 5.08s\tremaining: 8.61s\n",
      "550:\tlearn: 0.9415681\ttest: 0.9428857\tbest: 0.9428857 (550)\ttotal: 5.57s\tremaining: 8.07s\n",
      "600:\tlearn: 0.9431558\ttest: 0.9437018\tbest: 0.9437018 (600)\ttotal: 6.08s\tremaining: 7.58s\n",
      "650:\tlearn: 0.9446194\ttest: 0.9443494\tbest: 0.9443494 (650)\ttotal: 6.58s\tremaining: 7.06s\n",
      "700:\tlearn: 0.9458715\ttest: 0.9450107\tbest: 0.9450107 (700)\ttotal: 7.08s\tremaining: 6.56s\n",
      "750:\tlearn: 0.9470950\ttest: 0.9456856\tbest: 0.9456885 (749)\ttotal: 7.56s\tremaining: 6.03s\n",
      "800:\tlearn: 0.9481673\ttest: 0.9460317\tbest: 0.9460317 (800)\ttotal: 8.03s\tremaining: 5.5s\n",
      "850:\tlearn: 0.9493168\ttest: 0.9463482\tbest: 0.9463635 (849)\ttotal: 8.52s\tremaining: 5s\n",
      "900:\tlearn: 0.9504471\ttest: 0.9464784\tbest: 0.9464915 (899)\ttotal: 9.02s\tremaining: 4.5s\n",
      "950:\tlearn: 0.9515120\ttest: 0.9467696\tbest: 0.9467696 (950)\ttotal: 9.53s\tremaining: 4s\n",
      "1000:\tlearn: 0.9523913\ttest: 0.9470013\tbest: 0.9470013 (1000)\ttotal: 10s\tremaining: 3.5s\n",
      "1050:\tlearn: 0.9531232\ttest: 0.9472351\tbest: 0.9472451 (1048)\ttotal: 10.5s\tremaining: 2.99s\n",
      "1100:\tlearn: 0.9538274\ttest: 0.9471649\tbest: 0.9473262 (1065)\ttotal: 11s\tremaining: 2.49s\n",
      "1150:\tlearn: 0.9544618\ttest: 0.9472949\tbest: 0.9473335 (1144)\ttotal: 11.5s\tremaining: 1.99s\n",
      "1200:\tlearn: 0.9550239\ttest: 0.9473558\tbest: 0.9473558 (1200)\ttotal: 12s\tremaining: 1.49s\n",
      "1250:\tlearn: 0.9558412\ttest: 0.9474280\tbest: 0.9474497 (1220)\ttotal: 12.5s\tremaining: 986ms\n",
      "1300:\tlearn: 0.9564236\ttest: 0.9472045\tbest: 0.9474497 (1220)\ttotal: 12.9s\tremaining: 487ms\n",
      "1349:\tlearn: 0.9570331\ttest: 0.9472793\tbest: 0.9474497 (1220)\ttotal: 13.4s\tremaining: 0us\n",
      "bestTest = 0.9474497139\n",
      "bestIteration = 1220\n",
      "Shrink model to first 1221 iterations.\n"
     ]
    },
    {
     "name": "stderr",
     "output_type": "stream",
     "text": [
      "Warning: less than 75% gpu memory available for training. Free: 1181.75 Total: 2002.625\n"
     ]
    },
    {
     "name": "stdout",
     "output_type": "stream",
     "text": [
      "0:\tlearn: 0.6502330\ttest: 0.6712565\tbest: 0.6712565 (0)\ttotal: 11.7ms\tremaining: 15.8s\n",
      "50:\tlearn: 0.8567453\ttest: 0.8801087\tbest: 0.8801087 (50)\ttotal: 465ms\tremaining: 11.8s\n",
      "100:\tlearn: 0.8993154\ttest: 0.9081481\tbest: 0.9081481 (100)\ttotal: 939ms\tremaining: 11.6s\n",
      "150:\tlearn: 0.9161676\ttest: 0.9209758\tbest: 0.9215776 (136)\ttotal: 1.44s\tremaining: 11.4s\n",
      "200:\tlearn: 0.9198800\ttest: 0.9236892\tbest: 0.9236892 (200)\ttotal: 1.94s\tremaining: 11.1s\n",
      "250:\tlearn: 0.9251308\ttest: 0.9296472\tbest: 0.9296472 (250)\ttotal: 2.42s\tremaining: 10.6s\n",
      "300:\tlearn: 0.9293948\ttest: 0.9338253\tbest: 0.9338253 (300)\ttotal: 2.92s\tremaining: 10.2s\n",
      "350:\tlearn: 0.9328297\ttest: 0.9364808\tbest: 0.9364808 (350)\ttotal: 3.42s\tremaining: 9.73s\n",
      "400:\tlearn: 0.9353922\ttest: 0.9383323\tbest: 0.9383323 (400)\ttotal: 3.91s\tremaining: 9.25s\n",
      "450:\tlearn: 0.9376659\ttest: 0.9401047\tbest: 0.9401047 (450)\ttotal: 4.41s\tremaining: 8.79s\n",
      "500:\tlearn: 0.9395485\ttest: 0.9415616\tbest: 0.9415688 (499)\ttotal: 4.89s\tremaining: 8.29s\n",
      "550:\tlearn: 0.9414006\ttest: 0.9427534\tbest: 0.9427811 (548)\ttotal: 5.54s\tremaining: 8.04s\n",
      "600:\tlearn: 0.9429666\ttest: 0.9435311\tbest: 0.9435311 (600)\ttotal: 6.13s\tremaining: 7.64s\n",
      "650:\tlearn: 0.9444737\ttest: 0.9442854\tbest: 0.9443150 (648)\ttotal: 6.63s\tremaining: 7.12s\n",
      "700:\tlearn: 0.9458370\ttest: 0.9450460\tbest: 0.9450577 (697)\ttotal: 7.16s\tremaining: 6.63s\n",
      "750:\tlearn: 0.9469884\ttest: 0.9455237\tbest: 0.9455361 (748)\ttotal: 7.71s\tremaining: 6.15s\n",
      "800:\tlearn: 0.9480969\ttest: 0.9458710\tbest: 0.9458846 (799)\ttotal: 8.22s\tremaining: 5.63s\n",
      "850:\tlearn: 0.9492978\ttest: 0.9462700\tbest: 0.9462810 (848)\ttotal: 8.78s\tremaining: 5.14s\n",
      "900:\tlearn: 0.9504307\ttest: 0.9465362\tbest: 0.9465515 (898)\ttotal: 9.36s\tremaining: 4.66s\n",
      "950:\tlearn: 0.9514866\ttest: 0.9467981\tbest: 0.9467981 (950)\ttotal: 9.96s\tremaining: 4.18s\n",
      "1000:\tlearn: 0.9523577\ttest: 0.9470070\tbest: 0.9470087 (991)\ttotal: 10.5s\tremaining: 3.67s\n",
      "1050:\tlearn: 0.9531609\ttest: 0.9472788\tbest: 0.9472788 (1050)\ttotal: 11s\tremaining: 3.14s\n",
      "1100:\tlearn: 0.9538425\ttest: 0.9474983\tbest: 0.9474983 (1100)\ttotal: 11.5s\tremaining: 2.61s\n",
      "1150:\tlearn: 0.9545487\ttest: 0.9476453\tbest: 0.9476453 (1150)\ttotal: 12s\tremaining: 2.08s\n",
      "1200:\tlearn: 0.9552565\ttest: 0.9476358\tbest: 0.9476760 (1186)\ttotal: 12.5s\tremaining: 1.55s\n",
      "1250:\tlearn: 0.9559784\ttest: 0.9476885\tbest: 0.9477295 (1248)\ttotal: 13s\tremaining: 1.03s\n",
      "1300:\tlearn: 0.9565983\ttest: 0.9477099\tbest: 0.9477643 (1282)\ttotal: 13.5s\tremaining: 510ms\n",
      "1349:\tlearn: 0.9572892\ttest: 0.9477957\tbest: 0.9477991 (1336)\ttotal: 14s\tremaining: 0us\n",
      "bestTest = 0.9477990866\n",
      "bestIteration = 1336\n",
      "Shrink model to first 1337 iterations.\n"
     ]
    },
    {
     "name": "stderr",
     "output_type": "stream",
     "text": [
      "Warning: less than 75% gpu memory available for training. Free: 1189.8125 Total: 2002.625\n"
     ]
    },
    {
     "name": "stdout",
     "output_type": "stream",
     "text": [
      "0:\tlearn: 0.6502330\ttest: 0.6712565\tbest: 0.6712565 (0)\ttotal: 12.4ms\tremaining: 16.7s\n",
      "50:\tlearn: 0.8567453\ttest: 0.8801098\tbest: 0.8801098 (50)\ttotal: 717ms\tremaining: 18.3s\n",
      "100:\tlearn: 0.8993237\ttest: 0.9081650\tbest: 0.9081650 (100)\ttotal: 1.31s\tremaining: 16.2s\n",
      "150:\tlearn: 0.9160618\ttest: 0.9210281\tbest: 0.9215972 (136)\ttotal: 1.9s\tremaining: 15.1s\n",
      "200:\tlearn: 0.9202906\ttest: 0.9237643\tbest: 0.9237643 (200)\ttotal: 2.4s\tremaining: 13.7s\n",
      "250:\tlearn: 0.9250585\ttest: 0.9298339\tbest: 0.9298339 (250)\ttotal: 2.89s\tremaining: 12.6s\n",
      "300:\tlearn: 0.9292981\ttest: 0.9338868\tbest: 0.9338868 (300)\ttotal: 3.38s\tremaining: 11.8s\n",
      "350:\tlearn: 0.9327463\ttest: 0.9365327\tbest: 0.9365327 (350)\ttotal: 3.87s\tremaining: 11s\n",
      "400:\tlearn: 0.9353649\ttest: 0.9383639\tbest: 0.9383689 (395)\ttotal: 4.37s\tremaining: 10.3s\n",
      "450:\tlearn: 0.9375775\ttest: 0.9401342\tbest: 0.9401342 (450)\ttotal: 4.85s\tremaining: 9.67s\n",
      "500:\tlearn: 0.9397015\ttest: 0.9417132\tbest: 0.9417279 (499)\ttotal: 5.35s\tremaining: 9.07s\n",
      "550:\tlearn: 0.9414791\ttest: 0.9428215\tbest: 0.9428215 (550)\ttotal: 5.84s\tremaining: 8.47s\n",
      "600:\tlearn: 0.9429458\ttest: 0.9434908\tbest: 0.9434908 (600)\ttotal: 6.34s\tremaining: 7.9s\n",
      "650:\tlearn: 0.9445327\ttest: 0.9442297\tbest: 0.9442297 (650)\ttotal: 6.85s\tremaining: 7.35s\n",
      "700:\tlearn: 0.9458406\ttest: 0.9449876\tbest: 0.9449876 (700)\ttotal: 7.34s\tremaining: 6.8s\n",
      "750:\tlearn: 0.9470478\ttest: 0.9456414\tbest: 0.9456709 (748)\ttotal: 7.83s\tremaining: 6.24s\n",
      "800:\tlearn: 0.9481897\ttest: 0.9459281\tbest: 0.9459281 (800)\ttotal: 8.33s\tremaining: 5.71s\n",
      "850:\tlearn: 0.9493396\ttest: 0.9463073\tbest: 0.9463090 (849)\ttotal: 8.85s\tremaining: 5.19s\n",
      "900:\tlearn: 0.9505379\ttest: 0.9465953\tbest: 0.9466073 (897)\ttotal: 9.36s\tremaining: 4.67s\n",
      "950:\tlearn: 0.9514975\ttest: 0.9468418\tbest: 0.9468418 (950)\ttotal: 9.89s\tremaining: 4.15s\n",
      "1000:\tlearn: 0.9524195\ttest: 0.9470559\tbest: 0.9470562 (998)\ttotal: 10.4s\tremaining: 3.62s\n",
      "1050:\tlearn: 0.9532275\ttest: 0.9472560\tbest: 0.9472688 (1049)\ttotal: 10.9s\tremaining: 3.1s\n",
      "1100:\tlearn: 0.9539004\ttest: 0.9474626\tbest: 0.9474715 (1098)\ttotal: 11.4s\tremaining: 2.57s\n",
      "1150:\tlearn: 0.9546374\ttest: 0.9475468\tbest: 0.9475733 (1143)\ttotal: 11.9s\tremaining: 2.05s\n",
      "1200:\tlearn: 0.9553082\ttest: 0.9475544\tbest: 0.9475896 (1184)\ttotal: 12.4s\tremaining: 1.53s\n",
      "1250:\tlearn: 0.9559376\ttest: 0.9476089\tbest: 0.9476388 (1211)\ttotal: 12.9s\tremaining: 1.02s\n",
      "1300:\tlearn: 0.9566233\ttest: 0.9477479\tbest: 0.9477822 (1283)\ttotal: 13.4s\tremaining: 504ms\n",
      "1349:\tlearn: 0.9574051\ttest: 0.9478178\tbest: 0.9478463 (1338)\ttotal: 13.8s\tremaining: 0us\n",
      "bestTest = 0.9478463233\n",
      "bestIteration = 1338\n",
      "Shrink model to first 1339 iterations.\n"
     ]
    },
    {
     "name": "stderr",
     "output_type": "stream",
     "text": [
      "Warning: less than 75% gpu memory available for training. Free: 1189.8125 Total: 2002.625\n"
     ]
    },
    {
     "name": "stdout",
     "output_type": "stream",
     "text": [
      "0:\tlearn: 0.6502330\ttest: 0.6712565\tbest: 0.6712565 (0)\ttotal: 10.8ms\tremaining: 14.5s\n",
      "50:\tlearn: 0.8567452\ttest: 0.8801101\tbest: 0.8801101 (50)\ttotal: 583ms\tremaining: 14.8s\n",
      "100:\tlearn: 0.8993139\ttest: 0.9081336\tbest: 0.9081336 (100)\ttotal: 1.11s\tremaining: 13.7s\n",
      "150:\tlearn: 0.9160281\ttest: 0.9210073\tbest: 0.9214515 (134)\ttotal: 1.7s\tremaining: 13.5s\n",
      "200:\tlearn: 0.9198727\ttest: 0.9235482\tbest: 0.9235482 (200)\ttotal: 2.19s\tremaining: 12.6s\n",
      "250:\tlearn: 0.9250981\ttest: 0.9298027\tbest: 0.9298027 (250)\ttotal: 2.68s\tremaining: 11.7s\n",
      "300:\tlearn: 0.9291115\ttest: 0.9335406\tbest: 0.9335467 (298)\ttotal: 3.19s\tremaining: 11.1s\n",
      "350:\tlearn: 0.9327507\ttest: 0.9364653\tbest: 0.9364653 (350)\ttotal: 3.67s\tremaining: 10.4s\n",
      "400:\tlearn: 0.9353885\ttest: 0.9382934\tbest: 0.9383158 (397)\ttotal: 4.21s\tremaining: 9.97s\n",
      "450:\tlearn: 0.9376770\ttest: 0.9401267\tbest: 0.9401267 (450)\ttotal: 4.71s\tremaining: 9.39s\n",
      "500:\tlearn: 0.9396372\ttest: 0.9415403\tbest: 0.9415403 (500)\ttotal: 5.21s\tremaining: 8.83s\n",
      "550:\tlearn: 0.9415203\ttest: 0.9427851\tbest: 0.9427851 (550)\ttotal: 5.72s\tremaining: 8.3s\n",
      "600:\tlearn: 0.9431717\ttest: 0.9436949\tbest: 0.9436953 (599)\ttotal: 6.21s\tremaining: 7.75s\n",
      "650:\tlearn: 0.9446770\ttest: 0.9443620\tbest: 0.9443620 (650)\ttotal: 6.71s\tremaining: 7.2s\n",
      "700:\tlearn: 0.9459352\ttest: 0.9449487\tbest: 0.9449487 (700)\ttotal: 7.21s\tremaining: 6.68s\n",
      "750:\tlearn: 0.9471452\ttest: 0.9455155\tbest: 0.9455351 (745)\ttotal: 7.72s\tremaining: 6.16s\n",
      "800:\tlearn: 0.9483665\ttest: 0.9459568\tbest: 0.9459568 (800)\ttotal: 8.21s\tremaining: 5.63s\n",
      "850:\tlearn: 0.9494395\ttest: 0.9462194\tbest: 0.9462356 (841)\ttotal: 8.71s\tremaining: 5.11s\n",
      "900:\tlearn: 0.9505568\ttest: 0.9465449\tbest: 0.9465563 (899)\ttotal: 9.21s\tremaining: 4.59s\n",
      "950:\tlearn: 0.9515707\ttest: 0.9468031\tbest: 0.9468190 (947)\ttotal: 9.69s\tremaining: 4.07s\n",
      "1000:\tlearn: 0.9524166\ttest: 0.9470202\tbest: 0.9470202 (1000)\ttotal: 10.2s\tremaining: 3.55s\n",
      "1050:\tlearn: 0.9531153\ttest: 0.9472902\tbest: 0.9472983 (1049)\ttotal: 10.7s\tremaining: 3.04s\n",
      "1100:\tlearn: 0.9538397\ttest: 0.9475105\tbest: 0.9475427 (1095)\ttotal: 11.2s\tremaining: 2.53s\n",
      "1150:\tlearn: 0.9545064\ttest: 0.9476427\tbest: 0.9476972 (1141)\ttotal: 11.7s\tremaining: 2.02s\n",
      "1200:\tlearn: 0.9552241\ttest: 0.9477240\tbest: 0.9477414 (1191)\ttotal: 12.2s\tremaining: 1.51s\n",
      "1250:\tlearn: 0.9559167\ttest: 0.9477384\tbest: 0.9477781 (1241)\ttotal: 12.7s\tremaining: 1s\n",
      "1300:\tlearn: 0.9566123\ttest: 0.9477840\tbest: 0.9478416 (1292)\ttotal: 13.2s\tremaining: 497ms\n",
      "1349:\tlearn: 0.9572032\ttest: 0.9477415\tbest: 0.9478458 (1320)\ttotal: 13.7s\tremaining: 0us\n",
      "bestTest = 0.9478458464\n",
      "bestIteration = 1320\n",
      "Shrink model to first 1321 iterations.\n"
     ]
    },
    {
     "name": "stderr",
     "output_type": "stream",
     "text": [
      "Warning: less than 75% gpu memory available for training. Free: 1189.8125 Total: 2002.625\n"
     ]
    },
    {
     "name": "stdout",
     "output_type": "stream",
     "text": [
      "0:\tlearn: 0.6502330\ttest: 0.6712565\tbest: 0.6712565 (0)\ttotal: 11.3ms\tremaining: 15.3s\n",
      "50:\tlearn: 0.8567452\ttest: 0.8801083\tbest: 0.8801083 (50)\ttotal: 567ms\tremaining: 14.5s\n",
      "100:\tlearn: 0.8993139\ttest: 0.9081480\tbest: 0.9081480 (100)\ttotal: 1.15s\tremaining: 14.3s\n",
      "150:\tlearn: 0.9161516\ttest: 0.9209822\tbest: 0.9216662 (134)\ttotal: 1.82s\tremaining: 14.4s\n",
      "200:\tlearn: 0.9197825\ttest: 0.9235876\tbest: 0.9235876 (200)\ttotal: 2.33s\tremaining: 13.3s\n",
      "250:\tlearn: 0.9250736\ttest: 0.9297105\tbest: 0.9298095 (249)\ttotal: 2.83s\tremaining: 12.4s\n",
      "300:\tlearn: 0.9293180\ttest: 0.9337860\tbest: 0.9337860 (300)\ttotal: 3.35s\tremaining: 11.7s\n",
      "350:\tlearn: 0.9329427\ttest: 0.9365535\tbest: 0.9365535 (350)\ttotal: 3.89s\tremaining: 11.1s\n",
      "400:\tlearn: 0.9355175\ttest: 0.9384692\tbest: 0.9384899 (397)\ttotal: 4.39s\tremaining: 10.4s\n",
      "450:\tlearn: 0.9377774\ttest: 0.9401759\tbest: 0.9401759 (450)\ttotal: 4.89s\tremaining: 9.75s\n",
      "500:\tlearn: 0.9396625\ttest: 0.9415314\tbest: 0.9415314 (500)\ttotal: 5.41s\tremaining: 9.16s\n",
      "550:\tlearn: 0.9415406\ttest: 0.9429959\tbest: 0.9429959 (550)\ttotal: 5.89s\tremaining: 8.55s\n",
      "600:\tlearn: 0.9431515\ttest: 0.9437455\tbest: 0.9437523 (596)\ttotal: 6.41s\tremaining: 7.99s\n",
      "650:\tlearn: 0.9446163\ttest: 0.9443645\tbest: 0.9443645 (650)\ttotal: 6.92s\tremaining: 7.43s\n",
      "700:\tlearn: 0.9459108\ttest: 0.9451112\tbest: 0.9451114 (699)\ttotal: 7.45s\tremaining: 6.9s\n",
      "750:\tlearn: 0.9471301\ttest: 0.9456197\tbest: 0.9456197 (750)\ttotal: 7.97s\tremaining: 6.36s\n",
      "800:\tlearn: 0.9482429\ttest: 0.9460256\tbest: 0.9460256 (800)\ttotal: 8.47s\tremaining: 5.8s\n",
      "850:\tlearn: 0.9493361\ttest: 0.9462890\tbest: 0.9462890 (850)\ttotal: 8.96s\tremaining: 5.25s\n",
      "900:\tlearn: 0.9504729\ttest: 0.9465887\tbest: 0.9466134 (898)\ttotal: 9.49s\tremaining: 4.73s\n",
      "950:\tlearn: 0.9514858\ttest: 0.9468668\tbest: 0.9468715 (949)\ttotal: 10s\tremaining: 4.2s\n",
      "1000:\tlearn: 0.9523873\ttest: 0.9471549\tbest: 0.9471549 (1000)\ttotal: 10.5s\tremaining: 3.66s\n",
      "1050:\tlearn: 0.9531421\ttest: 0.9472733\tbest: 0.9473003 (1045)\ttotal: 11s\tremaining: 3.13s\n",
      "1100:\tlearn: 0.9538361\ttest: 0.9473868\tbest: 0.9474545 (1079)\ttotal: 11.5s\tremaining: 2.61s\n",
      "1150:\tlearn: 0.9544143\ttest: 0.9473867\tbest: 0.9474545 (1079)\ttotal: 12.1s\tremaining: 2.09s\n",
      "1200:\tlearn: 0.9550552\ttest: 0.9474590\tbest: 0.9474948 (1186)\ttotal: 12.6s\tremaining: 1.56s\n",
      "1250:\tlearn: 0.9556646\ttest: 0.9474531\tbest: 0.9474948 (1186)\ttotal: 13.1s\tremaining: 1.04s\n",
      "1300:\tlearn: 0.9564040\ttest: 0.9475893\tbest: 0.9475893 (1300)\ttotal: 13.6s\tremaining: 513ms\n",
      "1349:\tlearn: 0.9570877\ttest: 0.9475123\tbest: 0.9476265 (1309)\ttotal: 14.1s\tremaining: 0us\n",
      "bestTest = 0.9476264715\n",
      "bestIteration = 1309\n",
      "Shrink model to first 1310 iterations.\n"
     ]
    }
   ],
   "source": [
    "cat_params = {\n",
    "    #\"use_best_model\": True,\n",
    "    \"loss_function\": \"Logloss\",\n",
    "    \"eval_metric\": \"AUC\",\n",
    "    \"iterations\": 1350,\n",
    "    \"depth\": 4,\n",
    "    \"learning_rate\": 0.01,\n",
    "    \"l2_leaf_reg\": 10,\n",
    "    \"random_strength\": 1.0,\n",
    "    #\"od_type\": \"Iter\",\n",
    "    #\"od_wait\": 200,\n",
    "    \"bagging_temperature\": 0.00,\n",
    "    \"min_data_in_leaf\": 500,\n",
    "    \"max_leaves\": 4,\n",
    "    \"grow_policy\": \"Lossguide\",\n",
    "    #\"rsm\": 0.8,\n",
    "    \"task_type\": \"GPU\",\n",
    "    \"scale_pos_weight\": 1.0,\n",
    "    \"random_seed\": 1\n",
    "    }\n",
    "\n",
    "model = cat.CatBoostClassifier(**cat_params)\n",
    "\n",
    "feats = [f for f in x_tr.columns if ('coupon_details' not in f) and \n",
    "         (f not in ['campaign_id', 'customer_campaign_count',\n",
    "                    'unq_item_hist1', 'unq_item_hist2', 'unq_item_hist3',\n",
    "                    ])] + ['coupon_details_quantity_0']\n",
    "#xx_tr = qnt.fit_transform(x_tr[feats].fillna(-999))\n",
    "#xx_val = qnt.fit_transform(x_val[feats].fillna(-999))\n",
    "val_preds_all = []\n",
    "for i in range(5):\n",
    "    model.fit(x_tr[feats], y_tr, eval_set=[(x_val[feats], y_val)], verbose=50) \n",
    "    val_preds = model.predict_proba(x_val[feats])[:, 1]\n",
    "    val_preds_all.append(val_preds)"
   ]
  },
  {
   "cell_type": "code",
   "execution_count": 22,
   "metadata": {},
   "outputs": [
    {
     "data": {
      "text/plain": [
       "0.9477537766505635"
      ]
     },
     "execution_count": 22,
     "metadata": {},
     "output_type": "execute_result"
    }
   ],
   "source": [
    "from scipy.stats import gmean\n",
    "val_preds = gmean(val_preds_all, 0)\n",
    "roc_auc_score(y_val, val_preds)"
   ]
  },
  {
   "cell_type": "code",
   "execution_count": 23,
   "metadata": {},
   "outputs": [],
   "source": [
    "x_train, y_train, x_test, _ = load_data('test')\n",
    "x_train, x_test = map_campign_id(x_train, x_test, 'test')\n",
    "x_train = get_rank_features(x_train)\n",
    "x_test = get_rank_features(x_test)"
   ]
  },
  {
   "cell_type": "code",
   "execution_count": 24,
   "metadata": {
    "scrolled": true
   },
   "outputs": [
    {
     "name": "stderr",
     "output_type": "stream",
     "text": [
      "Warning: less than 75% gpu memory available for training. Free: 1189.8125 Total: 2002.625\n"
     ]
    },
    {
     "name": "stdout",
     "output_type": "stream",
     "text": [
      "0:\tlearn: 0.6578975\ttotal: 11.9ms\tremaining: 16s\n",
      "50:\tlearn: 0.8772309\ttotal: 575ms\tremaining: 14.6s\n",
      "100:\tlearn: 0.8827429\ttotal: 1.1s\tremaining: 13.6s\n",
      "150:\tlearn: 0.9253646\ttotal: 1.67s\tremaining: 13.3s\n",
      "200:\tlearn: 0.9288343\ttotal: 2.17s\tremaining: 12.4s\n",
      "250:\tlearn: 0.9345058\ttotal: 2.65s\tremaining: 11.6s\n",
      "300:\tlearn: 0.9377945\ttotal: 3.13s\tremaining: 10.9s\n",
      "350:\tlearn: 0.9400733\ttotal: 3.62s\tremaining: 10.3s\n",
      "400:\tlearn: 0.9419774\ttotal: 4.12s\tremaining: 9.74s\n",
      "450:\tlearn: 0.9437807\ttotal: 4.61s\tremaining: 9.19s\n",
      "500:\tlearn: 0.9449118\ttotal: 5.12s\tremaining: 8.67s\n",
      "550:\tlearn: 0.9458551\ttotal: 5.6s\tremaining: 8.12s\n",
      "600:\tlearn: 0.9467030\ttotal: 6.09s\tremaining: 7.59s\n",
      "650:\tlearn: 0.9477942\ttotal: 6.61s\tremaining: 7.09s\n",
      "700:\tlearn: 0.9486235\ttotal: 7.11s\tremaining: 6.58s\n",
      "750:\tlearn: 0.9494450\ttotal: 7.59s\tremaining: 6.05s\n",
      "800:\tlearn: 0.9502950\ttotal: 8.1s\tremaining: 5.55s\n",
      "850:\tlearn: 0.9510900\ttotal: 8.6s\tremaining: 5.04s\n",
      "900:\tlearn: 0.9518251\ttotal: 9.11s\tremaining: 4.54s\n",
      "950:\tlearn: 0.9526806\ttotal: 9.63s\tremaining: 4.04s\n",
      "1000:\tlearn: 0.9533781\ttotal: 10.2s\tremaining: 3.54s\n",
      "1050:\tlearn: 0.9541349\ttotal: 10.7s\tremaining: 3.03s\n",
      "1100:\tlearn: 0.9548502\ttotal: 11.2s\tremaining: 2.52s\n",
      "1150:\tlearn: 0.9556343\ttotal: 11.7s\tremaining: 2.02s\n",
      "1200:\tlearn: 0.9562382\ttotal: 12.2s\tremaining: 1.51s\n",
      "1250:\tlearn: 0.9569940\ttotal: 12.7s\tremaining: 1s\n",
      "1300:\tlearn: 0.9575240\ttotal: 13.2s\tremaining: 495ms\n",
      "1349:\tlearn: 0.9581263\ttotal: 13.7s\tremaining: 0us\n"
     ]
    },
    {
     "name": "stderr",
     "output_type": "stream",
     "text": [
      "Warning: less than 75% gpu memory available for training. Free: 1189.8125 Total: 2002.625\n"
     ]
    },
    {
     "name": "stdout",
     "output_type": "stream",
     "text": [
      "0:\tlearn: 0.6578975\ttotal: 23.2ms\tremaining: 31.2s\n",
      "50:\tlearn: 0.8772309\ttotal: 624ms\tremaining: 15.9s\n",
      "100:\tlearn: 0.8827297\ttotal: 1.17s\tremaining: 14.5s\n",
      "150:\tlearn: 0.9252883\ttotal: 4.65s\tremaining: 36.9s\n",
      "200:\tlearn: 0.9270523\ttotal: 12.4s\tremaining: 1m 11s\n",
      "250:\tlearn: 0.9344855\ttotal: 22.7s\tremaining: 1m 39s\n",
      "300:\tlearn: 0.9379799\ttotal: 31.8s\tremaining: 1m 50s\n",
      "350:\tlearn: 0.9399841\ttotal: 41s\tremaining: 1m 56s\n",
      "400:\tlearn: 0.9418999\ttotal: 50.5s\tremaining: 1m 59s\n",
      "450:\tlearn: 0.9436615\ttotal: 59.5s\tremaining: 1m 58s\n",
      "500:\tlearn: 0.9448957\ttotal: 1m 8s\tremaining: 1m 56s\n",
      "550:\tlearn: 0.9458922\ttotal: 1m 18s\tremaining: 1m 53s\n",
      "600:\tlearn: 0.9467427\ttotal: 1m 27s\tremaining: 1m 48s\n",
      "650:\tlearn: 0.9477766\ttotal: 1m 37s\tremaining: 1m 44s\n",
      "700:\tlearn: 0.9486121\ttotal: 1m 46s\tremaining: 1m 38s\n",
      "750:\tlearn: 0.9494534\ttotal: 1m 54s\tremaining: 1m 31s\n",
      "800:\tlearn: 0.9502924\ttotal: 2m 4s\tremaining: 1m 25s\n",
      "850:\tlearn: 0.9511190\ttotal: 2m 13s\tremaining: 1m 18s\n",
      "900:\tlearn: 0.9518714\ttotal: 2m 23s\tremaining: 1m 11s\n",
      "950:\tlearn: 0.9526608\ttotal: 2m 33s\tremaining: 1m 4s\n",
      "1000:\tlearn: 0.9533928\ttotal: 2m 42s\tremaining: 56.6s\n",
      "1050:\tlearn: 0.9541590\ttotal: 2m 52s\tremaining: 49s\n",
      "1100:\tlearn: 0.9549712\ttotal: 3m 2s\tremaining: 41.3s\n",
      "1150:\tlearn: 0.9556653\ttotal: 3m 11s\tremaining: 33.2s\n",
      "1200:\tlearn: 0.9562088\ttotal: 3m 21s\tremaining: 25s\n",
      "1250:\tlearn: 0.9569565\ttotal: 3m 29s\tremaining: 16.6s\n",
      "1300:\tlearn: 0.9575672\ttotal: 3m 33s\tremaining: 8.02s\n",
      "1349:\tlearn: 0.9581008\ttotal: 3m 36s\tremaining: 0us\n"
     ]
    },
    {
     "name": "stderr",
     "output_type": "stream",
     "text": [
      "Warning: less than 75% gpu memory available for training. Free: 1189.8125 Total: 2002.625\n"
     ]
    },
    {
     "name": "stdout",
     "output_type": "stream",
     "text": [
      "0:\tlearn: 0.6578975\ttotal: 67.1ms\tremaining: 1m 30s\n",
      "50:\tlearn: 0.8772309\ttotal: 3.89s\tremaining: 1m 38s\n",
      "100:\tlearn: 0.8827426\ttotal: 7.71s\tremaining: 1m 35s\n",
      "150:\tlearn: 0.9253566\ttotal: 10.8s\tremaining: 1m 25s\n",
      "200:\tlearn: 0.9288338\ttotal: 13.9s\tremaining: 1m 19s\n",
      "250:\tlearn: 0.9345042\ttotal: 16.8s\tremaining: 1m 13s\n",
      "300:\tlearn: 0.9377949\ttotal: 19.7s\tremaining: 1m 8s\n",
      "350:\tlearn: 0.9400443\ttotal: 22.8s\tremaining: 1m 4s\n",
      "400:\tlearn: 0.9419427\ttotal: 25.9s\tremaining: 1m 1s\n",
      "450:\tlearn: 0.9437995\ttotal: 29.1s\tremaining: 58s\n",
      "500:\tlearn: 0.9449801\ttotal: 32.3s\tremaining: 54.8s\n",
      "550:\tlearn: 0.9459148\ttotal: 35.5s\tremaining: 51.5s\n",
      "600:\tlearn: 0.9467897\ttotal: 38.5s\tremaining: 48s\n",
      "650:\tlearn: 0.9478472\ttotal: 41.7s\tremaining: 44.7s\n",
      "700:\tlearn: 0.9486670\ttotal: 45s\tremaining: 41.6s\n",
      "750:\tlearn: 0.9495289\ttotal: 48.6s\tremaining: 38.8s\n",
      "800:\tlearn: 0.9503218\ttotal: 52.7s\tremaining: 36.1s\n",
      "850:\tlearn: 0.9511149\ttotal: 56.1s\tremaining: 32.9s\n",
      "900:\tlearn: 0.9518740\ttotal: 59.1s\tremaining: 29.5s\n",
      "950:\tlearn: 0.9526929\ttotal: 1m 7s\tremaining: 28.5s\n",
      "1000:\tlearn: 0.9534313\ttotal: 1m 18s\tremaining: 27.2s\n",
      "1050:\tlearn: 0.9542856\ttotal: 1m 27s\tremaining: 24.9s\n",
      "1100:\tlearn: 0.9550130\ttotal: 1m 35s\tremaining: 21.5s\n",
      "1150:\tlearn: 0.9557038\ttotal: 1m 40s\tremaining: 17.3s\n",
      "1200:\tlearn: 0.9562172\ttotal: 1m 42s\tremaining: 12.7s\n",
      "1250:\tlearn: 0.9570883\ttotal: 1m 45s\tremaining: 8.34s\n",
      "1300:\tlearn: 0.9576399\ttotal: 1m 48s\tremaining: 4.09s\n",
      "1349:\tlearn: 0.9581681\ttotal: 1m 51s\tremaining: 0us\n"
     ]
    },
    {
     "name": "stderr",
     "output_type": "stream",
     "text": [
      "Warning: less than 75% gpu memory available for training. Free: 1190.125 Total: 2002.625\n"
     ]
    },
    {
     "name": "stdout",
     "output_type": "stream",
     "text": [
      "0:\tlearn: 0.6578975\ttotal: 74.6ms\tremaining: 1m 40s\n",
      "50:\tlearn: 0.8770574\ttotal: 3.64s\tremaining: 1m 32s\n",
      "100:\tlearn: 0.8819818\ttotal: 6.9s\tremaining: 1m 25s\n",
      "150:\tlearn: 0.9251634\ttotal: 10.3s\tremaining: 1m 21s\n",
      "200:\tlearn: 0.9272148\ttotal: 13.9s\tremaining: 1m 19s\n",
      "250:\tlearn: 0.9346339\ttotal: 17.4s\tremaining: 1m 16s\n",
      "300:\tlearn: 0.9377416\ttotal: 20.9s\tremaining: 1m 12s\n",
      "350:\tlearn: 0.9399753\ttotal: 25.1s\tremaining: 1m 11s\n",
      "400:\tlearn: 0.9419152\ttotal: 28.5s\tremaining: 1m 7s\n",
      "450:\tlearn: 0.9436013\ttotal: 32.1s\tremaining: 1m 4s\n",
      "500:\tlearn: 0.9448850\ttotal: 35.8s\tremaining: 1m\n",
      "550:\tlearn: 0.9458279\ttotal: 39.3s\tremaining: 56.9s\n",
      "600:\tlearn: 0.9467101\ttotal: 43.3s\tremaining: 53.9s\n",
      "650:\tlearn: 0.9477358\ttotal: 46.6s\tremaining: 50.1s\n",
      "700:\tlearn: 0.9485976\ttotal: 49.7s\tremaining: 46.1s\n",
      "750:\tlearn: 0.9493912\ttotal: 53s\tremaining: 42.2s\n",
      "800:\tlearn: 0.9502192\ttotal: 56.3s\tremaining: 38.6s\n",
      "850:\tlearn: 0.9509942\ttotal: 59.5s\tremaining: 34.9s\n",
      "900:\tlearn: 0.9517412\ttotal: 1m 2s\tremaining: 31.4s\n",
      "950:\tlearn: 0.9525764\ttotal: 1m 6s\tremaining: 27.9s\n",
      "1000:\tlearn: 0.9533113\ttotal: 1m 9s\tremaining: 24.3s\n",
      "1050:\tlearn: 0.9540646\ttotal: 1m 12s\tremaining: 20.8s\n",
      "1100:\tlearn: 0.9547732\ttotal: 1m 16s\tremaining: 17.3s\n",
      "1150:\tlearn: 0.9555841\ttotal: 1m 20s\tremaining: 13.8s\n",
      "1200:\tlearn: 0.9561590\ttotal: 1m 23s\tremaining: 10.4s\n",
      "1250:\tlearn: 0.9569390\ttotal: 1m 26s\tremaining: 6.87s\n",
      "1300:\tlearn: 0.9575661\ttotal: 1m 30s\tremaining: 3.39s\n",
      "1349:\tlearn: 0.9580713\ttotal: 1m 34s\tremaining: 0us\n"
     ]
    },
    {
     "name": "stderr",
     "output_type": "stream",
     "text": [
      "Warning: less than 75% gpu memory available for training. Free: 1190.125 Total: 2002.625\n"
     ]
    },
    {
     "name": "stdout",
     "output_type": "stream",
     "text": [
      "0:\tlearn: 0.6578975\ttotal: 82.8ms\tremaining: 1m 51s\n",
      "50:\tlearn: 0.8772309\ttotal: 3.53s\tremaining: 1m 29s\n",
      "100:\tlearn: 0.8827426\ttotal: 8.27s\tremaining: 1m 42s\n",
      "150:\tlearn: 0.9252552\ttotal: 17.6s\tremaining: 2m 19s\n",
      "200:\tlearn: 0.9292355\ttotal: 27.2s\tremaining: 2m 35s\n",
      "250:\tlearn: 0.9346789\ttotal: 36.4s\tremaining: 2m 39s\n",
      "300:\tlearn: 0.9378388\ttotal: 46.2s\tremaining: 2m 40s\n",
      "350:\tlearn: 0.9400637\ttotal: 55.6s\tremaining: 2m 38s\n",
      "400:\tlearn: 0.9420069\ttotal: 1m 4s\tremaining: 2m 32s\n",
      "450:\tlearn: 0.9437521\ttotal: 1m 12s\tremaining: 2m 25s\n",
      "500:\tlearn: 0.9449466\ttotal: 1m 21s\tremaining: 2m 17s\n",
      "550:\tlearn: 0.9459268\ttotal: 1m 30s\tremaining: 2m 10s\n",
      "600:\tlearn: 0.9468186\ttotal: 1m 39s\tremaining: 2m 3s\n",
      "650:\tlearn: 0.9478598\ttotal: 1m 48s\tremaining: 1m 56s\n",
      "700:\tlearn: 0.9486766\ttotal: 1m 56s\tremaining: 1m 48s\n",
      "750:\tlearn: 0.9494597\ttotal: 2m\tremaining: 1m 35s\n",
      "800:\tlearn: 0.9502161\ttotal: 2m 3s\tremaining: 1m 24s\n",
      "850:\tlearn: 0.9510151\ttotal: 2m 7s\tremaining: 1m 14s\n",
      "900:\tlearn: 0.9518165\ttotal: 2m 10s\tremaining: 1m 4s\n",
      "950:\tlearn: 0.9526009\ttotal: 2m 13s\tremaining: 56s\n",
      "1000:\tlearn: 0.9533866\ttotal: 2m 16s\tremaining: 47.7s\n",
      "1050:\tlearn: 0.9543278\ttotal: 2m 20s\tremaining: 39.9s\n",
      "1100:\tlearn: 0.9550077\ttotal: 2m 23s\tremaining: 32.4s\n",
      "1150:\tlearn: 0.9555854\ttotal: 2m 27s\tremaining: 25.5s\n",
      "1200:\tlearn: 0.9563212\ttotal: 2m 31s\tremaining: 18.8s\n",
      "1250:\tlearn: 0.9571516\ttotal: 2m 36s\tremaining: 12.4s\n",
      "1300:\tlearn: 0.9576803\ttotal: 2m 39s\tremaining: 6.01s\n",
      "1349:\tlearn: 0.9582300\ttotal: 2m 42s\tremaining: 0us\n"
     ]
    }
   ],
   "source": [
    "model = cat.CatBoostClassifier(**cat_params)\n",
    "\n",
    "#feats = [f for f in x_train.columns if ('coupon_details' not in f) and \n",
    "#         (f not in ['campaign_id', 'customer_campaign_count'])] + ['coupon_details_quantity_0']\n",
    "test_preds_all = []\n",
    "for i in range(5):\n",
    "    model.fit(x_train[feats], y_train, verbose=50)\n",
    "    test_preds = model.predict_proba(x_test[feats])[:, 1]\n",
    "    test_preds_all.append(test_preds)\n",
    "\n",
    "test_preds = gmean(test_preds_all, 0)"
   ]
  },
  {
   "cell_type": "code",
   "execution_count": 25,
   "metadata": {},
   "outputs": [
    {
     "name": "stderr",
     "output_type": "stream",
     "text": [
      "/home/mohsin/kg7/lib/python3.7/site-packages/scipy/stats/stats.py:1713: FutureWarning: Using a non-tuple sequence for multidimensional indexing is deprecated; use `arr[tuple(seq)]` instead of `arr[seq]`. In the future this will be interpreted as an array index, `arr[np.array(seq)]`, which will result either in an error or a different result.\n",
      "  return np.add.reduce(sorted[indexer] * weights, axis=axis) / sumval\n"
     ]
    },
    {
     "data": {
      "text/plain": [
       "<matplotlib.axes._subplots.AxesSubplot at 0x7fb91919a4a8>"
      ]
     },
     "execution_count": 25,
     "metadata": {},
     "output_type": "execute_result"
    },
    {
     "data": {
      "image/png": "[encoded data removed]",
      "text/plain": [
       "<Figure size 432x288 with 1 Axes>"
      ]
     },
     "metadata": {
      "needs_background": "light"
     },
     "output_type": "display_data"
    }
   ],
   "source": [
    "sns.distplot(np.sqrt(val_preds))\n",
    "sns.distplot(np.sqrt(test_preds))"
   ]
  },
  {
   "cell_type": "code",
   "execution_count": 26,
   "metadata": {},
   "outputs": [
    {
     "name": "stderr",
     "output_type": "stream",
     "text": [
      "/home/mohsin/kg7/lib/python3.7/site-packages/ipykernel_launcher.py:3: SettingWithCopyWarning: \n",
      "A value is trying to be set on a copy of a slice from a DataFrame.\n",
      "Try using .loc[row_indexer,col_indexer] = value instead\n",
      "\n",
      "See the caveats in the documentation: http://pandas.pydata.org/pandas-docs/stable/user_guide/indexing.html#returning-a-view-versus-a-copy\n",
      "  This is separate from the ipykernel package so we can avoid doing imports until\n"
     ]
    },
    {
     "data": {
      "text/html": [
       "<div>\n",
       "<style scoped>\n",
       "    .dataframe tbody tr th:only-of-type {\n",
       "        vertical-align: middle;\n",
       "    }\n",
       "\n",
       "    .dataframe tbody tr th {\n",
       "        vertical-align: top;\n",
       "    }\n",
       "\n",
       "    .dataframe thead th {\n",
       "        text-align: right;\n",
       "    }\n",
       "</style>\n",
       "<table border=\"1\" class=\"dataframe\">\n",
       "  <thead>\n",
       "    <tr style=\"text-align: right;\">\n",
       "      <th></th>\n",
       "      <th>id</th>\n",
       "      <th>redemption_status</th>\n",
       "    </tr>\n",
       "  </thead>\n",
       "  <tbody>\n",
       "    <tr>\n",
       "      <td>0</td>\n",
       "      <td>3</td>\n",
       "      <td>0.334865</td>\n",
       "    </tr>\n",
       "    <tr>\n",
       "      <td>1</td>\n",
       "      <td>4</td>\n",
       "      <td>0.013805</td>\n",
       "    </tr>\n",
       "    <tr>\n",
       "      <td>2</td>\n",
       "      <td>5</td>\n",
       "      <td>0.003920</td>\n",
       "    </tr>\n",
       "    <tr>\n",
       "      <td>3</td>\n",
       "      <td>8</td>\n",
       "      <td>0.000721</td>\n",
       "    </tr>\n",
       "    <tr>\n",
       "      <td>4</td>\n",
       "      <td>10</td>\n",
       "      <td>0.000804</td>\n",
       "    </tr>\n",
       "  </tbody>\n",
       "</table>\n",
       "</div>"
      ],
      "text/plain": [
       "   id  redemption_status\n",
       "0   3           0.334865\n",
       "1   4           0.013805\n",
       "2   5           0.003920\n",
       "3   8           0.000721\n",
       "4  10           0.000804"
      ]
     },
     "execution_count": 26,
     "metadata": {},
     "output_type": "execute_result"
    }
   ],
   "source": [
    "test = pd.read_csv('data/test.csv')\n",
    "sub = test[['id']]\n",
    "sub['redemption_status'] = test_preds\n",
    "sub.head()"
   ]
  },
  {
   "cell_type": "code",
   "execution_count": 27,
   "metadata": {},
   "outputs": [],
   "source": [
    "sub.to_csv('data/sub_model10.csv', index=False)"
   ]
  },
  {
   "cell_type": "code",
   "execution_count": 28,
   "metadata": {},
   "outputs": [
    {
     "data": {
      "text/html": [
       "<div>\n",
       "<style scoped>\n",
       "    .dataframe tbody tr th:only-of-type {\n",
       "        vertical-align: middle;\n",
       "    }\n",
       "\n",
       "    .dataframe tbody tr th {\n",
       "        vertical-align: top;\n",
       "    }\n",
       "\n",
       "    .dataframe thead th {\n",
       "        text-align: right;\n",
       "    }\n",
       "</style>\n",
       "<table border=\"1\" class=\"dataframe\">\n",
       "  <thead>\n",
       "    <tr style=\"text-align: right;\">\n",
       "      <th></th>\n",
       "      <th>id</th>\n",
       "      <th>redemption_status</th>\n",
       "    </tr>\n",
       "  </thead>\n",
       "  <tbody>\n",
       "    <tr>\n",
       "      <td>0</td>\n",
       "      <td>3</td>\n",
       "      <td>0.353429</td>\n",
       "    </tr>\n",
       "    <tr>\n",
       "      <td>1</td>\n",
       "      <td>4</td>\n",
       "      <td>0.005691</td>\n",
       "    </tr>\n",
       "    <tr>\n",
       "      <td>2</td>\n",
       "      <td>5</td>\n",
       "      <td>0.011552</td>\n",
       "    </tr>\n",
       "    <tr>\n",
       "      <td>3</td>\n",
       "      <td>8</td>\n",
       "      <td>0.000983</td>\n",
       "    </tr>\n",
       "    <tr>\n",
       "      <td>4</td>\n",
       "      <td>10</td>\n",
       "      <td>0.000822</td>\n",
       "    </tr>\n",
       "  </tbody>\n",
       "</table>\n",
       "</div>"
      ],
      "text/plain": [
       "   id  redemption_status\n",
       "0   3           0.353429\n",
       "1   4           0.005691\n",
       "2   5           0.011552\n",
       "3   8           0.000983\n",
       "4  10           0.000822"
      ]
     },
     "execution_count": 28,
     "metadata": {},
     "output_type": "execute_result"
    }
   ],
   "source": [
    "sub8 = pd.read_csv('data/sub_model8.csv')\n",
    "sub9 = pd.read_csv('data/sub_model9.csv')\n",
    "\n",
    "sub8.head()"
   ]
  },
  {
   "cell_type": "code",
   "execution_count": 29,
   "metadata": {},
   "outputs": [
    {
     "data": {
      "text/html": [
       "<div>\n",
       "<style scoped>\n",
       "    .dataframe tbody tr th:only-of-type {\n",
       "        vertical-align: middle;\n",
       "    }\n",
       "\n",
       "    .dataframe tbody tr th {\n",
       "        vertical-align: top;\n",
       "    }\n",
       "\n",
       "    .dataframe thead th {\n",
       "        text-align: right;\n",
       "    }\n",
       "</style>\n",
       "<table border=\"1\" class=\"dataframe\">\n",
       "  <thead>\n",
       "    <tr style=\"text-align: right;\">\n",
       "      <th></th>\n",
       "      <th>id</th>\n",
       "      <th>redemption_status</th>\n",
       "    </tr>\n",
       "  </thead>\n",
       "  <tbody>\n",
       "    <tr>\n",
       "      <td>0</td>\n",
       "      <td>3</td>\n",
       "      <td>0.389678</td>\n",
       "    </tr>\n",
       "    <tr>\n",
       "      <td>1</td>\n",
       "      <td>4</td>\n",
       "      <td>0.008891</td>\n",
       "    </tr>\n",
       "    <tr>\n",
       "      <td>2</td>\n",
       "      <td>5</td>\n",
       "      <td>0.009455</td>\n",
       "    </tr>\n",
       "    <tr>\n",
       "      <td>3</td>\n",
       "      <td>8</td>\n",
       "      <td>0.000893</td>\n",
       "    </tr>\n",
       "    <tr>\n",
       "      <td>4</td>\n",
       "      <td>10</td>\n",
       "      <td>0.000842</td>\n",
       "    </tr>\n",
       "  </tbody>\n",
       "</table>\n",
       "</div>"
      ],
      "text/plain": [
       "   id  redemption_status\n",
       "0   3           0.389678\n",
       "1   4           0.008891\n",
       "2   5           0.009455\n",
       "3   8           0.000893\n",
       "4  10           0.000842"
      ]
     },
     "execution_count": 29,
     "metadata": {},
     "output_type": "execute_result"
    }
   ],
   "source": [
    "from scipy.stats import gmean\n",
    "sub_en = sub.copy()\n",
    "sub_en['redemption_status'] = 0.7*gmean([sub8['redemption_status'], sub9['redemption_status']], 0) + 0.3*sub['redemption_status']\n",
    "sub_en.head()"
   ]
  },
  {
   "cell_type": "code",
   "execution_count": 30,
   "metadata": {},
   "outputs": [],
   "source": [
    "sub_en.to_csv('sub_en2.csv', index=False)"
   ]
  },
  {
   "cell_type": "code",
   "execution_count": null,
   "metadata": {},
   "outputs": [],
   "source": []
  }
 ],
 "metadata": {
  "kernelspec": {
   "display_name": "Python 2",
   "language": "python",
   "name": "python2"
  },
  "language_info": {
   "codemirror_mode": {
    "name": "ipython",
    "version": 3
   },
   "file_extension": ".py",
   "mimetype": "text/x-python",
   "name": "python",
   "nbconvert_exporter": "python",
   "pygments_lexer": "ipython3",
   "version": "3.7.3"
  }
 },
 "nbformat": 4,
 "nbformat_minor": 2
}

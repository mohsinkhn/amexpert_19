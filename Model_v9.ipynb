{
 "cells": [
  {
   "cell_type": "code",
   "execution_count": 1,
   "metadata": {},
   "outputs": [],
   "source": [
    "import numpy as np\n",
    "import pandas as pd\n",
    "import json\n",
    "import joblib\n",
    "\n",
    "import matplotlib.pyplot as plt\n",
    "import seaborn as sns\n",
    "from sklearn.metrics import roc_auc_score\n",
    "import lightgbm as lgb\n",
    "from mllib.params import FieldNames, FileNames\n",
    "from mllib.utils import load_pickle"
   ]
  },
  {
   "cell_type": "code",
   "execution_count": 2,
   "metadata": {},
   "outputs": [],
   "source": [
    "def make_x_y(x_tr, x_val, flag='val'):\n",
    "    y_tr = x_tr['redemption_status'].values\n",
    "    del x_tr['redemption_status']\n",
    "\n",
    "    if flag == 'val':\n",
    "        y_val = x_val['redemption_status'].values\n",
    "        del x_val['redemption_status']\n",
    "    else:\n",
    "        y_val = None\n",
    "    return x_tr, y_tr, x_val, y_val\n",
    "\n",
    "\n",
    "def get_rank_features(df):\n",
    "    df['cust_coupon_rank1'] = df.groupby(['customer_id', 'campaign_id'])['common_item_set_0'].rank('max')/df['customer_campaign_count']\n",
    "    df['cust_coupon_rank2'] = df.groupby(['customer_id', 'campaign_id'])['common_item_set_1'].rank('max')/df['customer_campaign_count']\n",
    "    df['cust_coupon_rank3'] = df.groupby(['customer_id', 'campaign_id'])['common_item_set_2'].rank('max')/df['customer_campaign_count']\n",
    "    df['customer_rank1'] = df.groupby(['customer_id'])['common_item_set_0'].rank('max')/df.groupby('customer_id').size()\n",
    "    # df['customer_rank2'] = df.groupby(['customer_id'])['common_item_set_1'].rank('max')/df.groupby('customer_id').size()\n",
    "    # df['customer_rank3'] = df.groupby(['customer_id'])['common_item_set_2'].rank('max')/df.groupby('customer_id').size()\n",
    "    df['campaign_rank1'] = df.groupby(['campaign_id'])['common_item_set_0'].rank('max')/df.groupby('campaign_id').size()\n",
    "    #df['campaign_rank2'] = df.groupby(['campaign_id'])['common_item_set_1'].rank('max')/df.groupby('campaign_id').size()\n",
    "    #df['campaign_rank3'] = df.groupby(['campaign_id'])['common_item_set_2'].rank('max')/df.groupby('campaign_id').size()\n",
    "    df['coupon_rank1'] = df.groupby(['coupon_id'])['common_item_set_0'].rank('max')/df.groupby('coupon_id').size()\n",
    "    #df['coupon_rank2'] = df.groupby(['coupon_id'])['common_item_set_1'].rank('max')/df.groupby('coupon_id').size()\n",
    "\n",
    "    return df\n",
    "\n",
    "\n",
    "def load_data(flag='val'):\n",
    "    if flag == 'val':\n",
    "        x_tr = load_pickle(FileNames.tr_features_v2)\n",
    "        x_val = load_pickle(FileNames.val_features_v2)\n",
    "    elif flag == 'test':\n",
    "        x_tr = load_pickle(FileNames.train_features_v2)\n",
    "        x_val = load_pickle(FileNames.test_features_v2)\n",
    "    \n",
    "    return make_x_y(x_tr, x_val, flag=flag)\n",
    "\n",
    "\n",
    "def map_campign_id(x_tr, x_val, flag='val'):\n",
    "    if flag == 'val':\n",
    "        tr = load_pickle(FileNames.tr_v2)\n",
    "        val = load_pickle(FileNames.val_v2)\n",
    "    elif flag == 'test':\n",
    "        tr = load_pickle(FileNames.train_v2)\n",
    "        val = load_pickle(FileNames.test_v2)\n",
    "        \n",
    "    x_tr['campaign_id'] = tr['campaign_id'].values\n",
    "    x_val['campaign_id'] = val['campaign_id'].values\n",
    "    return x_tr, x_val"
   ]
  },
  {
   "cell_type": "code",
   "execution_count": 3,
   "metadata": {},
   "outputs": [],
   "source": [
    "x_tr, y_tr, x_val, y_val = load_data('val')\n",
    "x_tr, x_val = map_campign_id(x_tr, x_val, 'val')"
   ]
  },
  {
   "cell_type": "code",
   "execution_count": 4,
   "metadata": {},
   "outputs": [
    {
     "data": {
      "text/plain": [
       "390"
      ]
     },
     "execution_count": 4,
     "metadata": {},
     "output_type": "execute_result"
    }
   ],
   "source": [
    "n_feats = x_tr.shape[1] - 1\n",
    "n_feats"
   ]
  },
  {
   "cell_type": "code",
   "execution_count": 5,
   "metadata": {},
   "outputs": [],
   "source": [
    "x_tr = get_rank_features(x_tr)\n",
    "x_val = get_rank_features(x_val)"
   ]
  },
  {
   "cell_type": "code",
   "execution_count": 6,
   "metadata": {},
   "outputs": [
    {
     "name": "stdout",
     "output_type": "stream",
     "text": [
      "Training until validation scores don't improve for 400 rounds\n",
      "[50]\tvalid_0's auc: 0.924885\n",
      "[100]\tvalid_0's auc: 0.929312\n",
      "[150]\tvalid_0's auc: 0.932573\n",
      "[200]\tvalid_0's auc: 0.935841\n",
      "[250]\tvalid_0's auc: 0.938023\n",
      "[300]\tvalid_0's auc: 0.940406\n",
      "[350]\tvalid_0's auc: 0.941843\n",
      "[400]\tvalid_0's auc: 0.942668\n",
      "[450]\tvalid_0's auc: 0.943513\n",
      "[500]\tvalid_0's auc: 0.944078\n",
      "[550]\tvalid_0's auc: 0.944745\n",
      "[600]\tvalid_0's auc: 0.945342\n",
      "[650]\tvalid_0's auc: 0.945767\n",
      "[700]\tvalid_0's auc: 0.945975\n",
      "[750]\tvalid_0's auc: 0.945956\n",
      "[800]\tvalid_0's auc: 0.945998\n",
      "[850]\tvalid_0's auc: 0.94591\n",
      "[900]\tvalid_0's auc: 0.945634\n",
      "[950]\tvalid_0's auc: 0.945598\n",
      "[1000]\tvalid_0's auc: 0.945396\n",
      "[1050]\tvalid_0's auc: 0.945198\n",
      "[1100]\tvalid_0's auc: 0.945263\n",
      "[1150]\tvalid_0's auc: 0.945153\n",
      "Early stopping, best iteration is:\n",
      "[759]\tvalid_0's auc: 0.946028\n"
     ]
    }
   ],
   "source": [
    "lgb_params = {\n",
    "    \"n_estimators\": 5000,\n",
    "    \"boosting_type\": \"gbdt\",\n",
    "    \"num_leaves\": 8,\n",
    "    \"max_depth\": 4,\n",
    "    \"colsample_bytree\": 0.5,\n",
    "    \"metric\": None,\n",
    "    \"subsample\": 0.9,\n",
    "    \"learning_rate\": 0.01,\n",
    "    \"reg_lambda\": 0.01,\n",
    "    \"reg_alpha\": 0.1,\n",
    "    \"min_data_in_leaf\": 600,\n",
    "    \"min_child_samples\": 200,\n",
    "    \"max_bin\": 255,\n",
    "    \"cat_smooth\": 50,\n",
    "    \"max_cat_threshold\": 32,\n",
    "    \"cat_l2\": 50,\n",
    "    \"seed\": 786,\n",
    "    \"allow_nan\": True\n",
    "}\n",
    "model = lgb.LGBMClassifier(**lgb_params)\n",
    "\n",
    "feats = [f for f in x_tr.columns if ('coupon_details' not in f) and \n",
    "         (f not in ['campaign_id', 'customer_campaign_count',\n",
    "                    'unq_item_hist1', 'unq_item_hist2', 'unq_item_hist3',\n",
    "                    ])] + ['coupon_details_quantity_0']\n",
    "#xx_tr = qnt.fit_transform(x_tr[feats].fillna(-999))\n",
    "#xx_val = qnt.fit_transform(x_val[feats].fillna(-999))\n",
    "model.fit(x_tr[feats], y_tr, eval_set=[(x_val[feats], y_val)], eval_metric='auc', verbose=50, early_stopping_rounds=400) \n",
    "val_preds = model.predict_proba(x_val[feats])[:, 1]"
   ]
  },
  {
   "cell_type": "code",
   "execution_count": 63,
   "metadata": {},
   "outputs": [],
   "source": [
    "x_train, y_train, x_test, _ = load_data('test')\n",
    "x_train, x_test = map_campign_id(x_train, x_test, 'test')\n",
    "x_train = get_rank_features(x_train)\n",
    "x_test = get_rank_features(x_test)"
   ]
  },
  {
   "cell_type": "code",
   "execution_count": 64,
   "metadata": {},
   "outputs": [],
   "source": [
    "lgb_params['n_estimators'] = 750\n",
    "model = lgb.LGBMClassifier(**lgb_params)\n",
    "\n",
    "#feats = [f for f in x_train.columns if ('coupon_details' not in f) and \n",
    "#         (f not in ['campaign_id', 'customer_campaign_count'])] + ['coupon_details_quantity_0']\n",
    "model.fit(x_train[feats], y_train)\n",
    "test_preds = model.predict_proba(x_test[feats])[:, 1]"
   ]
  },
  {
   "cell_type": "code",
   "execution_count": 65,
   "metadata": {},
   "outputs": [
    {
     "data": {
      "text/plain": [
       "<matplotlib.axes._subplots.AxesSubplot at 0x7f0d2460ff98>"
      ]
     },
     "execution_count": 65,
     "metadata": {},
     "output_type": "execute_result"
    },
    {
     "data": {
      "image/png": "[encoded data removed]",
      "text/plain": [
       "<Figure size 432x288 with 1 Axes>"
      ]
     },
     "metadata": {
      "needs_background": "light"
     },
     "output_type": "display_data"
    }
   ],
   "source": [
    "sns.distplot(np.sqrt(val_preds))\n",
    "sns.distplot(np.sqrt(test_preds))"
   ]
  },
  {
   "cell_type": "code",
   "execution_count": 66,
   "metadata": {},
   "outputs": [
    {
     "name": "stderr",
     "output_type": "stream",
     "text": [
      "/home/mohsin/kg7/lib/python3.7/site-packages/ipykernel_launcher.py:3: SettingWithCopyWarning: \n",
      "A value is trying to be set on a copy of a slice from a DataFrame.\n",
      "Try using .loc[row_indexer,col_indexer] = value instead\n",
      "\n",
      "See the caveats in the documentation: http://pandas.pydata.org/pandas-docs/stable/user_guide/indexing.html#returning-a-view-versus-a-copy\n",
      "  This is separate from the ipykernel package so we can avoid doing imports until\n"
     ]
    },
    {
     "data": {
      "text/html": [
       "<div>\n",
       "<style scoped>\n",
       "    .dataframe tbody tr th:only-of-type {\n",
       "        vertical-align: middle;\n",
       "    }\n",
       "\n",
       "    .dataframe tbody tr th {\n",
       "        vertical-align: top;\n",
       "    }\n",
       "\n",
       "    .dataframe thead th {\n",
       "        text-align: right;\n",
       "    }\n",
       "</style>\n",
       "<table border=\"1\" class=\"dataframe\">\n",
       "  <thead>\n",
       "    <tr style=\"text-align: right;\">\n",
       "      <th></th>\n",
       "      <th>id</th>\n",
       "      <th>redemption_status</th>\n",
       "    </tr>\n",
       "  </thead>\n",
       "  <tbody>\n",
       "    <tr>\n",
       "      <td>0</td>\n",
       "      <td>3</td>\n",
       "      <td>0.483009</td>\n",
       "    </tr>\n",
       "    <tr>\n",
       "      <td>1</td>\n",
       "      <td>4</td>\n",
       "      <td>0.008089</td>\n",
       "    </tr>\n",
       "    <tr>\n",
       "      <td>2</td>\n",
       "      <td>5</td>\n",
       "      <td>0.012108</td>\n",
       "    </tr>\n",
       "    <tr>\n",
       "      <td>3</td>\n",
       "      <td>8</td>\n",
       "      <td>0.000951</td>\n",
       "    </tr>\n",
       "    <tr>\n",
       "      <td>4</td>\n",
       "      <td>10</td>\n",
       "      <td>0.000895</td>\n",
       "    </tr>\n",
       "  </tbody>\n",
       "</table>\n",
       "</div>"
      ],
      "text/plain": [
       "   id  redemption_status\n",
       "0   3           0.483009\n",
       "1   4           0.008089\n",
       "2   5           0.012108\n",
       "3   8           0.000951\n",
       "4  10           0.000895"
      ]
     },
     "execution_count": 66,
     "metadata": {},
     "output_type": "execute_result"
    }
   ],
   "source": [
    "test = pd.read_csv('data/test.csv')\n",
    "sub = test[['id']]\n",
    "sub['redemption_status'] = test_preds\n",
    "sub.head()"
   ]
  },
  {
   "cell_type": "code",
   "execution_count": 67,
   "metadata": {},
   "outputs": [],
   "source": [
    "sub.to_csv('data/sub_model9.csv', index=False)"
   ]
  },
  {
   "cell_type": "code",
   "execution_count": 68,
   "metadata": {},
   "outputs": [
    {
     "data": {
      "text/html": [
       "<div>\n",
       "<style scoped>\n",
       "    .dataframe tbody tr th:only-of-type {\n",
       "        vertical-align: middle;\n",
       "    }\n",
       "\n",
       "    .dataframe tbody tr th {\n",
       "        vertical-align: top;\n",
       "    }\n",
       "\n",
       "    .dataframe thead th {\n",
       "        text-align: right;\n",
       "    }\n",
       "</style>\n",
       "<table border=\"1\" class=\"dataframe\">\n",
       "  <thead>\n",
       "    <tr style=\"text-align: right;\">\n",
       "      <th></th>\n",
       "      <th>id</th>\n",
       "      <th>redemption_status</th>\n",
       "    </tr>\n",
       "  </thead>\n",
       "  <tbody>\n",
       "    <tr>\n",
       "      <td>0</td>\n",
       "      <td>3</td>\n",
       "      <td>0.353429</td>\n",
       "    </tr>\n",
       "    <tr>\n",
       "      <td>1</td>\n",
       "      <td>4</td>\n",
       "      <td>0.005691</td>\n",
       "    </tr>\n",
       "    <tr>\n",
       "      <td>2</td>\n",
       "      <td>5</td>\n",
       "      <td>0.011552</td>\n",
       "    </tr>\n",
       "    <tr>\n",
       "      <td>3</td>\n",
       "      <td>8</td>\n",
       "      <td>0.000983</td>\n",
       "    </tr>\n",
       "    <tr>\n",
       "      <td>4</td>\n",
       "      <td>10</td>\n",
       "      <td>0.000822</td>\n",
       "    </tr>\n",
       "  </tbody>\n",
       "</table>\n",
       "</div>"
      ],
      "text/plain": [
       "   id  redemption_status\n",
       "0   3           0.353429\n",
       "1   4           0.005691\n",
       "2   5           0.011552\n",
       "3   8           0.000983\n",
       "4  10           0.000822"
      ]
     },
     "execution_count": 68,
     "metadata": {},
     "output_type": "execute_result"
    }
   ],
   "source": [
    "sub8 = pd.read_csv('data/sub_model8.csv')\n",
    "sub8.head()"
   ]
  },
  {
   "cell_type": "code",
   "execution_count": 69,
   "metadata": {},
   "outputs": [
    {
     "data": {
      "text/html": [
       "<div>\n",
       "<style scoped>\n",
       "    .dataframe tbody tr th:only-of-type {\n",
       "        vertical-align: middle;\n",
       "    }\n",
       "\n",
       "    .dataframe tbody tr th {\n",
       "        vertical-align: top;\n",
       "    }\n",
       "\n",
       "    .dataframe thead th {\n",
       "        text-align: right;\n",
       "    }\n",
       "</style>\n",
       "<table border=\"1\" class=\"dataframe\">\n",
       "  <thead>\n",
       "    <tr style=\"text-align: right;\">\n",
       "      <th></th>\n",
       "      <th>id</th>\n",
       "      <th>redemption_status</th>\n",
       "    </tr>\n",
       "  </thead>\n",
       "  <tbody>\n",
       "    <tr>\n",
       "      <td>0</td>\n",
       "      <td>3</td>\n",
       "      <td>0.413170</td>\n",
       "    </tr>\n",
       "    <tr>\n",
       "      <td>1</td>\n",
       "      <td>4</td>\n",
       "      <td>0.006785</td>\n",
       "    </tr>\n",
       "    <tr>\n",
       "      <td>2</td>\n",
       "      <td>5</td>\n",
       "      <td>0.011827</td>\n",
       "    </tr>\n",
       "    <tr>\n",
       "      <td>3</td>\n",
       "      <td>8</td>\n",
       "      <td>0.000967</td>\n",
       "    </tr>\n",
       "    <tr>\n",
       "      <td>4</td>\n",
       "      <td>10</td>\n",
       "      <td>0.000858</td>\n",
       "    </tr>\n",
       "  </tbody>\n",
       "</table>\n",
       "</div>"
      ],
      "text/plain": [
       "   id  redemption_status\n",
       "0   3           0.413170\n",
       "1   4           0.006785\n",
       "2   5           0.011827\n",
       "3   8           0.000967\n",
       "4  10           0.000858"
      ]
     },
     "execution_count": 69,
     "metadata": {},
     "output_type": "execute_result"
    }
   ],
   "source": [
    "from scipy.stats import gmean\n",
    "sub_en = sub.copy()\n",
    "sub_en['redemption_status'] = gmean([sub8['redemption_status'], sub['redemption_status']], 0)\n",
    "sub_en.head()"
   ]
  },
  {
   "cell_type": "code",
   "execution_count": 70,
   "metadata": {},
   "outputs": [],
   "source": [
    "sub_en.to_csv('sub_en1.csv', index=False)"
   ]
  },
  {
   "cell_type": "code",
   "execution_count": null,
   "metadata": {},
   "outputs": [],
   "source": []
  }
 ],
 "metadata": {
  "kernelspec": {
   "display_name": "Python 3",
   "language": "python",
   "name": "python3"
  },
  "language_info": {
   "codemirror_mode": {
    "name": "ipython",
    "version": 3
   },
   "file_extension": ".py",
   "mimetype": "text/x-python",
   "name": "python",
   "nbconvert_exporter": "python",
   "pygments_lexer": "ipython3",
   "version": "3.7.3"
  }
 },
 "nbformat": 4,
 "nbformat_minor": 2
}

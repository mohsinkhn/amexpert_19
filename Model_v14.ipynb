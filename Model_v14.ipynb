{
 "cells": [
  {
   "cell_type": "code",
   "execution_count": 1,
   "metadata": {},
   "outputs": [],
   "source": [
    "import numpy as np\n",
    "import pandas as pd\n",
    "import json\n",
    "import joblib\n",
    "\n",
    "import matplotlib.pyplot as plt\n",
    "import seaborn as sns\n",
    "from sklearn.metrics import roc_auc_score\n",
    "import lightgbm as lgb\n",
    "from mllib.params import FieldNames, FileNames\n",
    "from mllib.utils import load_pickle\n",
    "from mllib.transformers import ListLen, SetLen, ListAggregation"
   ]
  },
  {
   "cell_type": "code",
   "execution_count": 12,
   "metadata": {},
   "outputs": [],
   "source": [
    "def make_x_y(x_tr, x_val, flag='val'):\n",
    "    y_tr = x_tr['redemption_status'].values\n",
    "\n",
    "    if flag == 'val':\n",
    "        y_val = x_val['redemption_status'].values\n",
    "    else:\n",
    "        y_val = None\n",
    "    return x_tr, y_tr, x_val, y_val\n",
    "\n",
    "\n",
    "def get_rank_features(df):\n",
    "    df['cust_coupon_rank1'] = df.groupby(['customer_id', 'campaign_id'])['common_item_set_0'].rank('max')/df['customer_campaign_count']\n",
    "    df['cust_coupon_rank2'] = df.groupby(['customer_id', 'campaign_id'])['common_item_set_1'].rank('max')/df['customer_campaign_count']\n",
    "    df['cust_coupon_rank3'] = df.groupby(['customer_id', 'campaign_id'])['common_item_set_2'].rank('max')/df['customer_campaign_count']\n",
    "    #df['cust_coupon_rank4'] = df.groupby(['customer_id', 'campaign_id'])['common_brand_0'].rank('max')/df['customer_campaign_count']\n",
    "    #df['cust_coupon_rank5'] = df.groupby(['customer_id', 'campaign_id'])['common_brand_1'].rank('max')/df['customer_campaign_count']\n",
    "    #df['cust_coupon_rank6'] = df.groupby(['customer_id', 'campaign_id'])['common_brand_2'].rank('max')/df['customer_campaign_count']\n",
    "\n",
    "    df['customer_rank1'] = df.groupby(['customer_id'])['common_item_set_0'].rank('max')/df.groupby('customer_id').size()\n",
    "    df['customer_rank2'] = df.groupby(['customer_id'])['common_brand_0'].rank('max')/df.groupby('customer_id').size()\n",
    "    df['customer_rank3'] = df.groupby(['customer_id'])['common_category_0'].rank('max')/df.groupby('customer_id').size()\n",
    "\n",
    "    # df['customer_rank4'] = df.groupby(['customer_id'])['common_brand_1'].rank('max')/df.groupby('customer_id').size()\n",
    "    # df['customer_rank3'] = df.groupby(['customer_id'])['common_item_set_2'].rank('max')/df.groupby('customer_id').size()\n",
    "    df['campaign_rank1'] = df.groupby(['campaign_id'])['common_item_set_0'].rank('max')/df.groupby('campaign_id').size()\n",
    "    df['campaign_rank2'] = df.groupby(['campaign_id'])['common_brand_0'].rank('max')/df.groupby('campaign_id').size()\n",
    "\n",
    "    #df['campaign_rank2'] = df.groupby(['campaign_id'])['common_item_set_1'].rank('max')/df.groupby('campaign_id').size()\n",
    "    #df['campaign_rank3'] = df.groupby(['campaign_id'])['common_item_set_2'].rank('max')/df.groupby('campaign_id').size()\n",
    "    #df['coupon_rank1'] = df.groupby(['coupon_id'])['common_item_set_0'].rank('max')/df.groupby('coupon_id').size()\n",
    "    df['coupon_rank1'] = df.groupby(['coupon_id'])['common_brand_0'].rank('max')/df.groupby('coupon_id').size()\n",
    "    #df['coupon_rank2'] = df.groupby(['coupon_id'])['common_category_0'].rank('max')/df.groupby('coupon_id').size()\n",
    "    #df['coupon_rank2'] = df.groupby(['coupon_id'])['common_item_set_1'].rank('max')/df.groupby('coupon_id').size()\n",
    "\n",
    "    return df\n",
    "\n",
    "\n",
    "def load_data(flag='val'):\n",
    "    if flag == 'val':\n",
    "        x_tr = load_pickle(FileNames.tr_features_v3)\n",
    "        x_val = load_pickle(FileNames.val_features_v3)\n",
    "    elif flag == 'test':\n",
    "        x_tr = load_pickle(FileNames.train_features_v3)\n",
    "        x_val = load_pickle(FileNames.test_features_v3)\n",
    "    \n",
    "    return make_x_y(x_tr, x_val, flag=flag)\n",
    "\n",
    "\n",
    "def map_campign_id(x_tr, x_val, flag='val'):\n",
    "    if flag == 'val':\n",
    "        tr = load_pickle(FileNames.tr_v2)\n",
    "        val = load_pickle(FileNames.val_v2)\n",
    "    elif flag == 'test':\n",
    "        tr = load_pickle(FileNames.train_v2)\n",
    "        val = load_pickle(FileNames.test_v2)\n",
    "        \n",
    "    x_tr['campaign_id'] = tr['campaign_id'].values\n",
    "    x_val['campaign_id'] = val['campaign_id'].values\n",
    "    return x_tr, x_val"
   ]
  },
  {
   "cell_type": "code",
   "execution_count": 13,
   "metadata": {},
   "outputs": [],
   "source": [
    "from mllib.targetencoder import TargetEncoderWithThresh"
   ]
  },
  {
   "cell_type": "code",
   "execution_count": 37,
   "metadata": {},
   "outputs": [],
   "source": [
    "x_tr, y_tr, x_val, y_val = load_data('val')\n",
    "x_tr, x_val = map_campign_id(x_tr, x_val, 'val')"
   ]
  },
  {
   "cell_type": "code",
   "execution_count": 38,
   "metadata": {},
   "outputs": [
    {
     "data": {
      "text/plain": [
       "387"
      ]
     },
     "execution_count": 38,
     "metadata": {},
     "output_type": "execute_result"
    }
   ],
   "source": [
    "n_feats = x_tr.shape[1] - 1\n",
    "n_feats"
   ]
  },
  {
   "cell_type": "code",
   "execution_count": 39,
   "metadata": {},
   "outputs": [],
   "source": [
    "x_tr = get_rank_features(x_tr)\n",
    "x_val = get_rank_features(x_val)"
   ]
  },
  {
   "cell_type": "code",
   "execution_count": 40,
   "metadata": {},
   "outputs": [],
   "source": [
    "y_tr = y_tr[x_tr.coupon_id != 8]\n",
    "x_tr = x_tr.loc[x_tr.coupon_id != 8]\n"
   ]
  },
  {
   "cell_type": "code",
   "execution_count": 41,
   "metadata": {},
   "outputs": [],
   "source": [
    "x_tr['common_brand_0'] = x_tr['common_brand_0']/len(x_tr)\n",
    "x_val['common_brand_0'] = x_val['common_brand_0']/(len(x_tr) + len(x_val))\n",
    "\n",
    "x_tr['common_item_set_0'] = x_tr['common_item_set_0']/len(x_tr)\n",
    "x_val['common_item_set_0'] = x_val['common_item_set_0']/(len(x_tr) + len(x_val))"
   ]
  },
  {
   "cell_type": "code",
   "execution_count": 43,
   "metadata": {
    "scrolled": true
   },
   "outputs": [
    {
     "name": "stdout",
     "output_type": "stream",
     "text": [
      "Training until validation scores don't improve for 1000 rounds\n",
      "[50]\tvalid_0's auc: 0.895299\tvalid_1's auc: 0.906784\n",
      "[100]\tvalid_0's auc: 0.901495\tvalid_1's auc: 0.912777\n",
      "[150]\tvalid_0's auc: 0.902247\tvalid_1's auc: 0.913625\n",
      "[200]\tvalid_0's auc: 0.903575\tvalid_1's auc: 0.916732\n",
      "[250]\tvalid_0's auc: 0.910996\tvalid_1's auc: 0.919079\n",
      "[300]\tvalid_0's auc: 0.912335\tvalid_1's auc: 0.920954\n",
      "[350]\tvalid_0's auc: 0.915291\tvalid_1's auc: 0.921083\n",
      "[400]\tvalid_0's auc: 0.917547\tvalid_1's auc: 0.923611\n",
      "[450]\tvalid_0's auc: 0.919861\tvalid_1's auc: 0.925529\n",
      "[500]\tvalid_0's auc: 0.920858\tvalid_1's auc: 0.926636\n",
      "[550]\tvalid_0's auc: 0.922147\tvalid_1's auc: 0.928164\n",
      "[600]\tvalid_0's auc: 0.924126\tvalid_1's auc: 0.929526\n",
      "[650]\tvalid_0's auc: 0.925719\tvalid_1's auc: 0.93115\n",
      "[700]\tvalid_0's auc: 0.927224\tvalid_1's auc: 0.932676\n",
      "[750]\tvalid_0's auc: 0.928276\tvalid_1's auc: 0.933847\n",
      "[800]\tvalid_0's auc: 0.929111\tvalid_1's auc: 0.934501\n",
      "[850]\tvalid_0's auc: 0.930001\tvalid_1's auc: 0.935493\n",
      "[900]\tvalid_0's auc: 0.930565\tvalid_1's auc: 0.936356\n",
      "[950]\tvalid_0's auc: 0.931286\tvalid_1's auc: 0.937199\n",
      "[1000]\tvalid_0's auc: 0.932005\tvalid_1's auc: 0.937791\n",
      "[1050]\tvalid_0's auc: 0.932547\tvalid_1's auc: 0.938151\n",
      "[1100]\tvalid_0's auc: 0.933206\tvalid_1's auc: 0.938711\n",
      "[1150]\tvalid_0's auc: 0.933649\tvalid_1's auc: 0.939168\n",
      "[1200]\tvalid_0's auc: 0.934147\tvalid_1's auc: 0.93951\n",
      "[1250]\tvalid_0's auc: 0.934178\tvalid_1's auc: 0.939892\n",
      "[1300]\tvalid_0's auc: 0.934656\tvalid_1's auc: 0.940207\n",
      "[1350]\tvalid_0's auc: 0.935081\tvalid_1's auc: 0.940489\n",
      "[1400]\tvalid_0's auc: 0.935532\tvalid_1's auc: 0.940828\n",
      "[1450]\tvalid_0's auc: 0.936056\tvalid_1's auc: 0.941055\n",
      "[1500]\tvalid_0's auc: 0.936483\tvalid_1's auc: 0.941259\n",
      "[1550]\tvalid_0's auc: 0.937011\tvalid_1's auc: 0.941478\n",
      "[1600]\tvalid_0's auc: 0.937519\tvalid_1's auc: 0.941663\n",
      "[1650]\tvalid_0's auc: 0.938153\tvalid_1's auc: 0.941803\n",
      "[1700]\tvalid_0's auc: 0.938729\tvalid_1's auc: 0.941905\n",
      "[1750]\tvalid_0's auc: 0.939323\tvalid_1's auc: 0.942048\n",
      "[1800]\tvalid_0's auc: 0.939787\tvalid_1's auc: 0.942201\n",
      "[1850]\tvalid_0's auc: 0.940226\tvalid_1's auc: 0.942313\n",
      "[1900]\tvalid_0's auc: 0.940645\tvalid_1's auc: 0.942512\n",
      "[1950]\tvalid_0's auc: 0.941047\tvalid_1's auc: 0.942621\n",
      "[2000]\tvalid_0's auc: 0.941406\tvalid_1's auc: 0.942719\n",
      "[2050]\tvalid_0's auc: 0.941712\tvalid_1's auc: 0.942876\n",
      "[2100]\tvalid_0's auc: 0.942035\tvalid_1's auc: 0.942979\n",
      "[2150]\tvalid_0's auc: 0.942308\tvalid_1's auc: 0.94316\n",
      "[2200]\tvalid_0's auc: 0.942592\tvalid_1's auc: 0.943312\n",
      "[2250]\tvalid_0's auc: 0.942877\tvalid_1's auc: 0.943423\n",
      "[2300]\tvalid_0's auc: 0.943094\tvalid_1's auc: 0.943572\n",
      "[2350]\tvalid_0's auc: 0.943336\tvalid_1's auc: 0.9437\n",
      "[2400]\tvalid_0's auc: 0.943554\tvalid_1's auc: 0.943835\n",
      "[2450]\tvalid_0's auc: 0.943828\tvalid_1's auc: 0.943944\n",
      "[2500]\tvalid_0's auc: 0.944068\tvalid_1's auc: 0.944071\n",
      "[2550]\tvalid_0's auc: 0.944326\tvalid_1's auc: 0.944201\n",
      "[2600]\tvalid_0's auc: 0.944559\tvalid_1's auc: 0.944321\n",
      "[2650]\tvalid_0's auc: 0.944758\tvalid_1's auc: 0.944373\n",
      "[2700]\tvalid_0's auc: 0.944982\tvalid_1's auc: 0.944488\n",
      "[2750]\tvalid_0's auc: 0.94519\tvalid_1's auc: 0.944528\n",
      "[2800]\tvalid_0's auc: 0.945386\tvalid_1's auc: 0.944604\n",
      "[2850]\tvalid_0's auc: 0.945567\tvalid_1's auc: 0.94466\n",
      "[2900]\tvalid_0's auc: 0.945761\tvalid_1's auc: 0.944732\n",
      "[2950]\tvalid_0's auc: 0.945966\tvalid_1's auc: 0.944819\n",
      "[3000]\tvalid_0's auc: 0.946155\tvalid_1's auc: 0.944899\n",
      "[3050]\tvalid_0's auc: 0.946331\tvalid_1's auc: 0.944991\n",
      "[3100]\tvalid_0's auc: 0.946498\tvalid_1's auc: 0.94504\n",
      "[3150]\tvalid_0's auc: 0.946683\tvalid_1's auc: 0.945074\n",
      "[3200]\tvalid_0's auc: 0.946852\tvalid_1's auc: 0.945117\n",
      "[3250]\tvalid_0's auc: 0.947058\tvalid_1's auc: 0.945197\n",
      "[3300]\tvalid_0's auc: 0.947241\tvalid_1's auc: 0.945239\n",
      "[3350]\tvalid_0's auc: 0.947429\tvalid_1's auc: 0.945258\n",
      "[3400]\tvalid_0's auc: 0.947615\tvalid_1's auc: 0.945333\n",
      "[3450]\tvalid_0's auc: 0.947788\tvalid_1's auc: 0.945406\n",
      "[3500]\tvalid_0's auc: 0.947967\tvalid_1's auc: 0.945434\n",
      "[3550]\tvalid_0's auc: 0.948153\tvalid_1's auc: 0.945516\n",
      "[3600]\tvalid_0's auc: 0.948334\tvalid_1's auc: 0.945545\n",
      "[3650]\tvalid_0's auc: 0.948502\tvalid_1's auc: 0.94562\n",
      "[3700]\tvalid_0's auc: 0.948699\tvalid_1's auc: 0.94564\n",
      "[3750]\tvalid_0's auc: 0.948864\tvalid_1's auc: 0.945709\n",
      "[3800]\tvalid_0's auc: 0.949024\tvalid_1's auc: 0.945742\n",
      "[3850]\tvalid_0's auc: 0.949172\tvalid_1's auc: 0.945793\n",
      "[3900]\tvalid_0's auc: 0.949339\tvalid_1's auc: 0.945825\n",
      "[3950]\tvalid_0's auc: 0.949502\tvalid_1's auc: 0.945825\n",
      "[4000]\tvalid_0's auc: 0.949675\tvalid_1's auc: 0.945863\n",
      "[4050]\tvalid_0's auc: 0.949819\tvalid_1's auc: 0.945905\n",
      "[4100]\tvalid_0's auc: 0.949999\tvalid_1's auc: 0.945934\n",
      "[4150]\tvalid_0's auc: 0.950134\tvalid_1's auc: 0.945921\n",
      "[4200]\tvalid_0's auc: 0.95029\tvalid_1's auc: 0.945932\n",
      "[4250]\tvalid_0's auc: 0.950473\tvalid_1's auc: 0.945944\n",
      "[4300]\tvalid_0's auc: 0.950634\tvalid_1's auc: 0.945946\n",
      "[4350]\tvalid_0's auc: 0.950782\tvalid_1's auc: 0.94596\n",
      "[4400]\tvalid_0's auc: 0.950933\tvalid_1's auc: 0.945993\n",
      "[4450]\tvalid_0's auc: 0.951071\tvalid_1's auc: 0.946007\n",
      "[4500]\tvalid_0's auc: 0.951253\tvalid_1's auc: 0.94601\n",
      "[4550]\tvalid_0's auc: 0.951411\tvalid_1's auc: 0.946042\n",
      "[4600]\tvalid_0's auc: 0.951559\tvalid_1's auc: 0.946058\n",
      "[4650]\tvalid_0's auc: 0.951729\tvalid_1's auc: 0.946041\n",
      "[4700]\tvalid_0's auc: 0.951865\tvalid_1's auc: 0.946067\n",
      "[4750]\tvalid_0's auc: 0.952029\tvalid_1's auc: 0.9461\n",
      "[4800]\tvalid_0's auc: 0.952172\tvalid_1's auc: 0.946089\n",
      "[4850]\tvalid_0's auc: 0.95231\tvalid_1's auc: 0.94608\n",
      "[4900]\tvalid_0's auc: 0.952461\tvalid_1's auc: 0.946068\n",
      "[4950]\tvalid_0's auc: 0.952606\tvalid_1's auc: 0.946072\n",
      "[5000]\tvalid_0's auc: 0.952767\tvalid_1's auc: 0.946067\n",
      "[5050]\tvalid_0's auc: 0.952898\tvalid_1's auc: 0.946073\n",
      "[5100]\tvalid_0's auc: 0.95298\tvalid_1's auc: 0.9461\n",
      "[5150]\tvalid_0's auc: 0.953089\tvalid_1's auc: 0.946074\n",
      "[5200]\tvalid_0's auc: 0.95321\tvalid_1's auc: 0.946073\n",
      "[5250]\tvalid_0's auc: 0.953323\tvalid_1's auc: 0.946073\n",
      "[5300]\tvalid_0's auc: 0.95346\tvalid_1's auc: 0.946069\n",
      "[5350]\tvalid_0's auc: 0.953603\tvalid_1's auc: 0.946042\n",
      "[5400]\tvalid_0's auc: 0.95372\tvalid_1's auc: 0.946043\n",
      "[5450]\tvalid_0's auc: 0.953861\tvalid_1's auc: 0.946043\n",
      "[5500]\tvalid_0's auc: 0.954026\tvalid_1's auc: 0.946025\n",
      "[5550]\tvalid_0's auc: 0.954167\tvalid_1's auc: 0.946004\n",
      "[5600]\tvalid_0's auc: 0.954319\tvalid_1's auc: 0.946001\n",
      "[5650]\tvalid_0's auc: 0.954458\tvalid_1's auc: 0.946005\n",
      "[5700]\tvalid_0's auc: 0.954586\tvalid_1's auc: 0.946011\n",
      "[5750]\tvalid_0's auc: 0.954722\tvalid_1's auc: 0.946\n",
      "Early stopping, best iteration is:\n",
      "[4770]\tvalid_0's auc: 0.952086\tvalid_1's auc: 0.946112\n"
     ]
    }
   ],
   "source": [
    "lgb_params = {\n",
    "    \"n_estimators\": 100000,\n",
    "    \"boosting_type\": \"gbdt\",\n",
    "    \"num_leaves\": 3,\n",
    "    \"max_depth\": 2,\n",
    "    \"colsample_bytree\": 0.58,\n",
    "    \"metric\": None,\n",
    "    \"subsample\": 0.95,\n",
    "    \"learning_rate\": 0.004,\n",
    "    \"reg_lambda\": 1,\n",
    "    \"reg_alpha\": 1,\n",
    "    \"min_data_in_leaf\": 713,\n",
    "    \"min_child_samples\": 200,\n",
    "    \"max_bin\": 255,\n",
    "    \"cat_smooth\": 50,\n",
    "    \"max_cat_threshold\": 32,\n",
    "    \"cat_l2\": 50,\n",
    "    \"seed\": 1234786,\n",
    "    \"allow_nan\": True\n",
    "}\n",
    "model = lgb.LGBMClassifier(**lgb_params)\n",
    "\n",
    "feats = [f for i, f in enumerate(x_tr.columns) if ('coupon_details' not in f) and\n",
    "         (f not in ['campaign_id', 'customer_campaign_count', 'redemption_status'])]\n",
    "\n",
    "model.fit(x_tr[feats], y_tr, eval_set=[(x_tr[feats], y_tr), (x_val[feats], y_val)],\n",
    "          eval_metric='auc', verbose=50, early_stopping_rounds=1000) \n",
    "val_preds = model.predict_proba(x_val[feats])[:, 1]"
   ]
  },
  {
   "cell_type": "code",
   "execution_count": 44,
   "metadata": {},
   "outputs": [],
   "source": [
    "x_train, y_train, x_test, _ = load_data('test')\n",
    "x_train, x_test = map_campign_id(x_train, x_test, 'test')\n",
    "x_train = get_rank_features(x_train)\n",
    "x_test = get_rank_features(x_test)\n",
    "\n",
    "#train = load_pickle(FileNames.train_v2)\n",
    "#test = load_pickle(FileNames.test_v2)\n",
    "#hist_artifact = load_pickle(FileNames.cust_train_artifact1)\n",
    "#x_tr = map_brand_categories(x_tr, tr, hist_artifact)\n",
    "#x_val = map_brand_categories(x_val, val, hist_artifact)\n",
    "\n",
    "y_train = y_train[x_train.coupon_id != 8]\n",
    "x_train = x_train.loc[x_train.coupon_id != 8]\n",
    "\n",
    "x_train['common_brand_0'] = x_train['common_brand_0']/len(x_train)\n",
    "x_test['common_brand_0'] = x_test['common_brand_0']/(len(x_train) + len(x_test))\n",
    "\n",
    "x_train['common_item_set_0'] = x_train['common_item_set_0']/len(x_train)\n",
    "x_test['common_item_set_0'] = x_test['common_item_set_0']/(len(x_train) + len(x_test))\n",
    "#cvlist = StratifiedKFold(10, random_state=123).split(x_tr, y_tr)\n",
    "#x_tr['cust_trenc'] = cross_val_predict(trenc, x_tr, y_tr, cv=cvlist, n_jobs=-1, method='transform')\n",
    "#x_val['cust_trenc'] = trenc.fit(x_tr).transform(x_val)"
   ]
  },
  {
   "cell_type": "code",
   "execution_count": 45,
   "metadata": {
    "scrolled": true
   },
   "outputs": [
    {
     "name": "stdout",
     "output_type": "stream",
     "text": [
      "[50]\tvalid_0's auc: 0.912161\n",
      "[100]\tvalid_0's auc: 0.91468\n",
      "[150]\tvalid_0's auc: 0.91593\n",
      "[200]\tvalid_0's auc: 0.917118\n",
      "[250]\tvalid_0's auc: 0.918358\n",
      "[300]\tvalid_0's auc: 0.919922\n",
      "[350]\tvalid_0's auc: 0.922625\n",
      "[400]\tvalid_0's auc: 0.925502\n",
      "[450]\tvalid_0's auc: 0.927308\n",
      "[500]\tvalid_0's auc: 0.928345\n",
      "[550]\tvalid_0's auc: 0.929878\n",
      "[600]\tvalid_0's auc: 0.93182\n",
      "[650]\tvalid_0's auc: 0.933007\n",
      "[700]\tvalid_0's auc: 0.933697\n",
      "[750]\tvalid_0's auc: 0.934517\n",
      "[800]\tvalid_0's auc: 0.935226\n",
      "[850]\tvalid_0's auc: 0.935906\n",
      "[900]\tvalid_0's auc: 0.93665\n",
      "[950]\tvalid_0's auc: 0.937158\n",
      "[1000]\tvalid_0's auc: 0.937724\n",
      "[1050]\tvalid_0's auc: 0.938369\n",
      "[1100]\tvalid_0's auc: 0.938952\n",
      "[1150]\tvalid_0's auc: 0.93941\n",
      "[1200]\tvalid_0's auc: 0.939888\n",
      "[1250]\tvalid_0's auc: 0.940259\n",
      "[1300]\tvalid_0's auc: 0.940623\n",
      "[1350]\tvalid_0's auc: 0.940954\n",
      "[1400]\tvalid_0's auc: 0.941317\n",
      "[1450]\tvalid_0's auc: 0.941653\n",
      "[1500]\tvalid_0's auc: 0.94197\n",
      "[1550]\tvalid_0's auc: 0.942287\n",
      "[1600]\tvalid_0's auc: 0.942578\n",
      "[1650]\tvalid_0's auc: 0.94288\n",
      "[1700]\tvalid_0's auc: 0.943129\n",
      "[1750]\tvalid_0's auc: 0.943377\n",
      "[1800]\tvalid_0's auc: 0.94367\n",
      "[1850]\tvalid_0's auc: 0.943955\n",
      "[1900]\tvalid_0's auc: 0.944239\n",
      "[1950]\tvalid_0's auc: 0.944552\n",
      "[2000]\tvalid_0's auc: 0.944855\n",
      "[2050]\tvalid_0's auc: 0.945091\n",
      "[2100]\tvalid_0's auc: 0.945349\n",
      "[2150]\tvalid_0's auc: 0.945609\n",
      "[2200]\tvalid_0's auc: 0.94586\n",
      "[2250]\tvalid_0's auc: 0.946117\n",
      "[2300]\tvalid_0's auc: 0.946343\n",
      "[2350]\tvalid_0's auc: 0.94661\n",
      "[2400]\tvalid_0's auc: 0.94683\n",
      "[2450]\tvalid_0's auc: 0.947091\n",
      "[2500]\tvalid_0's auc: 0.947318\n",
      "[2550]\tvalid_0's auc: 0.947555\n",
      "[2600]\tvalid_0's auc: 0.947791\n",
      "[2650]\tvalid_0's auc: 0.948037\n",
      "[2700]\tvalid_0's auc: 0.948279\n",
      "[2750]\tvalid_0's auc: 0.948484\n",
      "[2800]\tvalid_0's auc: 0.948709\n",
      "[2850]\tvalid_0's auc: 0.948936\n",
      "[2900]\tvalid_0's auc: 0.949175\n",
      "[2950]\tvalid_0's auc: 0.949363\n",
      "[3000]\tvalid_0's auc: 0.949567\n",
      "[3050]\tvalid_0's auc: 0.949789\n",
      "[3100]\tvalid_0's auc: 0.950005\n",
      "[3150]\tvalid_0's auc: 0.950202\n",
      "[3200]\tvalid_0's auc: 0.950415\n",
      "[3250]\tvalid_0's auc: 0.950612\n",
      "[3300]\tvalid_0's auc: 0.950827\n",
      "[3350]\tvalid_0's auc: 0.951015\n",
      "[3400]\tvalid_0's auc: 0.951187\n",
      "[3450]\tvalid_0's auc: 0.951382\n",
      "[3500]\tvalid_0's auc: 0.951555\n",
      "[3550]\tvalid_0's auc: 0.951719\n",
      "[3600]\tvalid_0's auc: 0.951873\n",
      "[3650]\tvalid_0's auc: 0.952027\n",
      "[3700]\tvalid_0's auc: 0.952177\n",
      "[3750]\tvalid_0's auc: 0.952328\n",
      "[3800]\tvalid_0's auc: 0.952479\n",
      "[3850]\tvalid_0's auc: 0.95264\n",
      "[3900]\tvalid_0's auc: 0.952764\n",
      "[3950]\tvalid_0's auc: 0.952892\n",
      "[4000]\tvalid_0's auc: 0.953009\n",
      "[4050]\tvalid_0's auc: 0.953138\n",
      "[4100]\tvalid_0's auc: 0.953274\n",
      "[4150]\tvalid_0's auc: 0.953384\n",
      "[4200]\tvalid_0's auc: 0.953498\n",
      "[4250]\tvalid_0's auc: 0.953634\n",
      "[4300]\tvalid_0's auc: 0.953755\n",
      "[4350]\tvalid_0's auc: 0.953863\n",
      "[4400]\tvalid_0's auc: 0.953986\n",
      "[4450]\tvalid_0's auc: 0.954088\n",
      "[4500]\tvalid_0's auc: 0.954193\n",
      "[4550]\tvalid_0's auc: 0.954294\n",
      "[4600]\tvalid_0's auc: 0.954393\n",
      "[4650]\tvalid_0's auc: 0.954483\n",
      "[4700]\tvalid_0's auc: 0.954574\n",
      "[4750]\tvalid_0's auc: 0.954667\n",
      "[4800]\tvalid_0's auc: 0.95477\n",
      "[4850]\tvalid_0's auc: 0.954864\n",
      "[4900]\tvalid_0's auc: 0.95495\n",
      "[4950]\tvalid_0's auc: 0.955044\n",
      "[5000]\tvalid_0's auc: 0.955135\n"
     ]
    }
   ],
   "source": [
    "lgb_params['n_estimators'] = 5000\n",
    "model = lgb.LGBMClassifier(**lgb_params)\n",
    "\n",
    "model.fit(x_train[feats], y_train, eval_set=[(x_train[feats], y_train)], eval_metric='auc', verbose=50)\n",
    "test_preds = model.predict_proba(x_test[feats])[:, 1]"
   ]
  },
  {
   "cell_type": "code",
   "execution_count": 46,
   "metadata": {},
   "outputs": [
    {
     "name": "stderr",
     "output_type": "stream",
     "text": [
      "/home/mohsin/kg7/lib/python3.7/site-packages/scipy/stats/stats.py:1713: FutureWarning: Using a non-tuple sequence for multidimensional indexing is deprecated; use `arr[tuple(seq)]` instead of `arr[seq]`. In the future this will be interpreted as an array index, `arr[np.array(seq)]`, which will result either in an error or a different result.\n",
      "  return np.add.reduce(sorted[indexer] * weights, axis=axis) / sumval\n"
     ]
    },
    {
     "data": {
      "text/plain": [
       "<matplotlib.axes._subplots.AxesSubplot at 0x7f0518b3b198>"
      ]
     },
     "execution_count": 46,
     "metadata": {},
     "output_type": "execute_result"
    },
    {
     "data": {
      "image/png": "[encoded data removed]",
      "text/plain": [
       "<Figure size 432x288 with 1 Axes>"
      ]
     },
     "metadata": {
      "needs_background": "light"
     },
     "output_type": "display_data"
    }
   ],
   "source": [
    "sns.distplot(np.sqrt(val_preds))\n",
    "sns.distplot(np.sqrt(test_preds))"
   ]
  },
  {
   "cell_type": "code",
   "execution_count": 47,
   "metadata": {},
   "outputs": [
    {
     "name": "stderr",
     "output_type": "stream",
     "text": [
      "/home/mohsin/kg7/lib/python3.7/site-packages/ipykernel_launcher.py:3: SettingWithCopyWarning: \n",
      "A value is trying to be set on a copy of a slice from a DataFrame.\n",
      "Try using .loc[row_indexer,col_indexer] = value instead\n",
      "\n",
      "See the caveats in the documentation: http://pandas.pydata.org/pandas-docs/stable/user_guide/indexing.html#returning-a-view-versus-a-copy\n",
      "  This is separate from the ipykernel package so we can avoid doing imports until\n"
     ]
    },
    {
     "data": {
      "text/html": [
       "<div>\n",
       "<style scoped>\n",
       "    .dataframe tbody tr th:only-of-type {\n",
       "        vertical-align: middle;\n",
       "    }\n",
       "\n",
       "    .dataframe tbody tr th {\n",
       "        vertical-align: top;\n",
       "    }\n",
       "\n",
       "    .dataframe thead th {\n",
       "        text-align: right;\n",
       "    }\n",
       "</style>\n",
       "<table border=\"1\" class=\"dataframe\">\n",
       "  <thead>\n",
       "    <tr style=\"text-align: right;\">\n",
       "      <th></th>\n",
       "      <th>id</th>\n",
       "      <th>redemption_status</th>\n",
       "    </tr>\n",
       "  </thead>\n",
       "  <tbody>\n",
       "    <tr>\n",
       "      <td>0</td>\n",
       "      <td>3</td>\n",
       "      <td>0.461644</td>\n",
       "    </tr>\n",
       "    <tr>\n",
       "      <td>1</td>\n",
       "      <td>4</td>\n",
       "      <td>0.023622</td>\n",
       "    </tr>\n",
       "    <tr>\n",
       "      <td>2</td>\n",
       "      <td>5</td>\n",
       "      <td>0.007766</td>\n",
       "    </tr>\n",
       "    <tr>\n",
       "      <td>3</td>\n",
       "      <td>8</td>\n",
       "      <td>0.000863</td>\n",
       "    </tr>\n",
       "    <tr>\n",
       "      <td>4</td>\n",
       "      <td>10</td>\n",
       "      <td>0.000858</td>\n",
       "    </tr>\n",
       "  </tbody>\n",
       "</table>\n",
       "</div>"
      ],
      "text/plain": [
       "   id  redemption_status\n",
       "0   3           0.461644\n",
       "1   4           0.023622\n",
       "2   5           0.007766\n",
       "3   8           0.000863\n",
       "4  10           0.000858"
      ]
     },
     "execution_count": 47,
     "metadata": {},
     "output_type": "execute_result"
    }
   ],
   "source": [
    "test = pd.read_csv('data/test.csv')\n",
    "sub = test[['id']]\n",
    "sub['redemption_status'] = test_preds\n",
    "sub.head()"
   ]
  },
  {
   "cell_type": "code",
   "execution_count": 48,
   "metadata": {},
   "outputs": [],
   "source": [
    "sub.to_csv('data/sub_model14.csv', index=False)"
   ]
  },
  {
   "cell_type": "code",
   "execution_count": 51,
   "metadata": {},
   "outputs": [],
   "source": [
    "sube3 = pd.read_csv('data/sub_en3.csv')\n",
    "sub1 = pd.read_csv('data/sub_model8.csv')"
   ]
  },
  {
   "cell_type": "code",
   "execution_count": 52,
   "metadata": {},
   "outputs": [],
   "source": [
    "sub2 =pd.read_csv('data/sub_model9.csv')"
   ]
  },
  {
   "cell_type": "code",
   "execution_count": 53,
   "metadata": {},
   "outputs": [],
   "source": [
    "#sub = sub1['redemption_status']* + sube1['redemption_status']*"
   ]
  },
  {
   "cell_type": "code",
   "execution_count": 54,
   "metadata": {},
   "outputs": [],
   "source": [
    "from scipy.stats import spearmanr"
   ]
  },
  {
   "cell_type": "code",
   "execution_count": 55,
   "metadata": {},
   "outputs": [],
   "source": [
    "#spearmanr(test_preds, tmp.redemption_status)"
   ]
  },
  {
   "cell_type": "code",
   "execution_count": 56,
   "metadata": {},
   "outputs": [
    {
     "data": {
      "text/plain": [
       "SpearmanrResult(correlation=0.9553496696011489, pvalue=0.0)"
      ]
     },
     "execution_count": 56,
     "metadata": {},
     "output_type": "execute_result"
    }
   ],
   "source": [
    "spearmanr(test_preds, sub1.redemption_status)"
   ]
  },
  {
   "cell_type": "code",
   "execution_count": 57,
   "metadata": {},
   "outputs": [
    {
     "data": {
      "text/plain": [
       "SpearmanrResult(correlation=0.959200440338965, pvalue=0.0)"
      ]
     },
     "execution_count": 57,
     "metadata": {},
     "output_type": "execute_result"
    }
   ],
   "source": [
    "spearmanr(test_preds, sub2.redemption_status)"
   ]
  },
  {
   "cell_type": "code",
   "execution_count": 58,
   "metadata": {},
   "outputs": [
    {
     "data": {
      "text/plain": [
       "SpearmanrResult(correlation=0.9715702579093297, pvalue=0.0)"
      ]
     },
     "execution_count": 58,
     "metadata": {},
     "output_type": "execute_result"
    }
   ],
   "source": [
    "spearmanr(test_preds, sube3.redemption_status)"
   ]
  },
  {
   "cell_type": "code",
   "execution_count": 59,
   "metadata": {},
   "outputs": [
    {
     "name": "stderr",
     "output_type": "stream",
     "text": [
      "/home/mohsin/kg7/lib/python3.7/site-packages/ipykernel_launcher.py:3: SettingWithCopyWarning: \n",
      "A value is trying to be set on a copy of a slice from a DataFrame.\n",
      "Try using .loc[row_indexer,col_indexer] = value instead\n",
      "\n",
      "See the caveats in the documentation: http://pandas.pydata.org/pandas-docs/stable/user_guide/indexing.html#returning-a-view-versus-a-copy\n",
      "  This is separate from the ipykernel package so we can avoid doing imports until\n"
     ]
    },
    {
     "data": {
      "text/html": [
       "<div>\n",
       "<style scoped>\n",
       "    .dataframe tbody tr th:only-of-type {\n",
       "        vertical-align: middle;\n",
       "    }\n",
       "\n",
       "    .dataframe tbody tr th {\n",
       "        vertical-align: top;\n",
       "    }\n",
       "\n",
       "    .dataframe thead th {\n",
       "        text-align: right;\n",
       "    }\n",
       "</style>\n",
       "<table border=\"1\" class=\"dataframe\">\n",
       "  <thead>\n",
       "    <tr style=\"text-align: right;\">\n",
       "      <th></th>\n",
       "      <th>id</th>\n",
       "      <th>redemption_status</th>\n",
       "    </tr>\n",
       "  </thead>\n",
       "  <tbody>\n",
       "    <tr>\n",
       "      <td>0</td>\n",
       "      <td>3</td>\n",
       "      <td>0.435911</td>\n",
       "    </tr>\n",
       "    <tr>\n",
       "      <td>1</td>\n",
       "      <td>4</td>\n",
       "      <td>0.014099</td>\n",
       "    </tr>\n",
       "    <tr>\n",
       "      <td>2</td>\n",
       "      <td>5</td>\n",
       "      <td>0.009475</td>\n",
       "    </tr>\n",
       "    <tr>\n",
       "      <td>3</td>\n",
       "      <td>8</td>\n",
       "      <td>0.000857</td>\n",
       "    </tr>\n",
       "    <tr>\n",
       "      <td>4</td>\n",
       "      <td>10</td>\n",
       "      <td>0.000814</td>\n",
       "    </tr>\n",
       "  </tbody>\n",
       "</table>\n",
       "</div>"
      ],
      "text/plain": [
       "   id  redemption_status\n",
       "0   3           0.435911\n",
       "1   4           0.014099\n",
       "2   5           0.009475\n",
       "3   8           0.000857\n",
       "4  10           0.000814"
      ]
     },
     "execution_count": 59,
     "metadata": {},
     "output_type": "execute_result"
    }
   ],
   "source": [
    "from scipy.stats import gmean\n",
    "sub = test[['id']]\n",
    "sub['redemption_status'] = gmean([test_preds, sube3['redemption_status']])\n",
    "sub.head()"
   ]
  },
  {
   "cell_type": "code",
   "execution_count": 60,
   "metadata": {},
   "outputs": [],
   "source": [
    "sub.to_csv('data/sub_en4.csv', index=False)"
   ]
  },
  {
   "cell_type": "code",
   "execution_count": null,
   "metadata": {},
   "outputs": [],
   "source": []
  }
 ],
 "metadata": {
  "kernelspec": {
   "display_name": "Python 3",
   "language": "python",
   "name": "python3"
  },
  "language_info": {
   "codemirror_mode": {
    "name": "ipython",
    "version": 3
   },
   "file_extension": ".py",
   "mimetype": "text/x-python",
   "name": "python",
   "nbconvert_exporter": "python",
   "pygments_lexer": "ipython3",
   "version": "3.7.3"
  }
 },
 "nbformat": 4,
 "nbformat_minor": 2
}

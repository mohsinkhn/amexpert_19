{
 "cells": [
  {
   "cell_type": "code",
   "execution_count": 1,
   "metadata": {},
   "outputs": [],
   "source": [
    "import numpy as np\n",
    "import pandas as pd\n",
    "import json\n",
    "import joblib\n",
    "\n",
    "import matplotlib.pyplot as plt\n",
    "import seaborn as sns\n",
    "from sklearn.metrics import roc_auc_score\n",
    "import lightgbm as lgb\n",
    "from mllib.params import FieldNames, FileNames\n",
    "from mllib.utils import load_pickle\n",
    "from mllib.transformers import ListLen, SetLen, ListAggregation"
   ]
  },
  {
   "cell_type": "code",
   "execution_count": 2,
   "metadata": {},
   "outputs": [],
   "source": [
    "def make_x_y(x_tr, x_val, flag='val'):\n",
    "    y_tr = x_tr['redemption_status'].values\n",
    "\n",
    "    if flag == 'val':\n",
    "        y_val = x_val['redemption_status'].values\n",
    "    else:\n",
    "        y_val = None\n",
    "    return x_tr, y_tr, x_val, y_val\n",
    "\n",
    "\n",
    "def get_rank_features(df):\n",
    "    df['cust_coupon_rank1'] = df.groupby(['customer_id', 'campaign_id'])['common_item_set_0'].rank('max')/df['customer_campaign_count']\n",
    "    df['cust_coupon_rank2'] = df.groupby(['customer_id', 'campaign_id'])['common_item_set_1'].rank('max')/df['customer_campaign_count']\n",
    "    df['cust_coupon_rank3'] = df.groupby(['customer_id', 'campaign_id'])['common_item_set_2'].rank('max')/df['customer_campaign_count']\n",
    "    #df['cust_coupon_rank4'] = df.groupby(['customer_id', 'campaign_id'])['common_brand_0'].rank('max')/df['customer_campaign_count']\n",
    "    #df['cust_coupon_rank5'] = df.groupby(['customer_id', 'campaign_id'])['common_brand_1'].rank('max')/df['customer_campaign_count']\n",
    "    #df['cust_coupon_rank6'] = df.groupby(['customer_id', 'campaign_id'])['common_brand_2'].rank('max')/df['customer_campaign_count']\n",
    "\n",
    "    df['customer_rank1'] = df.groupby(['customer_id'])['common_item_set_1'].rank('max')/df.groupby('customer_id').size()\n",
    "    df['customer_rank2'] = df.groupby(['customer_id'])['common_brand_1'].rank('max')/df.groupby('customer_id').size()\n",
    "    df['customer_rank3'] = df.groupby(['customer_id'])['common_category_1'].rank('max')/df.groupby('customer_id').size()\n",
    "\n",
    "    # df['customer_rank4'] = df.groupby(['customer_id'])['common_brand_1'].rank('max')/df.groupby('customer_id').size()\n",
    "    # df['customer_rank3'] = df.groupby(['customer_id'])['common_item_set_2'].rank('max')/df.groupby('customer_id').size()\n",
    "    df['campaign_rank1'] = df.groupby(['campaign_id'])['common_item_set_0'].rank('max')/df.groupby('campaign_id').size()\n",
    "    df['campaign_rank2'] = df.groupby(['campaign_id'])['common_brand_0'].rank('max')/df.groupby('campaign_id').size()\n",
    "\n",
    "    #df['campaign_rank2'] = df.groupby(['campaign_id'])['common_item_set_1'].rank('max')/df.groupby('campaign_id').size()\n",
    "    #df['campaign_rank3'] = df.groupby(['campaign_id'])['common_item_set_2'].rank('max')/df.groupby('campaign_id').size()\n",
    "    #df['coupon_rank1'] = df.groupby(['coupon_id'])['common_item_set_0'].rank('max')/df.groupby('coupon_id').size()\n",
    "    df['coupon_rank1'] = df.groupby(['coupon_id'])['common_brand_0'].rank('max')/df.groupby('coupon_id').size()\n",
    "\n",
    "    #df['coupon_rank2'] = df.groupby(['coupon_id'])['common_item_set_1'].rank('max')/df.groupby('coupon_id').size()\n",
    "\n",
    "    return df\n",
    "\n",
    "\n",
    "def load_data(flag='val'):\n",
    "    if flag == 'val':\n",
    "        x_tr = load_pickle(FileNames.tr_features_v3)\n",
    "        x_val = load_pickle(FileNames.val_features_v3)\n",
    "    elif flag == 'test':\n",
    "        x_tr = load_pickle(FileNames.train_features_v3)\n",
    "        x_val = load_pickle(FileNames.test_features_v3)\n",
    "    \n",
    "    return make_x_y(x_tr, x_val, flag=flag)\n",
    "\n",
    "\n",
    "def map_campign_id(x_tr, x_val, flag='val'):\n",
    "    if flag == 'val':\n",
    "        tr = load_pickle(FileNames.tr_v2)\n",
    "        val = load_pickle(FileNames.val_v2)\n",
    "    elif flag == 'test':\n",
    "        tr = load_pickle(FileNames.train_v2)\n",
    "        val = load_pickle(FileNames.test_v2)\n",
    "        \n",
    "    x_tr['campaign_id'] = tr['campaign_id'].values\n",
    "    x_val['campaign_id'] = val['campaign_id'].values\n",
    "    return x_tr, x_val"
   ]
  },
  {
   "cell_type": "code",
   "execution_count": 3,
   "metadata": {},
   "outputs": [],
   "source": [
    "from mllib.targetencoder import TargetEncoderWithThresh"
   ]
  },
  {
   "cell_type": "code",
   "execution_count": 4,
   "metadata": {},
   "outputs": [],
   "source": [
    "x_tr, y_tr, x_val, y_val = load_data('val')\n",
    "x_tr, x_val = map_campign_id(x_tr, x_val, 'val')"
   ]
  },
  {
   "cell_type": "code",
   "execution_count": 5,
   "metadata": {},
   "outputs": [
    {
     "data": {
      "text/plain": [
       "387"
      ]
     },
     "execution_count": 5,
     "metadata": {},
     "output_type": "execute_result"
    }
   ],
   "source": [
    "n_feats = x_tr.shape[1] - 1\n",
    "n_feats"
   ]
  },
  {
   "cell_type": "code",
   "execution_count": 6,
   "metadata": {},
   "outputs": [],
   "source": [
    "x_tr = get_rank_features(x_tr)\n",
    "x_val = get_rank_features(x_val)"
   ]
  },
  {
   "cell_type": "code",
   "execution_count": 7,
   "metadata": {},
   "outputs": [],
   "source": [
    "y_tr = y_tr[x_tr.coupon_id != 8]\n",
    "x_tr = x_tr.loc[x_tr.coupon_id != 8]\n"
   ]
  },
  {
   "cell_type": "code",
   "execution_count": 13,
   "metadata": {
    "scrolled": true
   },
   "outputs": [
    {
     "name": "stdout",
     "output_type": "stream",
     "text": [
      "Training until validation scores don't improve for 400 rounds\n",
      "[50]\tvalid_0's auc: 0.889504\tvalid_1's auc: 0.89693\n",
      "[100]\tvalid_0's auc: 0.899592\tvalid_1's auc: 0.911004\n",
      "[150]\tvalid_0's auc: 0.904283\tvalid_1's auc: 0.914813\n",
      "[200]\tvalid_0's auc: 0.905422\tvalid_1's auc: 0.915239\n",
      "[250]\tvalid_0's auc: 0.906198\tvalid_1's auc: 0.916055\n",
      "[300]\tvalid_0's auc: 0.90973\tvalid_1's auc: 0.917351\n",
      "[350]\tvalid_0's auc: 0.910628\tvalid_1's auc: 0.918331\n",
      "[400]\tvalid_0's auc: 0.913009\tvalid_1's auc: 0.919872\n",
      "[450]\tvalid_0's auc: 0.913777\tvalid_1's auc: 0.920519\n",
      "[500]\tvalid_0's auc: 0.914689\tvalid_1's auc: 0.92107\n",
      "[550]\tvalid_0's auc: 0.914955\tvalid_1's auc: 0.921559\n",
      "[600]\tvalid_0's auc: 0.915893\tvalid_1's auc: 0.922282\n",
      "[650]\tvalid_0's auc: 0.916905\tvalid_1's auc: 0.923302\n",
      "[700]\tvalid_0's auc: 0.917769\tvalid_1's auc: 0.924252\n",
      "[750]\tvalid_0's auc: 0.918801\tvalid_1's auc: 0.925442\n",
      "[800]\tvalid_0's auc: 0.92057\tvalid_1's auc: 0.927253\n",
      "[850]\tvalid_0's auc: 0.921483\tvalid_1's auc: 0.928404\n",
      "[900]\tvalid_0's auc: 0.922749\tvalid_1's auc: 0.929766\n",
      "[950]\tvalid_0's auc: 0.923474\tvalid_1's auc: 0.930431\n",
      "[1000]\tvalid_0's auc: 0.924608\tvalid_1's auc: 0.931355\n",
      "[1050]\tvalid_0's auc: 0.925328\tvalid_1's auc: 0.932023\n",
      "[1100]\tvalid_0's auc: 0.925997\tvalid_1's auc: 0.932838\n",
      "[1150]\tvalid_0's auc: 0.926726\tvalid_1's auc: 0.933405\n",
      "[1200]\tvalid_0's auc: 0.927304\tvalid_1's auc: 0.93405\n",
      "[1250]\tvalid_0's auc: 0.928121\tvalid_1's auc: 0.93471\n",
      "[1300]\tvalid_0's auc: 0.928738\tvalid_1's auc: 0.935533\n",
      "[1350]\tvalid_0's auc: 0.92926\tvalid_1's auc: 0.935904\n",
      "[1400]\tvalid_0's auc: 0.929826\tvalid_1's auc: 0.936308\n",
      "[1450]\tvalid_0's auc: 0.930277\tvalid_1's auc: 0.936744\n",
      "[1500]\tvalid_0's auc: 0.930787\tvalid_1's auc: 0.937086\n",
      "[1550]\tvalid_0's auc: 0.931253\tvalid_1's auc: 0.937428\n",
      "[1600]\tvalid_0's auc: 0.931791\tvalid_1's auc: 0.93784\n",
      "[1650]\tvalid_0's auc: 0.932252\tvalid_1's auc: 0.938118\n",
      "[1700]\tvalid_0's auc: 0.932642\tvalid_1's auc: 0.938415\n",
      "[1750]\tvalid_0's auc: 0.933084\tvalid_1's auc: 0.938748\n",
      "[1800]\tvalid_0's auc: 0.933533\tvalid_1's auc: 0.939081\n",
      "[1850]\tvalid_0's auc: 0.933863\tvalid_1's auc: 0.93934\n",
      "[1900]\tvalid_0's auc: 0.934167\tvalid_1's auc: 0.93959\n",
      "[1950]\tvalid_0's auc: 0.934515\tvalid_1's auc: 0.939866\n",
      "[2000]\tvalid_0's auc: 0.934839\tvalid_1's auc: 0.940129\n",
      "[2050]\tvalid_0's auc: 0.935193\tvalid_1's auc: 0.940342\n",
      "[2100]\tvalid_0's auc: 0.935537\tvalid_1's auc: 0.940583\n",
      "[2150]\tvalid_0's auc: 0.935939\tvalid_1's auc: 0.940833\n",
      "[2200]\tvalid_0's auc: 0.936244\tvalid_1's auc: 0.941105\n",
      "[2250]\tvalid_0's auc: 0.936552\tvalid_1's auc: 0.94133\n",
      "[2300]\tvalid_0's auc: 0.936846\tvalid_1's auc: 0.941597\n",
      "[2350]\tvalid_0's auc: 0.937124\tvalid_1's auc: 0.94174\n",
      "[2400]\tvalid_0's auc: 0.937415\tvalid_1's auc: 0.941857\n",
      "[2450]\tvalid_0's auc: 0.937745\tvalid_1's auc: 0.942019\n",
      "[2500]\tvalid_0's auc: 0.938059\tvalid_1's auc: 0.942172\n",
      "[2550]\tvalid_0's auc: 0.93833\tvalid_1's auc: 0.942332\n",
      "[2600]\tvalid_0's auc: 0.938589\tvalid_1's auc: 0.942462\n",
      "[2650]\tvalid_0's auc: 0.938869\tvalid_1's auc: 0.942648\n",
      "[2700]\tvalid_0's auc: 0.939087\tvalid_1's auc: 0.942733\n",
      "[2750]\tvalid_0's auc: 0.939324\tvalid_1's auc: 0.942843\n",
      "[2800]\tvalid_0's auc: 0.939552\tvalid_1's auc: 0.942962\n",
      "[2850]\tvalid_0's auc: 0.939781\tvalid_1's auc: 0.943079\n",
      "[2900]\tvalid_0's auc: 0.939985\tvalid_1's auc: 0.943159\n",
      "[2950]\tvalid_0's auc: 0.940201\tvalid_1's auc: 0.943272\n",
      "[3000]\tvalid_0's auc: 0.940428\tvalid_1's auc: 0.943394\n",
      "[3050]\tvalid_0's auc: 0.940639\tvalid_1's auc: 0.943483\n",
      "[3100]\tvalid_0's auc: 0.940854\tvalid_1's auc: 0.943579\n",
      "[3150]\tvalid_0's auc: 0.941082\tvalid_1's auc: 0.943695\n",
      "[3200]\tvalid_0's auc: 0.941295\tvalid_1's auc: 0.943751\n",
      "[3250]\tvalid_0's auc: 0.94152\tvalid_1's auc: 0.943846\n",
      "[3300]\tvalid_0's auc: 0.941729\tvalid_1's auc: 0.943929\n",
      "[3350]\tvalid_0's auc: 0.941928\tvalid_1's auc: 0.944003\n",
      "[3400]\tvalid_0's auc: 0.942153\tvalid_1's auc: 0.944095\n",
      "[3450]\tvalid_0's auc: 0.942349\tvalid_1's auc: 0.944172\n",
      "[3500]\tvalid_0's auc: 0.942548\tvalid_1's auc: 0.944262\n",
      "[3550]\tvalid_0's auc: 0.942741\tvalid_1's auc: 0.944365\n",
      "[3600]\tvalid_0's auc: 0.942936\tvalid_1's auc: 0.944435\n",
      "[3650]\tvalid_0's auc: 0.943089\tvalid_1's auc: 0.944537\n",
      "[3700]\tvalid_0's auc: 0.943276\tvalid_1's auc: 0.944628\n",
      "[3750]\tvalid_0's auc: 0.943444\tvalid_1's auc: 0.944696\n",
      "[3800]\tvalid_0's auc: 0.943617\tvalid_1's auc: 0.944763\n",
      "[3850]\tvalid_0's auc: 0.943814\tvalid_1's auc: 0.944786\n",
      "[3900]\tvalid_0's auc: 0.943996\tvalid_1's auc: 0.94486\n",
      "[3950]\tvalid_0's auc: 0.944183\tvalid_1's auc: 0.944907\n",
      "[4000]\tvalid_0's auc: 0.944346\tvalid_1's auc: 0.944939\n",
      "[4050]\tvalid_0's auc: 0.9445\tvalid_1's auc: 0.945027\n",
      "[4100]\tvalid_0's auc: 0.944643\tvalid_1's auc: 0.945117\n",
      "[4150]\tvalid_0's auc: 0.944784\tvalid_1's auc: 0.94517\n",
      "[4200]\tvalid_0's auc: 0.944943\tvalid_1's auc: 0.945237\n",
      "[4250]\tvalid_0's auc: 0.945089\tvalid_1's auc: 0.94531\n",
      "[4300]\tvalid_0's auc: 0.945249\tvalid_1's auc: 0.945401\n",
      "[4350]\tvalid_0's auc: 0.94539\tvalid_1's auc: 0.945449\n",
      "[4400]\tvalid_0's auc: 0.94552\tvalid_1's auc: 0.945539\n",
      "[4450]\tvalid_0's auc: 0.945677\tvalid_1's auc: 0.945575\n",
      "[4500]\tvalid_0's auc: 0.945837\tvalid_1's auc: 0.945637\n",
      "[4550]\tvalid_0's auc: 0.945981\tvalid_1's auc: 0.94568\n",
      "[4600]\tvalid_0's auc: 0.946114\tvalid_1's auc: 0.945722\n",
      "[4650]\tvalid_0's auc: 0.946257\tvalid_1's auc: 0.945808\n",
      "[4700]\tvalid_0's auc: 0.946413\tvalid_1's auc: 0.94585\n",
      "[4750]\tvalid_0's auc: 0.946543\tvalid_1's auc: 0.945904\n",
      "[4800]\tvalid_0's auc: 0.946678\tvalid_1's auc: 0.945955\n",
      "[4850]\tvalid_0's auc: 0.946809\tvalid_1's auc: 0.946011\n",
      "[4900]\tvalid_0's auc: 0.946934\tvalid_1's auc: 0.946056\n",
      "[4950]\tvalid_0's auc: 0.947053\tvalid_1's auc: 0.946113\n",
      "[5000]\tvalid_0's auc: 0.947162\tvalid_1's auc: 0.94614\n",
      "[5050]\tvalid_0's auc: 0.94728\tvalid_1's auc: 0.946219\n",
      "[5100]\tvalid_0's auc: 0.947403\tvalid_1's auc: 0.946281\n",
      "[5150]\tvalid_0's auc: 0.947526\tvalid_1's auc: 0.946313\n",
      "[5200]\tvalid_0's auc: 0.947648\tvalid_1's auc: 0.946336\n",
      "[5250]\tvalid_0's auc: 0.947771\tvalid_1's auc: 0.946364\n",
      "[5300]\tvalid_0's auc: 0.947889\tvalid_1's auc: 0.94638\n",
      "[5350]\tvalid_0's auc: 0.948005\tvalid_1's auc: 0.946423\n",
      "[5400]\tvalid_0's auc: 0.948128\tvalid_1's auc: 0.946485\n",
      "[5450]\tvalid_0's auc: 0.948244\tvalid_1's auc: 0.946526\n",
      "[5500]\tvalid_0's auc: 0.948372\tvalid_1's auc: 0.946591\n",
      "[5550]\tvalid_0's auc: 0.948487\tvalid_1's auc: 0.946617\n",
      "[5600]\tvalid_0's auc: 0.948614\tvalid_1's auc: 0.946662\n",
      "[5650]\tvalid_0's auc: 0.948722\tvalid_1's auc: 0.946704\n",
      "[5700]\tvalid_0's auc: 0.948816\tvalid_1's auc: 0.946736\n",
      "[5750]\tvalid_0's auc: 0.948931\tvalid_1's auc: 0.946787\n",
      "[5800]\tvalid_0's auc: 0.949059\tvalid_1's auc: 0.946829\n",
      "[5850]\tvalid_0's auc: 0.94917\tvalid_1's auc: 0.946864\n",
      "[5900]\tvalid_0's auc: 0.949273\tvalid_1's auc: 0.946899\n",
      "[5950]\tvalid_0's auc: 0.949391\tvalid_1's auc: 0.946927\n",
      "[6000]\tvalid_0's auc: 0.949485\tvalid_1's auc: 0.946954\n",
      "[6050]\tvalid_0's auc: 0.949587\tvalid_1's auc: 0.946972\n",
      "[6100]\tvalid_0's auc: 0.949679\tvalid_1's auc: 0.946987\n",
      "[6150]\tvalid_0's auc: 0.949781\tvalid_1's auc: 0.947006\n",
      "[6200]\tvalid_0's auc: 0.949881\tvalid_1's auc: 0.947002\n",
      "[6250]\tvalid_0's auc: 0.949977\tvalid_1's auc: 0.947023\n",
      "[6300]\tvalid_0's auc: 0.95009\tvalid_1's auc: 0.947022\n",
      "[6350]\tvalid_0's auc: 0.950173\tvalid_1's auc: 0.947051\n",
      "[6400]\tvalid_0's auc: 0.950292\tvalid_1's auc: 0.947069\n",
      "[6450]\tvalid_0's auc: 0.9504\tvalid_1's auc: 0.947071\n",
      "[6500]\tvalid_0's auc: 0.950509\tvalid_1's auc: 0.947056\n",
      "[6550]\tvalid_0's auc: 0.950599\tvalid_1's auc: 0.947076\n",
      "[6600]\tvalid_0's auc: 0.950704\tvalid_1's auc: 0.947095\n",
      "[6650]\tvalid_0's auc: 0.950795\tvalid_1's auc: 0.947112\n",
      "[6700]\tvalid_0's auc: 0.950892\tvalid_1's auc: 0.947132\n",
      "[6750]\tvalid_0's auc: 0.95097\tvalid_1's auc: 0.947158\n",
      "[6800]\tvalid_0's auc: 0.951077\tvalid_1's auc: 0.947154\n",
      "[6850]\tvalid_0's auc: 0.951172\tvalid_1's auc: 0.947192\n",
      "[6900]\tvalid_0's auc: 0.951282\tvalid_1's auc: 0.9472\n",
      "[6950]\tvalid_0's auc: 0.951374\tvalid_1's auc: 0.947227\n",
      "[7000]\tvalid_0's auc: 0.951477\tvalid_1's auc: 0.947267\n",
      "[7050]\tvalid_0's auc: 0.951584\tvalid_1's auc: 0.947273\n",
      "[7100]\tvalid_0's auc: 0.951672\tvalid_1's auc: 0.94726\n",
      "[7150]\tvalid_0's auc: 0.951756\tvalid_1's auc: 0.947285\n",
      "[7200]\tvalid_0's auc: 0.951855\tvalid_1's auc: 0.947297\n",
      "[7250]\tvalid_0's auc: 0.951958\tvalid_1's auc: 0.947309\n",
      "[7300]\tvalid_0's auc: 0.952053\tvalid_1's auc: 0.947313\n",
      "[7350]\tvalid_0's auc: 0.952146\tvalid_1's auc: 0.947308\n",
      "[7400]\tvalid_0's auc: 0.952231\tvalid_1's auc: 0.947297\n",
      "[7450]\tvalid_0's auc: 0.952333\tvalid_1's auc: 0.947304\n"
     ]
    },
    {
     "name": "stdout",
     "output_type": "stream",
     "text": [
      "[7500]\tvalid_0's auc: 0.952417\tvalid_1's auc: 0.947327\n",
      "[7550]\tvalid_0's auc: 0.952509\tvalid_1's auc: 0.947332\n",
      "[7600]\tvalid_0's auc: 0.952616\tvalid_1's auc: 0.947337\n",
      "[7650]\tvalid_0's auc: 0.952722\tvalid_1's auc: 0.947331\n",
      "[7700]\tvalid_0's auc: 0.952813\tvalid_1's auc: 0.947327\n",
      "[7750]\tvalid_0's auc: 0.952913\tvalid_1's auc: 0.947331\n",
      "[7800]\tvalid_0's auc: 0.95299\tvalid_1's auc: 0.947347\n",
      "[7850]\tvalid_0's auc: 0.953081\tvalid_1's auc: 0.947341\n",
      "[7900]\tvalid_0's auc: 0.95318\tvalid_1's auc: 0.947342\n",
      "[7950]\tvalid_0's auc: 0.953264\tvalid_1's auc: 0.947334\n",
      "[8000]\tvalid_0's auc: 0.953355\tvalid_1's auc: 0.947361\n",
      "[8050]\tvalid_0's auc: 0.953449\tvalid_1's auc: 0.947385\n",
      "[8100]\tvalid_0's auc: 0.95353\tvalid_1's auc: 0.947395\n",
      "[8150]\tvalid_0's auc: 0.953617\tvalid_1's auc: 0.94742\n",
      "[8200]\tvalid_0's auc: 0.953729\tvalid_1's auc: 0.947412\n",
      "[8250]\tvalid_0's auc: 0.953822\tvalid_1's auc: 0.94742\n",
      "[8300]\tvalid_0's auc: 0.953909\tvalid_1's auc: 0.947411\n",
      "[8350]\tvalid_0's auc: 0.954006\tvalid_1's auc: 0.947423\n",
      "[8400]\tvalid_0's auc: 0.954075\tvalid_1's auc: 0.947416\n",
      "[8450]\tvalid_0's auc: 0.954158\tvalid_1's auc: 0.947443\n",
      "[8500]\tvalid_0's auc: 0.954241\tvalid_1's auc: 0.947439\n",
      "[8550]\tvalid_0's auc: 0.954327\tvalid_1's auc: 0.947461\n",
      "[8600]\tvalid_0's auc: 0.954406\tvalid_1's auc: 0.947457\n",
      "[8650]\tvalid_0's auc: 0.954487\tvalid_1's auc: 0.947458\n",
      "[8700]\tvalid_0's auc: 0.95457\tvalid_1's auc: 0.947469\n",
      "[8750]\tvalid_0's auc: 0.954653\tvalid_1's auc: 0.947478\n",
      "[8800]\tvalid_0's auc: 0.954737\tvalid_1's auc: 0.947488\n",
      "[8850]\tvalid_0's auc: 0.954823\tvalid_1's auc: 0.947505\n",
      "[8900]\tvalid_0's auc: 0.954901\tvalid_1's auc: 0.947495\n",
      "[8950]\tvalid_0's auc: 0.954964\tvalid_1's auc: 0.947503\n",
      "[9000]\tvalid_0's auc: 0.955049\tvalid_1's auc: 0.947507\n",
      "[9050]\tvalid_0's auc: 0.955143\tvalid_1's auc: 0.947482\n",
      "[9100]\tvalid_0's auc: 0.955211\tvalid_1's auc: 0.947457\n",
      "[9150]\tvalid_0's auc: 0.955298\tvalid_1's auc: 0.947452\n",
      "[9200]\tvalid_0's auc: 0.955374\tvalid_1's auc: 0.947464\n",
      "[9250]\tvalid_0's auc: 0.955451\tvalid_1's auc: 0.947479\n",
      "[9300]\tvalid_0's auc: 0.955525\tvalid_1's auc: 0.947472\n",
      "[9350]\tvalid_0's auc: 0.955601\tvalid_1's auc: 0.947491\n",
      "Early stopping, best iteration is:\n",
      "[8959]\tvalid_0's auc: 0.954979\tvalid_1's auc: 0.947513\n"
     ]
    }
   ],
   "source": [
    "lgb_params = {\n",
    "    \"n_estimators\": 100000,\n",
    "    \"boosting_type\": \"gbdt\",\n",
    "    \"num_leaves\": 3,\n",
    "    \"max_depth\": 2,\n",
    "    \"colsample_bytree\": 0.4,\n",
    "    \"metric\": None,\n",
    "    \"subsample\": 0.8,\n",
    "    \"learning_rate\": 0.003,\n",
    "    \"reg_lambda\": 1,\n",
    "    \"reg_alpha\": 1,\n",
    "    \"min_data_in_leaf\": 713,\n",
    "    \"min_child_samples\": 200,\n",
    "    \"max_bin\": 255,\n",
    "    \"cat_smooth\": 50,\n",
    "    \"max_cat_threshold\": 32,\n",
    "    \"cat_l2\": 50,\n",
    "    \"seed\": 78612356,\n",
    "    \"allow_nan\": True\n",
    "}\n",
    "model = lgb.LGBMClassifier(**lgb_params)\n",
    "\n",
    "feats = [f for i, f in enumerate(x_tr.columns) if ('coupon_details' not in f) and ('common_repeats' not in f) and\n",
    "         (f not in ['campaign_id', 'customer_campaign_count', 'redemption_status'])] \n",
    "#xx_tr = qnt.fit_transform(x_tr[feats].fillna(-999))\n",
    "#xx_val = qnt.fit_transform(x_val[feats].fillna(-999))\n",
    "model.fit(x_tr[feats], y_tr, eval_set=[(x_tr[feats], y_tr), (x_val[feats], y_val)], eval_metric='auc', verbose=50, early_stopping_rounds=400) \n",
    "val_preds = model.predict_proba(x_val[feats])[:, 1]"
   ]
  },
  {
   "cell_type": "code",
   "execution_count": 14,
   "metadata": {},
   "outputs": [],
   "source": [
    "x_train, y_train, x_test, _ = load_data('test')\n",
    "x_train, x_test = map_campign_id(x_train, x_test, 'test')\n",
    "x_train = get_rank_features(x_train)\n",
    "x_test = get_rank_features(x_test)\n",
    "\n",
    "#train = load_pickle(FileNames.train_v2)\n",
    "#test = load_pickle(FileNames.test_v2)\n",
    "#hist_artifact = load_pickle(FileNames.cust_train_artifact1)\n",
    "#x_tr = map_brand_categories(x_tr, tr, hist_artifact)\n",
    "#x_val = map_brand_categories(x_val, val, hist_artifact)\n",
    "\n",
    "y_train = y_train[x_train.coupon_id != 8]\n",
    "x_train = x_train.loc[x_train.coupon_id != 8]\n",
    "\n",
    "#cvlist = StratifiedKFold(10, random_state=123).split(x_tr, y_tr)\n",
    "#x_tr['cust_trenc'] = cross_val_predict(trenc, x_tr, y_tr, cv=cvlist, n_jobs=-1, method='transform')\n",
    "#x_val['cust_trenc'] = trenc.fit(x_tr).transform(x_val)"
   ]
  },
  {
   "cell_type": "code",
   "execution_count": 15,
   "metadata": {
    "scrolled": true
   },
   "outputs": [
    {
     "name": "stdout",
     "output_type": "stream",
     "text": [
      "[50]\tvalid_0's auc: 0.903999\n",
      "[100]\tvalid_0's auc: 0.909394\n",
      "[150]\tvalid_0's auc: 0.910841\n",
      "[200]\tvalid_0's auc: 0.913004\n",
      "[250]\tvalid_0's auc: 0.915065\n",
      "[300]\tvalid_0's auc: 0.916877\n",
      "[350]\tvalid_0's auc: 0.919285\n",
      "[400]\tvalid_0's auc: 0.920728\n",
      "[450]\tvalid_0's auc: 0.922566\n",
      "[500]\tvalid_0's auc: 0.923801\n",
      "[550]\tvalid_0's auc: 0.924485\n",
      "[600]\tvalid_0's auc: 0.925337\n",
      "[650]\tvalid_0's auc: 0.926161\n",
      "[700]\tvalid_0's auc: 0.927089\n",
      "[750]\tvalid_0's auc: 0.92855\n",
      "[800]\tvalid_0's auc: 0.929708\n",
      "[850]\tvalid_0's auc: 0.930785\n",
      "[900]\tvalid_0's auc: 0.931757\n",
      "[950]\tvalid_0's auc: 0.932821\n",
      "[1000]\tvalid_0's auc: 0.933725\n",
      "[1050]\tvalid_0's auc: 0.934257\n",
      "[1100]\tvalid_0's auc: 0.934892\n",
      "[1150]\tvalid_0's auc: 0.935299\n",
      "[1200]\tvalid_0's auc: 0.935848\n",
      "[1250]\tvalid_0's auc: 0.936257\n",
      "[1300]\tvalid_0's auc: 0.93666\n",
      "[1350]\tvalid_0's auc: 0.937137\n",
      "[1400]\tvalid_0's auc: 0.937482\n",
      "[1450]\tvalid_0's auc: 0.937838\n",
      "[1500]\tvalid_0's auc: 0.938081\n",
      "[1550]\tvalid_0's auc: 0.938468\n",
      "[1600]\tvalid_0's auc: 0.938833\n",
      "[1650]\tvalid_0's auc: 0.939125\n",
      "[1700]\tvalid_0's auc: 0.939468\n",
      "[1750]\tvalid_0's auc: 0.939692\n",
      "[1800]\tvalid_0's auc: 0.939902\n",
      "[1850]\tvalid_0's auc: 0.940172\n",
      "[1900]\tvalid_0's auc: 0.940388\n",
      "[1950]\tvalid_0's auc: 0.940582\n",
      "[2000]\tvalid_0's auc: 0.940845\n",
      "[2050]\tvalid_0's auc: 0.941025\n",
      "[2100]\tvalid_0's auc: 0.941205\n",
      "[2150]\tvalid_0's auc: 0.9414\n",
      "[2200]\tvalid_0's auc: 0.941591\n",
      "[2250]\tvalid_0's auc: 0.941772\n",
      "[2300]\tvalid_0's auc: 0.941975\n",
      "[2350]\tvalid_0's auc: 0.94215\n",
      "[2400]\tvalid_0's auc: 0.942332\n",
      "[2450]\tvalid_0's auc: 0.94251\n",
      "[2500]\tvalid_0's auc: 0.942692\n",
      "[2550]\tvalid_0's auc: 0.942893\n",
      "[2600]\tvalid_0's auc: 0.94307\n",
      "[2650]\tvalid_0's auc: 0.943269\n",
      "[2700]\tvalid_0's auc: 0.943452\n",
      "[2750]\tvalid_0's auc: 0.943651\n",
      "[2800]\tvalid_0's auc: 0.943819\n",
      "[2850]\tvalid_0's auc: 0.943958\n",
      "[2900]\tvalid_0's auc: 0.944106\n",
      "[2950]\tvalid_0's auc: 0.944249\n",
      "[3000]\tvalid_0's auc: 0.944413\n",
      "[3050]\tvalid_0's auc: 0.944547\n",
      "[3100]\tvalid_0's auc: 0.9447\n",
      "[3150]\tvalid_0's auc: 0.944878\n",
      "[3200]\tvalid_0's auc: 0.945047\n",
      "[3250]\tvalid_0's auc: 0.945208\n",
      "[3300]\tvalid_0's auc: 0.945377\n",
      "[3350]\tvalid_0's auc: 0.945531\n",
      "[3400]\tvalid_0's auc: 0.945707\n",
      "[3450]\tvalid_0's auc: 0.945853\n",
      "[3500]\tvalid_0's auc: 0.946033\n",
      "[3550]\tvalid_0's auc: 0.946205\n",
      "[3600]\tvalid_0's auc: 0.946373\n",
      "[3650]\tvalid_0's auc: 0.946508\n",
      "[3700]\tvalid_0's auc: 0.946666\n",
      "[3750]\tvalid_0's auc: 0.946806\n",
      "[3800]\tvalid_0's auc: 0.94696\n",
      "[3850]\tvalid_0's auc: 0.947089\n",
      "[3900]\tvalid_0's auc: 0.947248\n",
      "[3950]\tvalid_0's auc: 0.947416\n",
      "[4000]\tvalid_0's auc: 0.947539\n",
      "[4050]\tvalid_0's auc: 0.94769\n",
      "[4100]\tvalid_0's auc: 0.947829\n",
      "[4150]\tvalid_0's auc: 0.94797\n",
      "[4200]\tvalid_0's auc: 0.948103\n",
      "[4250]\tvalid_0's auc: 0.948245\n",
      "[4300]\tvalid_0's auc: 0.94837\n",
      "[4350]\tvalid_0's auc: 0.948488\n",
      "[4400]\tvalid_0's auc: 0.948616\n",
      "[4450]\tvalid_0's auc: 0.948737\n",
      "[4500]\tvalid_0's auc: 0.94887\n",
      "[4550]\tvalid_0's auc: 0.948985\n",
      "[4600]\tvalid_0's auc: 0.949084\n",
      "[4650]\tvalid_0's auc: 0.949202\n",
      "[4700]\tvalid_0's auc: 0.949316\n",
      "[4750]\tvalid_0's auc: 0.949423\n",
      "[4800]\tvalid_0's auc: 0.94954\n",
      "[4850]\tvalid_0's auc: 0.949653\n",
      "[4900]\tvalid_0's auc: 0.949756\n",
      "[4950]\tvalid_0's auc: 0.94986\n",
      "[5000]\tvalid_0's auc: 0.94996\n",
      "[5050]\tvalid_0's auc: 0.950057\n",
      "[5100]\tvalid_0's auc: 0.950159\n",
      "[5150]\tvalid_0's auc: 0.950258\n",
      "[5200]\tvalid_0's auc: 0.950352\n",
      "[5250]\tvalid_0's auc: 0.950427\n",
      "[5300]\tvalid_0's auc: 0.950511\n",
      "[5350]\tvalid_0's auc: 0.950607\n",
      "[5400]\tvalid_0's auc: 0.950711\n",
      "[5450]\tvalid_0's auc: 0.950815\n",
      "[5500]\tvalid_0's auc: 0.95091\n",
      "[5550]\tvalid_0's auc: 0.950999\n",
      "[5600]\tvalid_0's auc: 0.951073\n",
      "[5650]\tvalid_0's auc: 0.951162\n",
      "[5700]\tvalid_0's auc: 0.951245\n",
      "[5750]\tvalid_0's auc: 0.951324\n",
      "[5800]\tvalid_0's auc: 0.951398\n",
      "[5850]\tvalid_0's auc: 0.951471\n",
      "[5900]\tvalid_0's auc: 0.951547\n",
      "[5950]\tvalid_0's auc: 0.951621\n",
      "[6000]\tvalid_0's auc: 0.951683\n",
      "[6050]\tvalid_0's auc: 0.951757\n",
      "[6100]\tvalid_0's auc: 0.95182\n",
      "[6150]\tvalid_0's auc: 0.951892\n",
      "[6200]\tvalid_0's auc: 0.951962\n",
      "[6250]\tvalid_0's auc: 0.952046\n",
      "[6300]\tvalid_0's auc: 0.952118\n",
      "[6350]\tvalid_0's auc: 0.952184\n",
      "[6400]\tvalid_0's auc: 0.95226\n",
      "[6450]\tvalid_0's auc: 0.952343\n",
      "[6500]\tvalid_0's auc: 0.952412\n",
      "[6550]\tvalid_0's auc: 0.952489\n",
      "[6600]\tvalid_0's auc: 0.952559\n",
      "[6650]\tvalid_0's auc: 0.95262\n",
      "[6700]\tvalid_0's auc: 0.952689\n",
      "[6750]\tvalid_0's auc: 0.952767\n",
      "[6800]\tvalid_0's auc: 0.952836\n",
      "[6850]\tvalid_0's auc: 0.952899\n",
      "[6900]\tvalid_0's auc: 0.952974\n",
      "[6950]\tvalid_0's auc: 0.953056\n",
      "[7000]\tvalid_0's auc: 0.953124\n",
      "[7050]\tvalid_0's auc: 0.953181\n",
      "[7100]\tvalid_0's auc: 0.953263\n",
      "[7150]\tvalid_0's auc: 0.953324\n",
      "[7200]\tvalid_0's auc: 0.953395\n",
      "[7250]\tvalid_0's auc: 0.953474\n",
      "[7300]\tvalid_0's auc: 0.953547\n",
      "[7350]\tvalid_0's auc: 0.953608\n",
      "[7400]\tvalid_0's auc: 0.95367\n",
      "[7450]\tvalid_0's auc: 0.953738\n",
      "[7500]\tvalid_0's auc: 0.953796\n",
      "[7550]\tvalid_0's auc: 0.953861\n",
      "[7600]\tvalid_0's auc: 0.953927\n",
      "[7650]\tvalid_0's auc: 0.953985\n",
      "[7700]\tvalid_0's auc: 0.954051\n",
      "[7750]\tvalid_0's auc: 0.954113\n",
      "[7800]\tvalid_0's auc: 0.954181\n",
      "[7850]\tvalid_0's auc: 0.954242\n",
      "[7900]\tvalid_0's auc: 0.95431\n",
      "[7950]\tvalid_0's auc: 0.954367\n",
      "[8000]\tvalid_0's auc: 0.954423\n",
      "[8050]\tvalid_0's auc: 0.954479\n",
      "[8100]\tvalid_0's auc: 0.954536\n",
      "[8150]\tvalid_0's auc: 0.954588\n",
      "[8200]\tvalid_0's auc: 0.954648\n",
      "[8250]\tvalid_0's auc: 0.954703\n",
      "[8300]\tvalid_0's auc: 0.954764\n",
      "[8350]\tvalid_0's auc: 0.954821\n",
      "[8400]\tvalid_0's auc: 0.954885\n",
      "[8450]\tvalid_0's auc: 0.954946\n",
      "[8500]\tvalid_0's auc: 0.955\n",
      "[8550]\tvalid_0's auc: 0.955055\n",
      "[8600]\tvalid_0's auc: 0.9551\n",
      "[8650]\tvalid_0's auc: 0.955154\n",
      "[8700]\tvalid_0's auc: 0.955216\n",
      "[8750]\tvalid_0's auc: 0.955272\n",
      "[8800]\tvalid_0's auc: 0.955318\n",
      "[8850]\tvalid_0's auc: 0.955374\n",
      "[8900]\tvalid_0's auc: 0.955429\n",
      "[8950]\tvalid_0's auc: 0.955477\n",
      "[9000]\tvalid_0's auc: 0.955522\n",
      "[9050]\tvalid_0's auc: 0.955573\n",
      "[9100]\tvalid_0's auc: 0.955616\n",
      "[9150]\tvalid_0's auc: 0.955674\n",
      "[9200]\tvalid_0's auc: 0.955717\n",
      "[9250]\tvalid_0's auc: 0.955767\n",
      "[9300]\tvalid_0's auc: 0.955829\n",
      "[9350]\tvalid_0's auc: 0.955869\n",
      "[9400]\tvalid_0's auc: 0.955917\n",
      "[9450]\tvalid_0's auc: 0.955967\n",
      "[9500]\tvalid_0's auc: 0.956016\n"
     ]
    }
   ],
   "source": [
    "lgb_params['n_estimators'] = 9500\n",
    "model = lgb.LGBMClassifier(**lgb_params)\n",
    "\n",
    "model.fit(x_train[feats], y_train, eval_set=[(x_train[feats], y_train)], eval_metric='auc', verbose=50)\n",
    "test_preds = model.predict_proba(x_test[feats])[:, 1]"
   ]
  },
  {
   "cell_type": "code",
   "execution_count": 16,
   "metadata": {},
   "outputs": [
    {
     "name": "stderr",
     "output_type": "stream",
     "text": [
      "/home/mohsin/kg7/lib/python3.7/site-packages/scipy/stats/stats.py:1713: FutureWarning: Using a non-tuple sequence for multidimensional indexing is deprecated; use `arr[tuple(seq)]` instead of `arr[seq]`. In the future this will be interpreted as an array index, `arr[np.array(seq)]`, which will result either in an error or a different result.\n",
      "  return np.add.reduce(sorted[indexer] * weights, axis=axis) / sumval\n"
     ]
    },
    {
     "data": {
      "text/plain": [
       "<matplotlib.axes._subplots.AxesSubplot at 0x7fcc86ec3748>"
      ]
     },
     "execution_count": 16,
     "metadata": {},
     "output_type": "execute_result"
    },
    {
     "data": {
      "image/png": "[encoded data removed]",
      "text/plain": [
       "<Figure size 432x288 with 1 Axes>"
      ]
     },
     "metadata": {
      "needs_background": "light"
     },
     "output_type": "display_data"
    }
   ],
   "source": [
    "sns.distplot(np.sqrt(val_preds))\n",
    "sns.distplot(np.sqrt(test_preds))"
   ]
  },
  {
   "cell_type": "code",
   "execution_count": 17,
   "metadata": {},
   "outputs": [
    {
     "name": "stderr",
     "output_type": "stream",
     "text": [
      "/home/mohsin/kg7/lib/python3.7/site-packages/ipykernel_launcher.py:3: SettingWithCopyWarning: \n",
      "A value is trying to be set on a copy of a slice from a DataFrame.\n",
      "Try using .loc[row_indexer,col_indexer] = value instead\n",
      "\n",
      "See the caveats in the documentation: http://pandas.pydata.org/pandas-docs/stable/user_guide/indexing.html#returning-a-view-versus-a-copy\n",
      "  This is separate from the ipykernel package so we can avoid doing imports until\n"
     ]
    },
    {
     "data": {
      "text/html": [
       "<div>\n",
       "<style scoped>\n",
       "    .dataframe tbody tr th:only-of-type {\n",
       "        vertical-align: middle;\n",
       "    }\n",
       "\n",
       "    .dataframe tbody tr th {\n",
       "        vertical-align: top;\n",
       "    }\n",
       "\n",
       "    .dataframe thead th {\n",
       "        text-align: right;\n",
       "    }\n",
       "</style>\n",
       "<table border=\"1\" class=\"dataframe\">\n",
       "  <thead>\n",
       "    <tr style=\"text-align: right;\">\n",
       "      <th></th>\n",
       "      <th>id</th>\n",
       "      <th>redemption_status</th>\n",
       "    </tr>\n",
       "  </thead>\n",
       "  <tbody>\n",
       "    <tr>\n",
       "      <td>0</td>\n",
       "      <td>3</td>\n",
       "      <td>0.408516</td>\n",
       "    </tr>\n",
       "    <tr>\n",
       "      <td>1</td>\n",
       "      <td>4</td>\n",
       "      <td>0.012943</td>\n",
       "    </tr>\n",
       "    <tr>\n",
       "      <td>2</td>\n",
       "      <td>5</td>\n",
       "      <td>0.011043</td>\n",
       "    </tr>\n",
       "    <tr>\n",
       "      <td>3</td>\n",
       "      <td>8</td>\n",
       "      <td>0.000658</td>\n",
       "    </tr>\n",
       "    <tr>\n",
       "      <td>4</td>\n",
       "      <td>10</td>\n",
       "      <td>0.000626</td>\n",
       "    </tr>\n",
       "  </tbody>\n",
       "</table>\n",
       "</div>"
      ],
      "text/plain": [
       "   id  redemption_status\n",
       "0   3           0.408516\n",
       "1   4           0.012943\n",
       "2   5           0.011043\n",
       "3   8           0.000658\n",
       "4  10           0.000626"
      ]
     },
     "execution_count": 17,
     "metadata": {},
     "output_type": "execute_result"
    }
   ],
   "source": [
    "test = pd.read_csv('data/test.csv')\n",
    "sub = test[['id']]\n",
    "sub['redemption_status'] = test_preds\n",
    "sub.head()"
   ]
  },
  {
   "cell_type": "code",
   "execution_count": 18,
   "metadata": {},
   "outputs": [],
   "source": [
    "sub.to_csv('data/sub_model13.csv', index=False)"
   ]
  },
  {
   "cell_type": "code",
   "execution_count": 20,
   "metadata": {},
   "outputs": [],
   "source": [
    "sube1 = pd.read_csv('sub_en1.csv')\n",
    "sub1 = pd.read_csv('data/sub_model8.csv')"
   ]
  },
  {
   "cell_type": "code",
   "execution_count": 21,
   "metadata": {},
   "outputs": [],
   "source": [
    "sub2 =pd.read_csv('data/sub_model9.csv')"
   ]
  },
  {
   "cell_type": "code",
   "execution_count": 22,
   "metadata": {},
   "outputs": [],
   "source": [
    "#sub = sub1['redemption_status']* + sube1['redemption_status']*"
   ]
  },
  {
   "cell_type": "code",
   "execution_count": 23,
   "metadata": {},
   "outputs": [],
   "source": [
    "from scipy.stats import spearmanr"
   ]
  },
  {
   "cell_type": "code",
   "execution_count": 25,
   "metadata": {},
   "outputs": [],
   "source": [
    "#spearmanr(test_preds, tmp.redemption_status)"
   ]
  },
  {
   "cell_type": "code",
   "execution_count": 31,
   "metadata": {},
   "outputs": [
    {
     "data": {
      "text/plain": [
       "SpearmanrResult(correlation=0.9770148311504376, pvalue=0.0)"
      ]
     },
     "execution_count": 31,
     "metadata": {},
     "output_type": "execute_result"
    }
   ],
   "source": [
    "spearmanr(test_preds, sub1.redemption_status)"
   ]
  },
  {
   "cell_type": "code",
   "execution_count": 29,
   "metadata": {},
   "outputs": [
    {
     "data": {
      "text/plain": [
       "SpearmanrResult(correlation=0.97845476253656, pvalue=0.0)"
      ]
     },
     "execution_count": 29,
     "metadata": {},
     "output_type": "execute_result"
    }
   ],
   "source": [
    "spearmanr(test_preds, sub2.redemption_status)"
   ]
  },
  {
   "cell_type": "code",
   "execution_count": 30,
   "metadata": {},
   "outputs": [
    {
     "data": {
      "text/plain": [
       "SpearmanrResult(correlation=0.9805996999383747, pvalue=0.0)"
      ]
     },
     "execution_count": 30,
     "metadata": {},
     "output_type": "execute_result"
    }
   ],
   "source": [
    "spearmanr(test_preds, sube1.redemption_status)"
   ]
  },
  {
   "cell_type": "code",
   "execution_count": 33,
   "metadata": {},
   "outputs": [
    {
     "name": "stderr",
     "output_type": "stream",
     "text": [
      "/home/mohsin/kg7/lib/python3.7/site-packages/ipykernel_launcher.py:3: SettingWithCopyWarning: \n",
      "A value is trying to be set on a copy of a slice from a DataFrame.\n",
      "Try using .loc[row_indexer,col_indexer] = value instead\n",
      "\n",
      "See the caveats in the documentation: http://pandas.pydata.org/pandas-docs/stable/user_guide/indexing.html#returning-a-view-versus-a-copy\n",
      "  This is separate from the ipykernel package so we can avoid doing imports until\n"
     ]
    },
    {
     "data": {
      "text/html": [
       "<div>\n",
       "<style scoped>\n",
       "    .dataframe tbody tr th:only-of-type {\n",
       "        vertical-align: middle;\n",
       "    }\n",
       "\n",
       "    .dataframe tbody tr th {\n",
       "        vertical-align: top;\n",
       "    }\n",
       "\n",
       "    .dataframe thead th {\n",
       "        text-align: right;\n",
       "    }\n",
       "</style>\n",
       "<table border=\"1\" class=\"dataframe\">\n",
       "  <thead>\n",
       "    <tr style=\"text-align: right;\">\n",
       "      <th></th>\n",
       "      <th>id</th>\n",
       "      <th>redemption_status</th>\n",
       "    </tr>\n",
       "  </thead>\n",
       "  <tbody>\n",
       "    <tr>\n",
       "      <td>0</td>\n",
       "      <td>3</td>\n",
       "      <td>0.411612</td>\n",
       "    </tr>\n",
       "    <tr>\n",
       "      <td>1</td>\n",
       "      <td>4</td>\n",
       "      <td>0.008415</td>\n",
       "    </tr>\n",
       "    <tr>\n",
       "      <td>2</td>\n",
       "      <td>5</td>\n",
       "      <td>0.011559</td>\n",
       "    </tr>\n",
       "    <tr>\n",
       "      <td>3</td>\n",
       "      <td>8</td>\n",
       "      <td>0.000850</td>\n",
       "    </tr>\n",
       "    <tr>\n",
       "      <td>4</td>\n",
       "      <td>10</td>\n",
       "      <td>0.000772</td>\n",
       "    </tr>\n",
       "  </tbody>\n",
       "</table>\n",
       "</div>"
      ],
      "text/plain": [
       "   id  redemption_status\n",
       "0   3           0.411612\n",
       "1   4           0.008415\n",
       "2   5           0.011559\n",
       "3   8           0.000850\n",
       "4  10           0.000772"
      ]
     },
     "execution_count": 33,
     "metadata": {},
     "output_type": "execute_result"
    }
   ],
   "source": [
    "from scipy.stats import gmean\n",
    "sub = test[['id']]\n",
    "sub['redemption_status'] = gmean([test_preds, sub1['redemption_status'], sub2['redemption_status']])\n",
    "sub.head()"
   ]
  },
  {
   "cell_type": "code",
   "execution_count": 34,
   "metadata": {},
   "outputs": [],
   "source": [
    "sub.to_csv('data/sub_en3.csv', index=False)"
   ]
  },
  {
   "cell_type": "code",
   "execution_count": null,
   "metadata": {},
   "outputs": [],
   "source": []
  }
 ],
 "metadata": {
  "kernelspec": {
   "display_name": "Python 3",
   "language": "python",
   "name": "python3"
  },
  "language_info": {
   "codemirror_mode": {
    "name": "ipython",
    "version": 3
   },
   "file_extension": ".py",
   "mimetype": "text/x-python",
   "name": "python",
   "nbconvert_exporter": "python",
   "pygments_lexer": "ipython3",
   "version": "3.7.3"
  }
 },
 "nbformat": 4,
 "nbformat_minor": 2
}
